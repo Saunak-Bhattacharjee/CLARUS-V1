{
  "cells": [
    {
      "cell_type": "code",
      "execution_count": 1,
      "metadata": {
        "colab": {
          "base_uri": "https://localhost:8080/"
        },
        "id": "BwGzzwuRkX2r",
        "outputId": "5e81e820-c1b7-4842-be0b-3343d3b9db93"
      },
      "outputs": [
        {
          "name": "stdout",
          "output_type": "stream",
          "text": [
            "Mounted at /content/drive\n"
          ]
        }
      ],
      "source": [
        "from google.colab import drive\n",
        "drive.mount('/content/drive')"
      ]
    },
    {
      "cell_type": "code",
      "execution_count": 2,
      "metadata": {
        "colab": {
          "base_uri": "https://localhost:8080/"
        },
        "id": "35dnEJJvp0yU",
        "outputId": "252d3987-72b5-4671-ebf2-f812964afdf7"
      },
      "outputs": [
        {
          "name": "stdout",
          "output_type": "stream",
          "text": [
            "Collecting easyocr\n",
            "  Downloading easyocr-1.7.2-py3-none-any.whl.metadata (10 kB)\n",
            "Requirement already satisfied: torch in /usr/local/lib/python3.11/dist-packages (from easyocr) (2.6.0+cu124)\n",
            "Requirement already satisfied: torchvision>=0.5 in /usr/local/lib/python3.11/dist-packages (from easyocr) (0.21.0+cu124)\n",
            "Requirement already satisfied: opencv-python-headless in /usr/local/lib/python3.11/dist-packages (from easyocr) (4.12.0.88)\n",
            "Requirement already satisfied: scipy in /usr/local/lib/python3.11/dist-packages (from easyocr) (1.16.1)\n",
            "Requirement already satisfied: numpy in /usr/local/lib/python3.11/dist-packages (from easyocr) (2.0.2)\n",
            "Requirement already satisfied: Pillow in /usr/local/lib/python3.11/dist-packages (from easyocr) (11.3.0)\n",
            "Requirement already satisfied: scikit-image in /usr/local/lib/python3.11/dist-packages (from easyocr) (0.25.2)\n",
            "Collecting python-bidi (from easyocr)\n",
            "  Downloading python_bidi-0.6.6-cp311-cp311-manylinux_2_17_x86_64.manylinux2014_x86_64.whl.metadata (4.9 kB)\n",
            "Requirement already satisfied: PyYAML in /usr/local/lib/python3.11/dist-packages (from easyocr) (6.0.2)\n",
            "Requirement already satisfied: Shapely in /usr/local/lib/python3.11/dist-packages (from easyocr) (2.1.1)\n",
            "Collecting pyclipper (from easyocr)\n",
            "  Downloading pyclipper-1.3.0.post6-cp311-cp311-manylinux_2_17_x86_64.manylinux2014_x86_64.whl.metadata (9.0 kB)\n",
            "Collecting ninja (from easyocr)\n",
            "  Downloading ninja-1.13.0-py3-none-manylinux2014_x86_64.manylinux_2_17_x86_64.whl.metadata (5.1 kB)\n",
            "Requirement already satisfied: filelock in /usr/local/lib/python3.11/dist-packages (from torch->easyocr) (3.18.0)\n",
            "Requirement already satisfied: typing-extensions>=4.10.0 in /usr/local/lib/python3.11/dist-packages (from torch->easyocr) (4.14.1)\n",
            "Requirement already satisfied: networkx in /usr/local/lib/python3.11/dist-packages (from torch->easyocr) (3.5)\n",
            "Requirement already satisfied: jinja2 in /usr/local/lib/python3.11/dist-packages (from torch->easyocr) (3.1.6)\n",
            "Requirement already satisfied: fsspec in /usr/local/lib/python3.11/dist-packages (from torch->easyocr) (2025.3.0)\n",
            "Collecting nvidia-cuda-nvrtc-cu12==12.4.127 (from torch->easyocr)\n",
            "  Downloading nvidia_cuda_nvrtc_cu12-12.4.127-py3-none-manylinux2014_x86_64.whl.metadata (1.5 kB)\n",
            "Collecting nvidia-cuda-runtime-cu12==12.4.127 (from torch->easyocr)\n",
            "  Downloading nvidia_cuda_runtime_cu12-12.4.127-py3-none-manylinux2014_x86_64.whl.metadata (1.5 kB)\n",
            "Collecting nvidia-cuda-cupti-cu12==12.4.127 (from torch->easyocr)\n",
            "  Downloading nvidia_cuda_cupti_cu12-12.4.127-py3-none-manylinux2014_x86_64.whl.metadata (1.6 kB)\n",
            "Collecting nvidia-cudnn-cu12==9.1.0.70 (from torch->easyocr)\n",
            "  Downloading nvidia_cudnn_cu12-9.1.0.70-py3-none-manylinux2014_x86_64.whl.metadata (1.6 kB)\n",
            "Collecting nvidia-cublas-cu12==12.4.5.8 (from torch->easyocr)\n",
            "  Downloading nvidia_cublas_cu12-12.4.5.8-py3-none-manylinux2014_x86_64.whl.metadata (1.5 kB)\n",
            "Collecting nvidia-cufft-cu12==11.2.1.3 (from torch->easyocr)\n",
            "  Downloading nvidia_cufft_cu12-11.2.1.3-py3-none-manylinux2014_x86_64.whl.metadata (1.5 kB)\n",
            "Collecting nvidia-curand-cu12==10.3.5.147 (from torch->easyocr)\n",
            "  Downloading nvidia_curand_cu12-10.3.5.147-py3-none-manylinux2014_x86_64.whl.metadata (1.5 kB)\n",
            "Collecting nvidia-cusolver-cu12==11.6.1.9 (from torch->easyocr)\n",
            "  Downloading nvidia_cusolver_cu12-11.6.1.9-py3-none-manylinux2014_x86_64.whl.metadata (1.6 kB)\n",
            "Collecting nvidia-cusparse-cu12==12.3.1.170 (from torch->easyocr)\n",
            "  Downloading nvidia_cusparse_cu12-12.3.1.170-py3-none-manylinux2014_x86_64.whl.metadata (1.6 kB)\n",
            "Requirement already satisfied: nvidia-cusparselt-cu12==0.6.2 in /usr/local/lib/python3.11/dist-packages (from torch->easyocr) (0.6.2)\n",
            "Collecting nvidia-nccl-cu12==2.21.5 (from torch->easyocr)\n",
            "  Downloading nvidia_nccl_cu12-2.21.5-py3-none-manylinux2014_x86_64.whl.metadata (1.8 kB)\n",
            "Requirement already satisfied: nvidia-nvtx-cu12==12.4.127 in /usr/local/lib/python3.11/dist-packages (from torch->easyocr) (12.4.127)\n",
            "Collecting nvidia-nvjitlink-cu12==12.4.127 (from torch->easyocr)\n",
            "  Downloading nvidia_nvjitlink_cu12-12.4.127-py3-none-manylinux2014_x86_64.whl.metadata (1.5 kB)\n",
            "Requirement already satisfied: triton==3.2.0 in /usr/local/lib/python3.11/dist-packages (from torch->easyocr) (3.2.0)\n",
            "Requirement already satisfied: sympy==1.13.1 in /usr/local/lib/python3.11/dist-packages (from torch->easyocr) (1.13.1)\n",
            "Requirement already satisfied: mpmath<1.4,>=1.1.0 in /usr/local/lib/python3.11/dist-packages (from sympy==1.13.1->torch->easyocr) (1.3.0)\n",
            "Requirement already satisfied: imageio!=2.35.0,>=2.33 in /usr/local/lib/python3.11/dist-packages (from scikit-image->easyocr) (2.37.0)\n",
            "Requirement already satisfied: tifffile>=2022.8.12 in /usr/local/lib/python3.11/dist-packages (from scikit-image->easyocr) (2025.6.11)\n",
            "Requirement already satisfied: packaging>=21 in /usr/local/lib/python3.11/dist-packages (from scikit-image->easyocr) (25.0)\n",
            "Requirement already satisfied: lazy-loader>=0.4 in /usr/local/lib/python3.11/dist-packages (from scikit-image->easyocr) (0.4)\n",
            "Requirement already satisfied: MarkupSafe>=2.0 in /usr/local/lib/python3.11/dist-packages (from jinja2->torch->easyocr) (3.0.2)\n",
            "Downloading easyocr-1.7.2-py3-none-any.whl (2.9 MB)\n",
            "\u001b[2K   \u001b[90m━━━━━━━━━━━━━━━━━━━━━━━━━━━━━━━━━━━━━━━━\u001b[0m \u001b[32m2.9/2.9 MB\u001b[0m \u001b[31m99.1 MB/s\u001b[0m eta \u001b[36m0:00:00\u001b[0m\n",
            "\u001b[?25hDownloading nvidia_cublas_cu12-12.4.5.8-py3-none-manylinux2014_x86_64.whl (363.4 MB)\n",
            "\u001b[2K   \u001b[90m━━━━━━━━━━━━━━━━━━━━━━━━━━━━━━━━━━━━━━━━\u001b[0m \u001b[32m363.4/363.4 MB\u001b[0m \u001b[31m2.6 MB/s\u001b[0m eta \u001b[36m0:00:00\u001b[0m\n",
            "\u001b[?25hDownloading nvidia_cuda_cupti_cu12-12.4.127-py3-none-manylinux2014_x86_64.whl (13.8 MB)\n",
            "\u001b[2K   \u001b[90m━━━━━━━━━━━━━━━━━━━━━━━━━━━━━━━━━━━━━━━━\u001b[0m \u001b[32m13.8/13.8 MB\u001b[0m \u001b[31m125.2 MB/s\u001b[0m eta \u001b[36m0:00:00\u001b[0m\n",
            "\u001b[?25hDownloading nvidia_cuda_nvrtc_cu12-12.4.127-py3-none-manylinux2014_x86_64.whl (24.6 MB)\n",
            "\u001b[2K   \u001b[90m━━━━━━━━━━━━━━━━━━━━━━━━━━━━━━━━━━━━━━━━\u001b[0m \u001b[32m24.6/24.6 MB\u001b[0m \u001b[31m66.3 MB/s\u001b[0m eta \u001b[36m0:00:00\u001b[0m\n",
            "\u001b[?25hDownloading nvidia_cuda_runtime_cu12-12.4.127-py3-none-manylinux2014_x86_64.whl (883 kB)\n",
            "\u001b[2K   \u001b[90m━━━━━━━━━━━━━━━━━━━━━━━━━━━━━━━━━━━━━━━━\u001b[0m \u001b[32m883.7/883.7 kB\u001b[0m \u001b[31m71.6 MB/s\u001b[0m eta \u001b[36m0:00:00\u001b[0m\n",
            "\u001b[?25hDownloading nvidia_cudnn_cu12-9.1.0.70-py3-none-manylinux2014_x86_64.whl (664.8 MB)\n",
            "\u001b[2K   \u001b[90m━━━━━━━━━━━━━━━━━━━━━━━━━━━━━━━━━━━━━━━━\u001b[0m \u001b[32m664.8/664.8 MB\u001b[0m \u001b[31m1.6 MB/s\u001b[0m eta \u001b[36m0:00:00\u001b[0m\n",
            "\u001b[?25hDownloading nvidia_cufft_cu12-11.2.1.3-py3-none-manylinux2014_x86_64.whl (211.5 MB)\n",
            "\u001b[2K   \u001b[90m━━━━━━━━━━━━━━━━━━━━━━━━━━━━━━━━━━━━━━━━\u001b[0m \u001b[32m211.5/211.5 MB\u001b[0m \u001b[31m3.9 MB/s\u001b[0m eta \u001b[36m0:00:00\u001b[0m\n",
            "\u001b[?25hDownloading nvidia_curand_cu12-10.3.5.147-py3-none-manylinux2014_x86_64.whl (56.3 MB)\n",
            "\u001b[2K   \u001b[90m━━━━━━━━━━━━━━━━━━━━━━━━━━━━━━━━━━━━━━━━\u001b[0m \u001b[32m56.3/56.3 MB\u001b[0m \u001b[31m19.6 MB/s\u001b[0m eta \u001b[36m0:00:00\u001b[0m\n",
            "\u001b[?25hDownloading nvidia_cusolver_cu12-11.6.1.9-py3-none-manylinux2014_x86_64.whl (127.9 MB)\n",
            "\u001b[2K   \u001b[90m━━━━━━━━━━━━━━━━━━━━━━━━━━━━━━━━━━━━━━━━\u001b[0m \u001b[32m127.9/127.9 MB\u001b[0m \u001b[31m17.0 MB/s\u001b[0m eta \u001b[36m0:00:00\u001b[0m\n",
            "\u001b[?25hDownloading nvidia_cusparse_cu12-12.3.1.170-py3-none-manylinux2014_x86_64.whl (207.5 MB)\n",
            "\u001b[2K   \u001b[90m━━━━━━━━━━━━━━━━━━━━━━━━━━━━━━━━━━━━━━━━\u001b[0m \u001b[32m207.5/207.5 MB\u001b[0m \u001b[31m4.1 MB/s\u001b[0m eta \u001b[36m0:00:00\u001b[0m\n",
            "\u001b[?25hDownloading nvidia_nccl_cu12-2.21.5-py3-none-manylinux2014_x86_64.whl (188.7 MB)\n",
            "\u001b[2K   \u001b[90m━━━━━━━━━━━━━━━━━━━━━━━━━━━━━━━━━━━━━━━━\u001b[0m \u001b[32m188.7/188.7 MB\u001b[0m \u001b[31m4.1 MB/s\u001b[0m eta \u001b[36m0:00:00\u001b[0m\n",
            "\u001b[?25hDownloading nvidia_nvjitlink_cu12-12.4.127-py3-none-manylinux2014_x86_64.whl (21.1 MB)\n",
            "\u001b[2K   \u001b[90m━━━━━━━━━━━━━━━━━━━━━━━━━━━━━━━━━━━━━━━━\u001b[0m \u001b[32m21.1/21.1 MB\u001b[0m \u001b[31m82.1 MB/s\u001b[0m eta \u001b[36m0:00:00\u001b[0m\n",
            "\u001b[?25hDownloading ninja-1.13.0-py3-none-manylinux2014_x86_64.manylinux_2_17_x86_64.whl (180 kB)\n",
            "\u001b[2K   \u001b[90m━━━━━━━━━━━━━━━━━━━━━━━━━━━━━━━━━━━━━━━━\u001b[0m \u001b[32m180.7/180.7 kB\u001b[0m \u001b[31m21.5 MB/s\u001b[0m eta \u001b[36m0:00:00\u001b[0m\n",
            "\u001b[?25hDownloading pyclipper-1.3.0.post6-cp311-cp311-manylinux_2_17_x86_64.manylinux2014_x86_64.whl (969 kB)\n",
            "\u001b[2K   \u001b[90m━━━━━━━━━━━━━━━━━━━━━━━━━━━━━━━━━━━━━━━━\u001b[0m \u001b[32m969.6/969.6 kB\u001b[0m \u001b[31m59.3 MB/s\u001b[0m eta \u001b[36m0:00:00\u001b[0m\n",
            "\u001b[?25hDownloading python_bidi-0.6.6-cp311-cp311-manylinux_2_17_x86_64.manylinux2014_x86_64.whl (292 kB)\n",
            "\u001b[2K   \u001b[90m━━━━━━━━━━━━━━━━━━━━━━━━━━━━━━━━━━━━━━━━\u001b[0m \u001b[32m292.9/292.9 kB\u001b[0m \u001b[31m32.2 MB/s\u001b[0m eta \u001b[36m0:00:00\u001b[0m\n",
            "\u001b[?25hInstalling collected packages: python-bidi, pyclipper, nvidia-nvjitlink-cu12, nvidia-nccl-cu12, nvidia-curand-cu12, nvidia-cufft-cu12, nvidia-cuda-runtime-cu12, nvidia-cuda-nvrtc-cu12, nvidia-cuda-cupti-cu12, nvidia-cublas-cu12, ninja, nvidia-cusparse-cu12, nvidia-cudnn-cu12, nvidia-cusolver-cu12, easyocr\n",
            "  Attempting uninstall: nvidia-nvjitlink-cu12\n",
            "    Found existing installation: nvidia-nvjitlink-cu12 12.5.82\n",
            "    Uninstalling nvidia-nvjitlink-cu12-12.5.82:\n",
            "      Successfully uninstalled nvidia-nvjitlink-cu12-12.5.82\n",
            "  Attempting uninstall: nvidia-nccl-cu12\n",
            "    Found existing installation: nvidia-nccl-cu12 2.23.4\n",
            "    Uninstalling nvidia-nccl-cu12-2.23.4:\n",
            "      Successfully uninstalled nvidia-nccl-cu12-2.23.4\n",
            "  Attempting uninstall: nvidia-curand-cu12\n",
            "    Found existing installation: nvidia-curand-cu12 10.3.6.82\n",
            "    Uninstalling nvidia-curand-cu12-10.3.6.82:\n",
            "      Successfully uninstalled nvidia-curand-cu12-10.3.6.82\n",
            "  Attempting uninstall: nvidia-cufft-cu12\n",
            "    Found existing installation: nvidia-cufft-cu12 11.2.3.61\n",
            "    Uninstalling nvidia-cufft-cu12-11.2.3.61:\n",
            "      Successfully uninstalled nvidia-cufft-cu12-11.2.3.61\n",
            "  Attempting uninstall: nvidia-cuda-runtime-cu12\n",
            "    Found existing installation: nvidia-cuda-runtime-cu12 12.5.82\n",
            "    Uninstalling nvidia-cuda-runtime-cu12-12.5.82:\n",
            "      Successfully uninstalled nvidia-cuda-runtime-cu12-12.5.82\n",
            "  Attempting uninstall: nvidia-cuda-nvrtc-cu12\n",
            "    Found existing installation: nvidia-cuda-nvrtc-cu12 12.5.82\n",
            "    Uninstalling nvidia-cuda-nvrtc-cu12-12.5.82:\n",
            "      Successfully uninstalled nvidia-cuda-nvrtc-cu12-12.5.82\n",
            "  Attempting uninstall: nvidia-cuda-cupti-cu12\n",
            "    Found existing installation: nvidia-cuda-cupti-cu12 12.5.82\n",
            "    Uninstalling nvidia-cuda-cupti-cu12-12.5.82:\n",
            "      Successfully uninstalled nvidia-cuda-cupti-cu12-12.5.82\n",
            "  Attempting uninstall: nvidia-cublas-cu12\n",
            "    Found existing installation: nvidia-cublas-cu12 12.5.3.2\n",
            "    Uninstalling nvidia-cublas-cu12-12.5.3.2:\n",
            "      Successfully uninstalled nvidia-cublas-cu12-12.5.3.2\n",
            "  Attempting uninstall: nvidia-cusparse-cu12\n",
            "    Found existing installation: nvidia-cusparse-cu12 12.5.1.3\n",
            "    Uninstalling nvidia-cusparse-cu12-12.5.1.3:\n",
            "      Successfully uninstalled nvidia-cusparse-cu12-12.5.1.3\n",
            "  Attempting uninstall: nvidia-cudnn-cu12\n",
            "    Found existing installation: nvidia-cudnn-cu12 9.3.0.75\n",
            "    Uninstalling nvidia-cudnn-cu12-9.3.0.75:\n",
            "      Successfully uninstalled nvidia-cudnn-cu12-9.3.0.75\n",
            "  Attempting uninstall: nvidia-cusolver-cu12\n",
            "    Found existing installation: nvidia-cusolver-cu12 11.6.3.83\n",
            "    Uninstalling nvidia-cusolver-cu12-11.6.3.83:\n",
            "      Successfully uninstalled nvidia-cusolver-cu12-11.6.3.83\n",
            "Successfully installed easyocr-1.7.2 ninja-1.13.0 nvidia-cublas-cu12-12.4.5.8 nvidia-cuda-cupti-cu12-12.4.127 nvidia-cuda-nvrtc-cu12-12.4.127 nvidia-cuda-runtime-cu12-12.4.127 nvidia-cudnn-cu12-9.1.0.70 nvidia-cufft-cu12-11.2.1.3 nvidia-curand-cu12-10.3.5.147 nvidia-cusolver-cu12-11.6.1.9 nvidia-cusparse-cu12-12.3.1.170 nvidia-nccl-cu12-2.21.5 nvidia-nvjitlink-cu12-12.4.127 pyclipper-1.3.0.post6 python-bidi-0.6.6\n"
          ]
        }
      ],
      "source": [
        "!pip install easyocr"
      ]
    },
    {
      "cell_type": "code",
      "execution_count": null,
      "metadata": {
        "colab": {
          "base_uri": "https://localhost:8080/"
        },
        "id": "B4VDTsnmp0tz",
        "outputId": "e9e4d817-dc7f-456d-a28e-734ab749fb30"
      },
      "outputs": [
        {
          "name": "stderr",
          "output_type": "stream",
          "text": [
            "WARNING:easyocr.easyocr:Downloading detection model, please wait. This may take several minutes depending upon your network connection.\n"
          ]
        },
        {
          "name": "stdout",
          "output_type": "stream",
          "text": [
            "Progress: |██████████████████████████████████████████████████| 100.0% Complete"
          ]
        },
        {
          "name": "stderr",
          "output_type": "stream",
          "text": [
            "WARNING:easyocr.easyocr:Downloading recognition model, please wait. This may take several minutes depending upon your network connection.\n"
          ]
        },
        {
          "name": "stdout",
          "output_type": "stream",
          "text": [
            "\rProgress: |--------------------------------------------------| 0.0% Complete\rProgress: |--------------------------------------------------| 0.1% Complete\rProgress: |--------------------------------------------------| 0.1% Complete\rProgress: |--------------------------------------------------| 0.2% Complete\rProgress: |--------------------------------------------------| 0.2% Complete\rProgress: |--------------------------------------------------| 0.3% Complete\rProgress: |--------------------------------------------------| 0.4% Complete\rProgress: |--------------------------------------------------| 0.4% Complete\rProgress: |--------------------------------------------------| 0.5% Complete\rProgress: |--------------------------------------------------| 0.5% Complete\rProgress: |--------------------------------------------------| 0.6% Complete\rProgress: |--------------------------------------------------| 0.6% Complete\rProgress: |--------------------------------------------------| 0.7% Complete\rProgress: |--------------------------------------------------| 0.8% Complete\rProgress: |--------------------------------------------------| 0.8% Complete\rProgress: |--------------------------------------------------| 0.9% Complete\rProgress: |--------------------------------------------------| 0.9% Complete\rProgress: |--------------------------------------------------| 1.0% Complete\rProgress: |--------------------------------------------------| 1.1% Complete\rProgress: |--------------------------------------------------| 1.1% Complete\rProgress: |--------------------------------------------------| 1.2% Complete\rProgress: |--------------------------------------------------| 1.2% Complete\rProgress: |--------------------------------------------------| 1.3% Complete\rProgress: |--------------------------------------------------| 1.3% Complete\rProgress: |--------------------------------------------------| 1.4% Complete\rProgress: |--------------------------------------------------| 1.5% Complete\rProgress: |--------------------------------------------------| 1.5% Complete\rProgress: |--------------------------------------------------| 1.6% Complete\rProgress: |--------------------------------------------------| 1.6% Complete\rProgress: |--------------------------------------------------| 1.7% Complete\rProgress: |--------------------------------------------------| 1.8% Complete\rProgress: |--------------------------------------------------| 1.8% Complete\rProgress: |--------------------------------------------------| 1.9% Complete\rProgress: |--------------------------------------------------| 1.9% Complete\rProgress: |--------------------------------------------------| 2.0% Complete\rProgress: |█-------------------------------------------------| 2.0% Complete\rProgress: |█-------------------------------------------------| 2.1% Complete\rProgress: |█-------------------------------------------------| 2.2% Complete\rProgress: |█-------------------------------------------------| 2.2% Complete\rProgress: |█-------------------------------------------------| 2.3% Complete\rProgress: |█-------------------------------------------------| 2.3% Complete\rProgress: |█-------------------------------------------------| 2.4% Complete\rProgress: |█-------------------------------------------------| 2.5% Complete\rProgress: |█-------------------------------------------------| 2.5% Complete\rProgress: |█-------------------------------------------------| 2.6% Complete\rProgress: |█-------------------------------------------------| 2.6% Complete\rProgress: |█-------------------------------------------------| 2.7% Complete\rProgress: |█-------------------------------------------------| 2.7% Complete\rProgress: |█-------------------------------------------------| 2.8% Complete\rProgress: |█-------------------------------------------------| 2.9% Complete\rProgress: |█-------------------------------------------------| 2.9% Complete\rProgress: |█-------------------------------------------------| 3.0% Complete\rProgress: |█-------------------------------------------------| 3.0% Complete\rProgress: |█-------------------------------------------------| 3.1% Complete\rProgress: |█-------------------------------------------------| 3.2% Complete\rProgress: |█-------------------------------------------------| 3.2% Complete\rProgress: |█-------------------------------------------------| 3.3% Complete\rProgress: |█-------------------------------------------------| 3.3% Complete\rProgress: |█-------------------------------------------------| 3.4% Complete\rProgress: |█-------------------------------------------------| 3.4% Complete\rProgress: |█-------------------------------------------------| 3.5% Complete\rProgress: |█-------------------------------------------------| 3.6% Complete\rProgress: |█-------------------------------------------------| 3.6% Complete\rProgress: |█-------------------------------------------------| 3.7% Complete\rProgress: |█-------------------------------------------------| 3.7% Complete\rProgress: |█-------------------------------------------------| 3.8% Complete\rProgress: |█-------------------------------------------------| 3.9% Complete\rProgress: |█-------------------------------------------------| 3.9% Complete\rProgress: |█-------------------------------------------------| 4.0% Complete\rProgress: |██------------------------------------------------| 4.0% Complete\rProgress: |██------------------------------------------------| 4.1% Complete\rProgress: |██------------------------------------------------| 4.1% Complete\rProgress: |██------------------------------------------------| 4.2% Complete\rProgress: |██------------------------------------------------| 4.3% Complete\rProgress: |██------------------------------------------------| 4.3% Complete\rProgress: |██------------------------------------------------| 4.4% Complete\rProgress: |██------------------------------------------------| 4.4% Complete\rProgress: |██------------------------------------------------| 4.5% Complete\rProgress: |██------------------------------------------------| 4.6% Complete\rProgress: |██------------------------------------------------| 4.6% Complete\rProgress: |██------------------------------------------------| 4.7% Complete\rProgress: |██------------------------------------------------| 4.7% Complete\rProgress: |██------------------------------------------------| 4.8% Complete\rProgress: |██------------------------------------------------| 4.8% Complete\rProgress: |██------------------------------------------------| 4.9% Complete\rProgress: |██------------------------------------------------| 5.0% Complete\rProgress: |██------------------------------------------------| 5.0% Complete\rProgress: |██------------------------------------------------| 5.1% Complete\rProgress: |██------------------------------------------------| 5.1% Complete\rProgress: |██------------------------------------------------| 5.2% Complete\rProgress: |██------------------------------------------------| 5.3% Complete\rProgress: |██------------------------------------------------| 5.3% Complete\rProgress: |██------------------------------------------------| 5.4% Complete\rProgress: |██------------------------------------------------| 5.4% Complete\rProgress: |██------------------------------------------------| 5.5% Complete\rProgress: |██------------------------------------------------| 5.5% Complete\rProgress: |██------------------------------------------------| 5.6% Complete\rProgress: |██------------------------------------------------| 5.7% Complete\rProgress: |██------------------------------------------------| 5.7% Complete\rProgress: |██------------------------------------------------| 5.8% Complete\rProgress: |██------------------------------------------------| 5.8% Complete\rProgress: |██------------------------------------------------| 5.9% Complete\rProgress: |██------------------------------------------------| 6.0% Complete\rProgress: |███-----------------------------------------------| 6.0% Complete\rProgress: |███-----------------------------------------------| 6.1% Complete\rProgress: |███-----------------------------------------------| 6.1% Complete\rProgress: |███-----------------------------------------------| 6.2% Complete\rProgress: |███-----------------------------------------------| 6.2% Complete\rProgress: |███-----------------------------------------------| 6.3% Complete\rProgress: |███-----------------------------------------------| 6.4% Complete\rProgress: |███-----------------------------------------------| 6.4% Complete\rProgress: |███-----------------------------------------------| 6.5% Complete\rProgress: |███-----------------------------------------------| 6.5% Complete\rProgress: |███-----------------------------------------------| 6.6% Complete\rProgress: |███-----------------------------------------------| 6.7% Complete\rProgress: |███-----------------------------------------------| 6.7% Complete\rProgress: |███-----------------------------------------------| 6.8% Complete\rProgress: |███-----------------------------------------------| 6.8% Complete\rProgress: |███-----------------------------------------------| 6.9% Complete\rProgress: |███-----------------------------------------------| 6.9% Complete\rProgress: |███-----------------------------------------------| 7.0% Complete\rProgress: |███-----------------------------------------------| 7.1% Complete\rProgress: |███-----------------------------------------------| 7.1% Complete\rProgress: |███-----------------------------------------------| 7.2% Complete\rProgress: |███-----------------------------------------------| 7.2% Complete\rProgress: |███-----------------------------------------------| 7.3% Complete\rProgress: |███-----------------------------------------------| 7.4% Complete\rProgress: |███-----------------------------------------------| 7.4% Complete\rProgress: |███-----------------------------------------------| 7.5% Complete\rProgress: |███-----------------------------------------------| 7.5% Complete\rProgress: |███-----------------------------------------------| 7.6% Complete\rProgress: |███-----------------------------------------------| 7.6% Complete\rProgress: |███-----------------------------------------------| 7.7% Complete\rProgress: |███-----------------------------------------------| 7.8% Complete\rProgress: |███-----------------------------------------------| 7.8% Complete\rProgress: |███-----------------------------------------------| 7.9% Complete\rProgress: |███-----------------------------------------------| 7.9% Complete\rProgress: |███-----------------------------------------------| 8.0% Complete\rProgress: |████----------------------------------------------| 8.1% Complete\rProgress: |████----------------------------------------------| 8.1% Complete\rProgress: |████----------------------------------------------| 8.2% Complete\rProgress: |████----------------------------------------------| 8.2% Complete\rProgress: |████----------------------------------------------| 8.3% Complete\rProgress: |████----------------------------------------------| 8.3% Complete\rProgress: |████----------------------------------------------| 8.4% Complete\rProgress: |████----------------------------------------------| 8.5% Complete\rProgress: |████----------------------------------------------| 8.5% Complete\rProgress: |████----------------------------------------------| 8.6% Complete\rProgress: |████----------------------------------------------| 8.6% Complete\rProgress: |████----------------------------------------------| 8.7% Complete\rProgress: |████----------------------------------------------| 8.8% Complete\rProgress: |████----------------------------------------------| 8.8% Complete\rProgress: |████----------------------------------------------| 8.9% Complete\rProgress: |████----------------------------------------------| 8.9% Complete\rProgress: |████----------------------------------------------| 9.0% Complete\rProgress: |████----------------------------------------------| 9.0% Complete\rProgress: |████----------------------------------------------| 9.1% Complete\rProgress: |████----------------------------------------------| 9.2% Complete\rProgress: |████----------------------------------------------| 9.2% Complete\rProgress: |████----------------------------------------------| 9.3% Complete\rProgress: |████----------------------------------------------| 9.3% Complete\rProgress: |████----------------------------------------------| 9.4% Complete\rProgress: |████----------------------------------------------| 9.5% Complete\rProgress: |████----------------------------------------------| 9.5% Complete\rProgress: |████----------------------------------------------| 9.6% Complete\rProgress: |████----------------------------------------------| 9.6% Complete\rProgress: |████----------------------------------------------| 9.7% Complete\rProgress: |████----------------------------------------------| 9.7% Complete\rProgress: |████----------------------------------------------| 9.8% Complete\rProgress: |████----------------------------------------------| 9.9% Complete\rProgress: |████----------------------------------------------| 9.9% Complete\rProgress: |████----------------------------------------------| 10.0% Complete\rProgress: |█████---------------------------------------------| 10.0% Complete\rProgress: |█████---------------------------------------------| 10.1% Complete\rProgress: |█████---------------------------------------------| 10.2% Complete\rProgress: |█████---------------------------------------------| 10.2% Complete\rProgress: |█████---------------------------------------------| 10.3% Complete\rProgress: |█████---------------------------------------------| 10.3% Complete\rProgress: |█████---------------------------------------------| 10.4% Complete\rProgress: |█████---------------------------------------------| 10.4% Complete\rProgress: |█████---------------------------------------------| 10.5% Complete\rProgress: |█████---------------------------------------------| 10.6% Complete\rProgress: |█████---------------------------------------------| 10.6% Complete\rProgress: |█████---------------------------------------------| 10.7% Complete\rProgress: |█████---------------------------------------------| 10.7% Complete\rProgress: |█████---------------------------------------------| 10.8% Complete\rProgress: |█████---------------------------------------------| 10.9% Complete\rProgress: |█████---------------------------------------------| 10.9% Complete\rProgress: |█████---------------------------------------------| 11.0% Complete\rProgress: |█████---------------------------------------------| 11.0% Complete\rProgress: |█████---------------------------------------------| 11.1% Complete\rProgress: |█████---------------------------------------------| 11.1% Complete\rProgress: |█████---------------------------------------------| 11.2% Complete\rProgress: |█████---------------------------------------------| 11.3% Complete\rProgress: |█████---------------------------------------------| 11.3% Complete\rProgress: |█████---------------------------------------------| 11.4% Complete\rProgress: |█████---------------------------------------------| 11.4% Complete\rProgress: |█████---------------------------------------------| 11.5% Complete\rProgress: |█████---------------------------------------------| 11.6% Complete\rProgress: |█████---------------------------------------------| 11.6% Complete\rProgress: |█████---------------------------------------------| 11.7% Complete\rProgress: |█████---------------------------------------------| 11.7% Complete\rProgress: |█████---------------------------------------------| 11.8% Complete\rProgress: |█████---------------------------------------------| 11.8% Complete\rProgress: |█████---------------------------------------------| 11.9% Complete\rProgress: |█████---------------------------------------------| 12.0% Complete\rProgress: |██████--------------------------------------------| 12.0% Complete\rProgress: |██████--------------------------------------------| 12.1% Complete\rProgress: |██████--------------------------------------------| 12.1% Complete\rProgress: |██████--------------------------------------------| 12.2% Complete\rProgress: |██████--------------------------------------------| 12.3% Complete\rProgress: |██████--------------------------------------------| 12.3% Complete\rProgress: |██████--------------------------------------------| 12.4% Complete\rProgress: |██████--------------------------------------------| 12.4% Complete\rProgress: |██████--------------------------------------------| 12.5% Complete\rProgress: |██████--------------------------------------------| 12.5% Complete\rProgress: |██████--------------------------------------------| 12.6% Complete\rProgress: |██████--------------------------------------------| 12.7% Complete\rProgress: |██████--------------------------------------------| 12.7% Complete\rProgress: |██████--------------------------------------------| 12.8% Complete\rProgress: |██████--------------------------------------------| 12.8% Complete\rProgress: |██████--------------------------------------------| 12.9% Complete\rProgress: |██████--------------------------------------------| 13.0% Complete\rProgress: |██████--------------------------------------------| 13.0% Complete\rProgress: |██████--------------------------------------------| 13.1% Complete\rProgress: |██████--------------------------------------------| 13.1% Complete\rProgress: |██████--------------------------------------------| 13.2% Complete\rProgress: |██████--------------------------------------------| 13.2% Complete\rProgress: |██████--------------------------------------------| 13.3% Complete\rProgress: |██████--------------------------------------------| 13.4% Complete\rProgress: |██████--------------------------------------------| 13.4% Complete\rProgress: |██████--------------------------------------------| 13.5% Complete\rProgress: |██████--------------------------------------------| 13.5% Complete\rProgress: |██████--------------------------------------------| 13.6% Complete\rProgress: |██████--------------------------------------------| 13.7% Complete\rProgress: |██████--------------------------------------------| 13.7% Complete\rProgress: |██████--------------------------------------------| 13.8% Complete\rProgress: |██████--------------------------------------------| 13.8% Complete\rProgress: |██████--------------------------------------------| 13.9% Complete\rProgress: |██████--------------------------------------------| 13.9% Complete\rProgress: |███████-------------------------------------------| 14.0% Complete\rProgress: |███████-------------------------------------------| 14.1% Complete\rProgress: |███████-------------------------------------------| 14.1% Complete\rProgress: |███████-------------------------------------------| 14.2% Complete\rProgress: |███████-------------------------------------------| 14.2% Complete\rProgress: |███████-------------------------------------------| 14.3% Complete\rProgress: |███████-------------------------------------------| 14.4% Complete\rProgress: |███████-------------------------------------------| 14.4% Complete\rProgress: |███████-------------------------------------------| 14.5% Complete\rProgress: |███████-------------------------------------------| 14.5% Complete\rProgress: |███████-------------------------------------------| 14.6% Complete\rProgress: |███████-------------------------------------------| 14.6% Complete\rProgress: |███████-------------------------------------------| 14.7% Complete\rProgress: |███████-------------------------------------------| 14.8% Complete\rProgress: |███████-------------------------------------------| 14.8% Complete\rProgress: |███████-------------------------------------------| 14.9% Complete\rProgress: |███████-------------------------------------------| 14.9% Complete\rProgress: |███████-------------------------------------------| 15.0% Complete\rProgress: |███████-------------------------------------------| 15.1% Complete\rProgress: |███████-------------------------------------------| 15.1% Complete\rProgress: |███████-------------------------------------------| 15.2% Complete\rProgress: |███████-------------------------------------------| 15.2% Complete\rProgress: |███████-------------------------------------------| 15.3% Complete\rProgress: |███████-------------------------------------------| 15.3% Complete\rProgress: |███████-------------------------------------------| 15.4% Complete\rProgress: |███████-------------------------------------------| 15.5% Complete\rProgress: |███████-------------------------------------------| 15.5% Complete\rProgress: |███████-------------------------------------------| 15.6% Complete\rProgress: |███████-------------------------------------------| 15.6% Complete\rProgress: |███████-------------------------------------------| 15.7% Complete\rProgress: |███████-------------------------------------------| 15.8% Complete\rProgress: |███████-------------------------------------------| 15.8% Complete\rProgress: |███████-------------------------------------------| 15.9% Complete\rProgress: |███████-------------------------------------------| 15.9% Complete\rProgress: |███████-------------------------------------------| 16.0% Complete\rProgress: |████████------------------------------------------| 16.0% Complete\rProgress: |████████------------------------------------------| 16.1% Complete\rProgress: |████████------------------------------------------| 16.2% Complete\rProgress: |████████------------------------------------------| 16.2% Complete\rProgress: |████████------------------------------------------| 16.3% Complete\rProgress: |████████------------------------------------------| 16.3% Complete\rProgress: |████████------------------------------------------| 16.4% Complete\rProgress: |████████------------------------------------------| 16.5% Complete\rProgress: |████████------------------------------------------| 16.5% Complete\rProgress: |████████------------------------------------------| 16.6% Complete\rProgress: |████████------------------------------------------| 16.6% Complete\rProgress: |████████------------------------------------------| 16.7% Complete\rProgress: |████████------------------------------------------| 16.7% Complete\rProgress: |████████------------------------------------------| 16.8% Complete\rProgress: |████████------------------------------------------| 16.9% Complete\rProgress: |████████------------------------------------------| 16.9% Complete\rProgress: |████████------------------------------------------| 17.0% Complete\rProgress: |████████------------------------------------------| 17.0% Complete\rProgress: |████████------------------------------------------| 17.1% Complete\rProgress: |████████------------------------------------------| 17.2% Complete\rProgress: |████████------------------------------------------| 17.2% Complete\rProgress: |████████------------------------------------------| 17.3% Complete\rProgress: |████████------------------------------------------| 17.3% Complete\rProgress: |████████------------------------------------------| 17.4% Complete\rProgress: |████████------------------------------------------| 17.4% Complete\rProgress: |████████------------------------------------------| 17.5% Complete\rProgress: |████████------------------------------------------| 17.6% Complete\rProgress: |████████------------------------------------------| 17.6% Complete\rProgress: |████████------------------------------------------| 17.7% Complete\rProgress: |████████------------------------------------------| 17.7% Complete\rProgress: |████████------------------------------------------| 17.8% Complete\rProgress: |████████------------------------------------------| 17.9% Complete\rProgress: |████████------------------------------------------| 17.9% Complete\rProgress: |████████------------------------------------------| 18.0% Complete\rProgress: |█████████-----------------------------------------| 18.0% Complete\rProgress: |█████████-----------------------------------------| 18.1% Complete\rProgress: |█████████-----------------------------------------| 18.1% Complete\rProgress: |█████████-----------------------------------------| 18.2% Complete\rProgress: |█████████-----------------------------------------| 18.3% Complete\rProgress: |█████████-----------------------------------------| 18.3% Complete\rProgress: |█████████-----------------------------------------| 18.4% Complete\rProgress: |█████████-----------------------------------------| 18.4% Complete\rProgress: |█████████-----------------------------------------| 18.5% Complete\rProgress: |█████████-----------------------------------------| 18.6% Complete\rProgress: |█████████-----------------------------------------| 18.6% Complete\rProgress: |█████████-----------------------------------------| 18.7% Complete\rProgress: |█████████-----------------------------------------| 18.7% Complete\rProgress: |█████████-----------------------------------------| 18.8% Complete\rProgress: |█████████-----------------------------------------| 18.8% Complete\rProgress: |█████████-----------------------------------------| 18.9% Complete\rProgress: |█████████-----------------------------------------| 19.0% Complete\rProgress: |█████████-----------------------------------------| 19.0% Complete\rProgress: |█████████-----------------------------------------| 19.1% Complete\rProgress: |█████████-----------------------------------------| 19.1% Complete\rProgress: |█████████-----------------------------------------| 19.2% Complete\rProgress: |█████████-----------------------------------------| 19.3% Complete\rProgress: |█████████-----------------------------------------| 19.3% Complete\rProgress: |█████████-----------------------------------------| 19.4% Complete\rProgress: |█████████-----------------------------------------| 19.4% Complete\rProgress: |█████████-----------------------------------------| 19.5% Complete\rProgress: |█████████-----------------------------------------| 19.5% Complete\rProgress: |█████████-----------------------------------------| 19.6% Complete\rProgress: |█████████-----------------------------------------| 19.7% Complete\rProgress: |█████████-----------------------------------------| 19.7% Complete\rProgress: |█████████-----------------------------------------| 19.8% Complete\rProgress: |█████████-----------------------------------------| 19.8% Complete\rProgress: |█████████-----------------------------------------| 19.9% Complete\rProgress: |█████████-----------------------------------------| 20.0% Complete\rProgress: |██████████----------------------------------------| 20.0% Complete\rProgress: |██████████----------------------------------------| 20.1% Complete\rProgress: |██████████----------------------------------------| 20.1% Complete\rProgress: |██████████----------------------------------------| 20.2% Complete\rProgress: |██████████----------------------------------------| 20.2% Complete\rProgress: |██████████----------------------------------------| 20.3% Complete\rProgress: |██████████----------------------------------------| 20.4% Complete\rProgress: |██████████----------------------------------------| 20.4% Complete\rProgress: |██████████----------------------------------------| 20.5% Complete\rProgress: |██████████----------------------------------------| 20.5% Complete\rProgress: |██████████----------------------------------------| 20.6% Complete\rProgress: |██████████----------------------------------------| 20.7% Complete\rProgress: |██████████----------------------------------------| 20.7% Complete\rProgress: |██████████----------------------------------------| 20.8% Complete\rProgress: |██████████----------------------------------------| 20.8% Complete\rProgress: |██████████----------------------------------------| 20.9% Complete\rProgress: |██████████----------------------------------------| 20.9% Complete\rProgress: |██████████----------------------------------------| 21.0% Complete\rProgress: |██████████----------------------------------------| 21.1% Complete\rProgress: |██████████----------------------------------------| 21.1% Complete\rProgress: |██████████----------------------------------------| 21.2% Complete\rProgress: |██████████----------------------------------------| 21.2% Complete\rProgress: |██████████----------------------------------------| 21.3% Complete\rProgress: |██████████----------------------------------------| 21.4% Complete\rProgress: |██████████----------------------------------------| 21.4% Complete\rProgress: |██████████----------------------------------------| 21.5% Complete\rProgress: |██████████----------------------------------------| 21.5% Complete\rProgress: |██████████----------------------------------------| 21.6% Complete\rProgress: |██████████----------------------------------------| 21.6% Complete\rProgress: |██████████----------------------------------------| 21.7% Complete\rProgress: |██████████----------------------------------------| 21.8% Complete\rProgress: |██████████----------------------------------------| 21.8% Complete\rProgress: |██████████----------------------------------------| 21.9% Complete\rProgress: |██████████----------------------------------------| 21.9% Complete\rProgress: |██████████----------------------------------------| 22.0% Complete\rProgress: |███████████---------------------------------------| 22.1% Complete\rProgress: |███████████---------------------------------------| 22.1% Complete\rProgress: |███████████---------------------------------------| 22.2% Complete\rProgress: |███████████---------------------------------------| 22.2% Complete\rProgress: |███████████---------------------------------------| 22.3% Complete\rProgress: |███████████---------------------------------------| 22.3% Complete\rProgress: |███████████---------------------------------------| 22.4% Complete\rProgress: |███████████---------------------------------------| 22.5% Complete\rProgress: |███████████---------------------------------------| 22.5% Complete\rProgress: |███████████---------------------------------------| 22.6% Complete\rProgress: |███████████---------------------------------------| 22.6% Complete\rProgress: |███████████---------------------------------------| 22.7% Complete\rProgress: |███████████---------------------------------------| 22.8% Complete\rProgress: |███████████---------------------------------------| 22.8% Complete\rProgress: |███████████---------------------------------------| 22.9% Complete\rProgress: |███████████---------------------------------------| 22.9% Complete\rProgress: |███████████---------------------------------------| 23.0% Complete\rProgress: |███████████---------------------------------------| 23.0% Complete\rProgress: |███████████---------------------------------------| 23.1% Complete\rProgress: |███████████---------------------------------------| 23.2% Complete\rProgress: |███████████---------------------------------------| 23.2% Complete\rProgress: |███████████---------------------------------------| 23.3% Complete\rProgress: |███████████---------------------------------------| 23.3% Complete\rProgress: |███████████---------------------------------------| 23.4% Complete\rProgress: |███████████---------------------------------------| 23.5% Complete\rProgress: |███████████---------------------------------------| 23.5% Complete\rProgress: |███████████---------------------------------------| 23.6% Complete\rProgress: |███████████---------------------------------------| 23.6% Complete\rProgress: |███████████---------------------------------------| 23.7% Complete\rProgress: |███████████---------------------------------------| 23.7% Complete\rProgress: |███████████---------------------------------------| 23.8% Complete\rProgress: |███████████---------------------------------------| 23.9% Complete\rProgress: |███████████---------------------------------------| 23.9% Complete\rProgress: |███████████---------------------------------------| 24.0% Complete\rProgress: |████████████--------------------------------------| 24.0% Complete\rProgress: |████████████--------------------------------------| 24.1% Complete\rProgress: |████████████--------------------------------------| 24.2% Complete\rProgress: |████████████--------------------------------------| 24.2% Complete\rProgress: |████████████--------------------------------------| 24.3% Complete\rProgress: |████████████--------------------------------------| 24.3% Complete\rProgress: |████████████--------------------------------------| 24.4% Complete\rProgress: |████████████--------------------------------------| 24.4% Complete\rProgress: |████████████--------------------------------------| 24.5% Complete\rProgress: |████████████--------------------------------------| 24.6% Complete\rProgress: |████████████--------------------------------------| 24.6% Complete\rProgress: |████████████--------------------------------------| 24.7% Complete\rProgress: |████████████--------------------------------------| 24.7% Complete\rProgress: |████████████--------------------------------------| 24.8% Complete\rProgress: |████████████--------------------------------------| 24.9% Complete\rProgress: |████████████--------------------------------------| 24.9% Complete\rProgress: |████████████--------------------------------------| 25.0% Complete\rProgress: |████████████--------------------------------------| 25.0% Complete\rProgress: |████████████--------------------------------------| 25.1% Complete\rProgress: |████████████--------------------------------------| 25.1% Complete\rProgress: |████████████--------------------------------------| 25.2% Complete\rProgress: |████████████--------------------------------------| 25.3% Complete\rProgress: |████████████--------------------------------------| 25.3% Complete\rProgress: |████████████--------------------------------------| 25.4% Complete\rProgress: |████████████--------------------------------------| 25.4% Complete\rProgress: |████████████--------------------------------------| 25.5% Complete\rProgress: |████████████--------------------------------------| 25.6% Complete\rProgress: |████████████--------------------------------------| 25.6% Complete\rProgress: |████████████--------------------------------------| 25.7% Complete\rProgress: |████████████--------------------------------------| 25.7% Complete\rProgress: |████████████--------------------------------------| 25.8% Complete\rProgress: |████████████--------------------------------------| 25.8% Complete\rProgress: |████████████--------------------------------------| 25.9% Complete\rProgress: |████████████--------------------------------------| 26.0% Complete\rProgress: |█████████████-------------------------------------| 26.0% Complete\rProgress: |█████████████-------------------------------------| 26.1% Complete\rProgress: |█████████████-------------------------------------| 26.1% Complete\rProgress: |█████████████-------------------------------------| 26.2% Complete\rProgress: |█████████████-------------------------------------| 26.3% Complete\rProgress: |█████████████-------------------------------------| 26.3% Complete\rProgress: |█████████████-------------------------------------| 26.4% Complete\rProgress: |█████████████-------------------------------------| 26.4% Complete\rProgress: |█████████████-------------------------------------| 26.5% Complete\rProgress: |█████████████-------------------------------------| 26.5% Complete\rProgress: |█████████████-------------------------------------| 26.6% Complete\rProgress: |█████████████-------------------------------------| 26.7% Complete\rProgress: |█████████████-------------------------------------| 26.7% Complete\rProgress: |█████████████-------------------------------------| 26.8% Complete\rProgress: |█████████████-------------------------------------| 26.8% Complete\rProgress: |█████████████-------------------------------------| 26.9% Complete\rProgress: |█████████████-------------------------------------| 27.0% Complete\rProgress: |█████████████-------------------------------------| 27.0% Complete\rProgress: |█████████████-------------------------------------| 27.1% Complete\rProgress: |█████████████-------------------------------------| 27.1% Complete\rProgress: |█████████████-------------------------------------| 27.2% Complete\rProgress: |█████████████-------------------------------------| 27.2% Complete\rProgress: |█████████████-------------------------------------| 27.3% Complete\rProgress: |█████████████-------------------------------------| 27.4% Complete\rProgress: |█████████████-------------------------------------| 27.4% Complete\rProgress: |█████████████-------------------------------------| 27.5% Complete\rProgress: |█████████████-------------------------------------| 27.5% Complete\rProgress: |█████████████-------------------------------------| 27.6% Complete\rProgress: |█████████████-------------------------------------| 27.7% Complete\rProgress: |█████████████-------------------------------------| 27.7% Complete\rProgress: |█████████████-------------------------------------| 27.8% Complete\rProgress: |█████████████-------------------------------------| 27.8% Complete\rProgress: |█████████████-------------------------------------| 27.9% Complete\rProgress: |█████████████-------------------------------------| 27.9% Complete\rProgress: |██████████████------------------------------------| 28.0% Complete\rProgress: |██████████████------------------------------------| 28.1% Complete\rProgress: |██████████████------------------------------------| 28.1% Complete\rProgress: |██████████████------------------------------------| 28.2% Complete\rProgress: |██████████████------------------------------------| 28.2% Complete\rProgress: |██████████████------------------------------------| 28.3% Complete\rProgress: |██████████████------------------------------------| 28.4% Complete\rProgress: |██████████████------------------------------------| 28.4% Complete\rProgress: |██████████████------------------------------------| 28.5% Complete\rProgress: |██████████████------------------------------------| 28.5% Complete\rProgress: |██████████████------------------------------------| 28.6% Complete\rProgress: |██████████████------------------------------------| 28.6% Complete\rProgress: |██████████████------------------------------------| 28.7% Complete\rProgress: |██████████████------------------------------------| 28.8% Complete\rProgress: |██████████████------------------------------------| 28.8% Complete\rProgress: |██████████████------------------------------------| 28.9% Complete\rProgress: |██████████████------------------------------------| 28.9% Complete\rProgress: |██████████████------------------------------------| 29.0% Complete\rProgress: |██████████████------------------------------------| 29.1% Complete\rProgress: |██████████████------------------------------------| 29.1% Complete\rProgress: |██████████████------------------------------------| 29.2% Complete\rProgress: |██████████████------------------------------------| 29.2% Complete\rProgress: |██████████████------------------------------------| 29.3% Complete\rProgress: |██████████████------------------------------------| 29.3% Complete\rProgress: |██████████████------------------------------------| 29.4% Complete\rProgress: |██████████████------------------------------------| 29.5% Complete\rProgress: |██████████████------------------------------------| 29.5% Complete\rProgress: |██████████████------------------------------------| 29.6% Complete\rProgress: |██████████████------------------------------------| 29.6% Complete\rProgress: |██████████████------------------------------------| 29.7% Complete\rProgress: |██████████████------------------------------------| 29.8% Complete\rProgress: |██████████████------------------------------------| 29.8% Complete\rProgress: |██████████████------------------------------------| 29.9% Complete\rProgress: |██████████████------------------------------------| 29.9% Complete\rProgress: |██████████████------------------------------------| 30.0% Complete\rProgress: |███████████████-----------------------------------| 30.0% Complete\rProgress: |███████████████-----------------------------------| 30.1% Complete\rProgress: |███████████████-----------------------------------| 30.2% Complete\rProgress: |███████████████-----------------------------------| 30.2% Complete\rProgress: |███████████████-----------------------------------| 30.3% Complete\rProgress: |███████████████-----------------------------------| 30.3% Complete\rProgress: |███████████████-----------------------------------| 30.4% Complete\rProgress: |███████████████-----------------------------------| 30.5% Complete\rProgress: |███████████████-----------------------------------| 30.5% Complete\rProgress: |███████████████-----------------------------------| 30.6% Complete\rProgress: |███████████████-----------------------------------| 30.6% Complete\rProgress: |███████████████-----------------------------------| 30.7% Complete\rProgress: |███████████████-----------------------------------| 30.7% Complete\rProgress: |███████████████-----------------------------------| 30.8% Complete\rProgress: |███████████████-----------------------------------| 30.9% Complete\rProgress: |███████████████-----------------------------------| 30.9% Complete\rProgress: |███████████████-----------------------------------| 31.0% Complete\rProgress: |███████████████-----------------------------------| 31.0% Complete\rProgress: |███████████████-----------------------------------| 31.1% Complete\rProgress: |███████████████-----------------------------------| 31.2% Complete\rProgress: |███████████████-----------------------------------| 31.2% Complete\rProgress: |███████████████-----------------------------------| 31.3% Complete\rProgress: |███████████████-----------------------------------| 31.3% Complete\rProgress: |███████████████-----------------------------------| 31.4% Complete\rProgress: |███████████████-----------------------------------| 31.4% Complete\rProgress: |███████████████-----------------------------------| 31.5% Complete\rProgress: |███████████████-----------------------------------| 31.6% Complete\rProgress: |███████████████-----------------------------------| 31.6% Complete\rProgress: |███████████████-----------------------------------| 31.7% Complete\rProgress: |███████████████-----------------------------------| 31.7% Complete\rProgress: |███████████████-----------------------------------| 31.8% Complete\rProgress: |███████████████-----------------------------------| 31.9% Complete\rProgress: |███████████████-----------------------------------| 31.9% Complete\rProgress: |███████████████-----------------------------------| 32.0% Complete\rProgress: |████████████████----------------------------------| 32.0% Complete\rProgress: |████████████████----------------------------------| 32.1% Complete\rProgress: |████████████████----------------------------------| 32.1% Complete\rProgress: |████████████████----------------------------------| 32.2% Complete\rProgress: |████████████████----------------------------------| 32.3% Complete\rProgress: |████████████████----------------------------------| 32.3% Complete\rProgress: |████████████████----------------------------------| 32.4% Complete\rProgress: |████████████████----------------------------------| 32.4% Complete\rProgress: |████████████████----------------------------------| 32.5% Complete\rProgress: |████████████████----------------------------------| 32.6% Complete\rProgress: |████████████████----------------------------------| 32.6% Complete\rProgress: |████████████████----------------------------------| 32.7% Complete\rProgress: |████████████████----------------------------------| 32.7% Complete\rProgress: |████████████████----------------------------------| 32.8% Complete\rProgress: |████████████████----------------------------------| 32.8% Complete\rProgress: |████████████████----------------------------------| 32.9% Complete\rProgress: |████████████████----------------------------------| 33.0% Complete\rProgress: |████████████████----------------------------------| 33.0% Complete\rProgress: |████████████████----------------------------------| 33.1% Complete\rProgress: |████████████████----------------------------------| 33.1% Complete\rProgress: |████████████████----------------------------------| 33.2% Complete\rProgress: |████████████████----------------------------------| 33.3% Complete\rProgress: |████████████████----------------------------------| 33.3% Complete\rProgress: |████████████████----------------------------------| 33.4% Complete\rProgress: |████████████████----------------------------------| 33.4% Complete\rProgress: |████████████████----------------------------------| 33.5% Complete\rProgress: |████████████████----------------------------------| 33.5% Complete\rProgress: |████████████████----------------------------------| 33.6% Complete\rProgress: |████████████████----------------------------------| 33.7% Complete\rProgress: |████████████████----------------------------------| 33.7% Complete\rProgress: |████████████████----------------------------------| 33.8% Complete\rProgress: |████████████████----------------------------------| 33.8% Complete\rProgress: |████████████████----------------------------------| 33.9% Complete\rProgress: |████████████████----------------------------------| 34.0% Complete\rProgress: |█████████████████---------------------------------| 34.0% Complete\rProgress: |█████████████████---------------------------------| 34.1% Complete\rProgress: |█████████████████---------------------------------| 34.1% Complete\rProgress: |█████████████████---------------------------------| 34.2% Complete\rProgress: |█████████████████---------------------------------| 34.2% Complete\rProgress: |█████████████████---------------------------------| 34.3% Complete\rProgress: |█████████████████---------------------------------| 34.4% Complete\rProgress: |█████████████████---------------------------------| 34.4% Complete\rProgress: |█████████████████---------------------------------| 34.5% Complete\rProgress: |█████████████████---------------------------------| 34.5% Complete\rProgress: |█████████████████---------------------------------| 34.6% Complete\rProgress: |█████████████████---------------------------------| 34.7% Complete\rProgress: |█████████████████---------------------------------| 34.7% Complete\rProgress: |█████████████████---------------------------------| 34.8% Complete\rProgress: |█████████████████---------------------------------| 34.8% Complete\rProgress: |█████████████████---------------------------------| 34.9% Complete\rProgress: |█████████████████---------------------------------| 34.9% Complete\rProgress: |█████████████████---------------------------------| 35.0% Complete\rProgress: |█████████████████---------------------------------| 35.1% Complete\rProgress: |█████████████████---------------------------------| 35.1% Complete\rProgress: |█████████████████---------------------------------| 35.2% Complete\rProgress: |█████████████████---------------------------------| 35.2% Complete\rProgress: |█████████████████---------------------------------| 35.3% Complete\rProgress: |█████████████████---------------------------------| 35.4% Complete\rProgress: |█████████████████---------------------------------| 35.4% Complete\rProgress: |█████████████████---------------------------------| 35.5% Complete\rProgress: |█████████████████---------------------------------| 35.5% Complete\rProgress: |█████████████████---------------------------------| 35.6% Complete\rProgress: |█████████████████---------------------------------| 35.6% Complete\rProgress: |█████████████████---------------------------------| 35.7% Complete\rProgress: |█████████████████---------------------------------| 35.8% Complete\rProgress: |█████████████████---------------------------------| 35.8% Complete\rProgress: |█████████████████---------------------------------| 35.9% Complete\rProgress: |█████████████████---------------------------------| 35.9% Complete\rProgress: |█████████████████---------------------------------| 36.0% Complete\rProgress: |██████████████████--------------------------------| 36.1% Complete\rProgress: |██████████████████--------------------------------| 36.1% Complete\rProgress: |██████████████████--------------------------------| 36.2% Complete\rProgress: |██████████████████--------------------------------| 36.2% Complete\rProgress: |██████████████████--------------------------------| 36.3% Complete\rProgress: |██████████████████--------------------------------| 36.3% Complete\rProgress: |██████████████████--------------------------------| 36.4% Complete\rProgress: |██████████████████--------------------------------| 36.5% Complete\rProgress: |██████████████████--------------------------------| 36.5% Complete\rProgress: |██████████████████--------------------------------| 36.6% Complete\rProgress: |██████████████████--------------------------------| 36.6% Complete\rProgress: |██████████████████--------------------------------| 36.7% Complete\rProgress: |██████████████████--------------------------------| 36.8% Complete\rProgress: |██████████████████--------------------------------| 36.8% Complete\rProgress: |██████████████████--------------------------------| 36.9% Complete\rProgress: |██████████████████--------------------------------| 36.9% Complete\rProgress: |██████████████████--------------------------------| 37.0% Complete\rProgress: |██████████████████--------------------------------| 37.0% Complete\rProgress: |██████████████████--------------------------------| 37.1% Complete\rProgress: |██████████████████--------------------------------| 37.2% Complete\rProgress: |██████████████████--------------------------------| 37.2% Complete\rProgress: |██████████████████--------------------------------| 37.3% Complete\rProgress: |██████████████████--------------------------------| 37.3% Complete\rProgress: |██████████████████--------------------------------| 37.4% Complete\rProgress: |██████████████████--------------------------------| 37.5% Complete\rProgress: |██████████████████--------------------------------| 37.5% Complete\rProgress: |██████████████████--------------------------------| 37.6% Complete\rProgress: |██████████████████--------------------------------| 37.6% Complete\rProgress: |██████████████████--------------------------------| 37.7% Complete\rProgress: |██████████████████--------------------------------| 37.7% Complete\rProgress: |██████████████████--------------------------------| 37.8% Complete\rProgress: |██████████████████--------------------------------| 37.9% Complete\rProgress: |██████████████████--------------------------------| 37.9% Complete\rProgress: |██████████████████--------------------------------| 38.0% Complete\rProgress: |███████████████████-------------------------------| 38.0% Complete\rProgress: |███████████████████-------------------------------| 38.1% Complete\rProgress: |███████████████████-------------------------------| 38.2% Complete\rProgress: |███████████████████-------------------------------| 38.2% Complete\rProgress: |███████████████████-------------------------------| 38.3% Complete\rProgress: |███████████████████-------------------------------| 38.3% Complete\rProgress: |███████████████████-------------------------------| 38.4% Complete\rProgress: |███████████████████-------------------------------| 38.4% Complete\rProgress: |███████████████████-------------------------------| 38.5% Complete\rProgress: |███████████████████-------------------------------| 38.6% Complete\rProgress: |███████████████████-------------------------------| 38.6% Complete\rProgress: |███████████████████-------------------------------| 38.7% Complete\rProgress: |███████████████████-------------------------------| 38.7% Complete\rProgress: |███████████████████-------------------------------| 38.8% Complete\rProgress: |███████████████████-------------------------------| 38.9% Complete\rProgress: |███████████████████-------------------------------| 38.9% Complete\rProgress: |███████████████████-------------------------------| 39.0% Complete\rProgress: |███████████████████-------------------------------| 39.0% Complete\rProgress: |███████████████████-------------------------------| 39.1% Complete\rProgress: |███████████████████-------------------------------| 39.1% Complete\rProgress: |███████████████████-------------------------------| 39.2% Complete\rProgress: |███████████████████-------------------------------| 39.3% Complete\rProgress: |███████████████████-------------------------------| 39.3% Complete\rProgress: |███████████████████-------------------------------| 39.4% Complete\rProgress: |███████████████████-------------------------------| 39.4% Complete\rProgress: |███████████████████-------------------------------| 39.5% Complete\rProgress: |███████████████████-------------------------------| 39.6% Complete\rProgress: |███████████████████-------------------------------| 39.6% Complete\rProgress: |███████████████████-------------------------------| 39.7% Complete\rProgress: |███████████████████-------------------------------| 39.7% Complete\rProgress: |███████████████████-------------------------------| 39.8% Complete\rProgress: |███████████████████-------------------------------| 39.8% Complete\rProgress: |███████████████████-------------------------------| 39.9% Complete\rProgress: |███████████████████-------------------------------| 40.0% Complete\rProgress: |████████████████████------------------------------| 40.0% Complete\rProgress: |████████████████████------------------------------| 40.1% Complete\rProgress: |████████████████████------------------------------| 40.1% Complete\rProgress: |████████████████████------------------------------| 40.2% Complete\rProgress: |████████████████████------------------------------| 40.3% Complete\rProgress: |████████████████████------------------------------| 40.3% Complete\rProgress: |████████████████████------------------------------| 40.4% Complete\rProgress: |████████████████████------------------------------| 40.4% Complete\rProgress: |████████████████████------------------------------| 40.5% Complete\rProgress: |████████████████████------------------------------| 40.5% Complete\rProgress: |████████████████████------------------------------| 40.6% Complete\rProgress: |████████████████████------------------------------| 40.7% Complete\rProgress: |████████████████████------------------------------| 40.7% Complete\rProgress: |████████████████████------------------------------| 40.8% Complete\rProgress: |████████████████████------------------------------| 40.8% Complete\rProgress: |████████████████████------------------------------| 40.9% Complete\rProgress: |████████████████████------------------------------| 41.0% Complete\rProgress: |████████████████████------------------------------| 41.0% Complete\rProgress: |████████████████████------------------------------| 41.1% Complete\rProgress: |████████████████████------------------------------| 41.1% Complete\rProgress: |████████████████████------------------------------| 41.2% Complete\rProgress: |████████████████████------------------------------| 41.2% Complete\rProgress: |████████████████████------------------------------| 41.3% Complete\rProgress: |████████████████████------------------------------| 41.4% Complete\rProgress: |████████████████████------------------------------| 41.4% Complete\rProgress: |████████████████████------------------------------| 41.5% Complete\rProgress: |████████████████████------------------------------| 41.5% Complete\rProgress: |████████████████████------------------------------| 41.6% Complete\rProgress: |████████████████████------------------------------| 41.7% Complete\rProgress: |████████████████████------------------------------| 41.7% Complete\rProgress: |████████████████████------------------------------| 41.8% Complete\rProgress: |████████████████████------------------------------| 41.8% Complete\rProgress: |████████████████████------------------------------| 41.9% Complete\rProgress: |████████████████████------------------------------| 41.9% Complete\rProgress: |█████████████████████-----------------------------| 42.0% Complete\rProgress: |█████████████████████-----------------------------| 42.1% Complete\rProgress: |█████████████████████-----------------------------| 42.1% Complete\rProgress: |█████████████████████-----------------------------| 42.2% Complete\rProgress: |█████████████████████-----------------------------| 42.2% Complete\rProgress: |█████████████████████-----------------------------| 42.3% Complete\rProgress: |█████████████████████-----------------------------| 42.4% Complete\rProgress: |█████████████████████-----------------------------| 42.4% Complete\rProgress: |█████████████████████-----------------------------| 42.5% Complete\rProgress: |█████████████████████-----------------------------| 42.5% Complete\rProgress: |█████████████████████-----------------------------| 42.6% Complete\rProgress: |█████████████████████-----------------------------| 42.6% Complete\rProgress: |█████████████████████-----------------------------| 42.7% Complete\rProgress: |█████████████████████-----------------------------| 42.8% Complete\rProgress: |█████████████████████-----------------------------| 42.8% Complete\rProgress: |█████████████████████-----------------------------| 42.9% Complete\rProgress: |█████████████████████-----------------------------| 42.9% Complete\rProgress: |█████████████████████-----------------------------| 43.0% Complete\rProgress: |█████████████████████-----------------------------| 43.1% Complete\rProgress: |█████████████████████-----------------------------| 43.1% Complete\rProgress: |█████████████████████-----------------------------| 43.2% Complete\rProgress: |█████████████████████-----------------------------| 43.2% Complete\rProgress: |█████████████████████-----------------------------| 43.3% Complete\rProgress: |█████████████████████-----------------------------| 43.3% Complete\rProgress: |█████████████████████-----------------------------| 43.4% Complete\rProgress: |█████████████████████-----------------------------| 43.5% Complete\rProgress: |█████████████████████-----------------------------| 43.5% Complete\rProgress: |█████████████████████-----------------------------| 43.6% Complete\rProgress: |█████████████████████-----------------------------| 43.6% Complete\rProgress: |█████████████████████-----------------------------| 43.7% Complete\rProgress: |█████████████████████-----------------------------| 43.8% Complete\rProgress: |█████████████████████-----------------------------| 43.8% Complete\rProgress: |█████████████████████-----------------------------| 43.9% Complete\rProgress: |█████████████████████-----------------------------| 43.9% Complete\rProgress: |█████████████████████-----------------------------| 44.0% Complete\rProgress: |██████████████████████----------------------------| 44.0% Complete\rProgress: |██████████████████████----------------------------| 44.1% Complete\rProgress: |██████████████████████----------------------------| 44.2% Complete\rProgress: |██████████████████████----------------------------| 44.2% Complete\rProgress: |██████████████████████----------------------------| 44.3% Complete\rProgress: |██████████████████████----------------------------| 44.3% Complete\rProgress: |██████████████████████----------------------------| 44.4% Complete\rProgress: |██████████████████████----------------------------| 44.5% Complete\rProgress: |██████████████████████----------------------------| 44.5% Complete\rProgress: |██████████████████████----------------------------| 44.6% Complete\rProgress: |██████████████████████----------------------------| 44.6% Complete\rProgress: |██████████████████████----------------------------| 44.7% Complete\rProgress: |██████████████████████----------------------------| 44.7% Complete\rProgress: |██████████████████████----------------------------| 44.8% Complete\rProgress: |██████████████████████----------------------------| 44.9% Complete\rProgress: |██████████████████████----------------------------| 44.9% Complete\rProgress: |██████████████████████----------------------------| 45.0% Complete\rProgress: |██████████████████████----------------------------| 45.0% Complete\rProgress: |██████████████████████----------------------------| 45.1% Complete\rProgress: |██████████████████████----------------------------| 45.2% Complete\rProgress: |██████████████████████----------------------------| 45.2% Complete\rProgress: |██████████████████████----------------------------| 45.3% Complete\rProgress: |██████████████████████----------------------------| 45.3% Complete\rProgress: |██████████████████████----------------------------| 45.4% Complete\rProgress: |██████████████████████----------------------------| 45.4% Complete\rProgress: |██████████████████████----------------------------| 45.5% Complete\rProgress: |██████████████████████----------------------------| 45.6% Complete\rProgress: |██████████████████████----------------------------| 45.6% Complete\rProgress: |██████████████████████----------------------------| 45.7% Complete\rProgress: |██████████████████████----------------------------| 45.7% Complete\rProgress: |██████████████████████----------------------------| 45.8% Complete\rProgress: |██████████████████████----------------------------| 45.9% Complete\rProgress: |██████████████████████----------------------------| 45.9% Complete\rProgress: |██████████████████████----------------------------| 46.0% Complete\rProgress: |███████████████████████---------------------------| 46.0% Complete\rProgress: |███████████████████████---------------------------| 46.1% Complete\rProgress: |███████████████████████---------------------------| 46.1% Complete\rProgress: |███████████████████████---------------------------| 46.2% Complete\rProgress: |███████████████████████---------------------------| 46.3% Complete\rProgress: |███████████████████████---------------------------| 46.3% Complete\rProgress: |███████████████████████---------------------------| 46.4% Complete\rProgress: |███████████████████████---------------------------| 46.4% Complete\rProgress: |███████████████████████---------------------------| 46.5% Complete\rProgress: |███████████████████████---------------------------| 46.6% Complete\rProgress: |███████████████████████---------------------------| 46.6% Complete\rProgress: |███████████████████████---------------------------| 46.7% Complete\rProgress: |███████████████████████---------------------------| 46.7% Complete\rProgress: |███████████████████████---------------------------| 46.8% Complete\rProgress: |███████████████████████---------------------------| 46.8% Complete\rProgress: |███████████████████████---------------------------| 46.9% Complete\rProgress: |███████████████████████---------------------------| 47.0% Complete\rProgress: |███████████████████████---------------------------| 47.0% Complete\rProgress: |███████████████████████---------------------------| 47.1% Complete\rProgress: |███████████████████████---------------------------| 47.1% Complete\rProgress: |███████████████████████---------------------------| 47.2% Complete\rProgress: |███████████████████████---------------------------| 47.3% Complete\rProgress: |███████████████████████---------------------------| 47.3% Complete\rProgress: |███████████████████████---------------------------| 47.4% Complete\rProgress: |███████████████████████---------------------------| 47.4% Complete\rProgress: |███████████████████████---------------------------| 47.5% Complete\rProgress: |███████████████████████---------------------------| 47.6% Complete\rProgress: |███████████████████████---------------------------| 47.6% Complete\rProgress: |███████████████████████---------------------------| 47.7% Complete\rProgress: |███████████████████████---------------------------| 47.7% Complete\rProgress: |███████████████████████---------------------------| 47.8% Complete\rProgress: |███████████████████████---------------------------| 47.8% Complete\rProgress: |███████████████████████---------------------------| 47.9% Complete\rProgress: |███████████████████████---------------------------| 48.0% Complete\rProgress: |████████████████████████--------------------------| 48.0% Complete\rProgress: |████████████████████████--------------------------| 48.1% Complete\rProgress: |████████████████████████--------------------------| 48.1% Complete\rProgress: |████████████████████████--------------------------| 48.2% Complete\rProgress: |████████████████████████--------------------------| 48.3% Complete\rProgress: |████████████████████████--------------------------| 48.3% Complete\rProgress: |████████████████████████--------------------------| 48.4% Complete\rProgress: |████████████████████████--------------------------| 48.4% Complete\rProgress: |████████████████████████--------------------------| 48.5% Complete\rProgress: |████████████████████████--------------------------| 48.5% Complete\rProgress: |████████████████████████--------------------------| 48.6% Complete\rProgress: |████████████████████████--------------------------| 48.7% Complete\rProgress: |████████████████████████--------------------------| 48.7% Complete\rProgress: |████████████████████████--------------------------| 48.8% Complete\rProgress: |████████████████████████--------------------------| 48.8% Complete\rProgress: |████████████████████████--------------------------| 48.9% Complete\rProgress: |████████████████████████--------------------------| 49.0% Complete\rProgress: |████████████████████████--------------------------| 49.0% Complete\rProgress: |████████████████████████--------------------------| 49.1% Complete\rProgress: |████████████████████████--------------------------| 49.1% Complete\rProgress: |████████████████████████--------------------------| 49.2% Complete\rProgress: |████████████████████████--------------------------| 49.2% Complete\rProgress: |████████████████████████--------------------------| 49.3% Complete\rProgress: |████████████████████████--------------------------| 49.4% Complete\rProgress: |████████████████████████--------------------------| 49.4% Complete\rProgress: |████████████████████████--------------------------| 49.5% Complete\rProgress: |████████████████████████--------------------------| 49.5% Complete\rProgress: |████████████████████████--------------------------| 49.6% Complete\rProgress: |████████████████████████--------------------------| 49.7% Complete\rProgress: |████████████████████████--------------------------| 49.7% Complete\rProgress: |████████████████████████--------------------------| 49.8% Complete\rProgress: |████████████████████████--------------------------| 49.8% Complete\rProgress: |████████████████████████--------------------------| 49.9% Complete\rProgress: |████████████████████████--------------------------| 49.9% Complete\rProgress: |█████████████████████████-------------------------| 50.0% Complete\rProgress: |█████████████████████████-------------------------| 50.1% Complete\rProgress: |█████████████████████████-------------------------| 50.1% Complete\rProgress: |█████████████████████████-------------------------| 50.2% Complete\rProgress: |█████████████████████████-------------------------| 50.2% Complete\rProgress: |█████████████████████████-------------------------| 50.3% Complete\rProgress: |█████████████████████████-------------------------| 50.4% Complete\rProgress: |█████████████████████████-------------------------| 50.4% Complete\rProgress: |█████████████████████████-------------------------| 50.5% Complete\rProgress: |█████████████████████████-------------------------| 50.5% Complete\rProgress: |█████████████████████████-------------------------| 50.6% Complete\rProgress: |█████████████████████████-------------------------| 50.6% Complete\rProgress: |█████████████████████████-------------------------| 50.7% Complete\rProgress: |█████████████████████████-------------------------| 50.8% Complete\rProgress: |█████████████████████████-------------------------| 50.8% Complete\rProgress: |█████████████████████████-------------------------| 50.9% Complete\rProgress: |█████████████████████████-------------------------| 50.9% Complete\rProgress: |█████████████████████████-------------------------| 51.0% Complete\rProgress: |█████████████████████████-------------------------| 51.1% Complete\rProgress: |█████████████████████████-------------------------| 51.1% Complete\rProgress: |█████████████████████████-------------------------| 51.2% Complete\rProgress: |█████████████████████████-------------------------| 51.2% Complete\rProgress: |█████████████████████████-------------------------| 51.3% Complete\rProgress: |█████████████████████████-------------------------| 51.3% Complete\rProgress: |█████████████████████████-------------------------| 51.4% Complete\rProgress: |█████████████████████████-------------------------| 51.5% Complete\rProgress: |█████████████████████████-------------------------| 51.5% Complete\rProgress: |█████████████████████████-------------------------| 51.6% Complete\rProgress: |█████████████████████████-------------------------| 51.6% Complete\rProgress: |█████████████████████████-------------------------| 51.7% Complete\rProgress: |█████████████████████████-------------------------| 51.8% Complete\rProgress: |█████████████████████████-------------------------| 51.8% Complete\rProgress: |█████████████████████████-------------------------| 51.9% Complete\rProgress: |█████████████████████████-------------------------| 51.9% Complete\rProgress: |█████████████████████████-------------------------| 52.0% Complete\rProgress: |██████████████████████████------------------------| 52.0% Complete\rProgress: |██████████████████████████------------------------| 52.1% Complete\rProgress: |██████████████████████████------------------------| 52.2% Complete\rProgress: |██████████████████████████------------------------| 52.2% Complete\rProgress: |██████████████████████████------------------------| 52.3% Complete\rProgress: |██████████████████████████------------------------| 52.3% Complete\rProgress: |██████████████████████████------------------------| 52.4% Complete\rProgress: |██████████████████████████------------------------| 52.5% Complete\rProgress: |██████████████████████████------------------------| 52.5% Complete\rProgress: |██████████████████████████------------------------| 52.6% Complete\rProgress: |██████████████████████████------------------------| 52.6% Complete\rProgress: |██████████████████████████------------------------| 52.7% Complete\rProgress: |██████████████████████████------------------------| 52.7% Complete\rProgress: |██████████████████████████------------------------| 52.8% Complete\rProgress: |██████████████████████████------------------------| 52.9% Complete\rProgress: |██████████████████████████------------------------| 52.9% Complete\rProgress: |██████████████████████████------------------------| 53.0% Complete\rProgress: |██████████████████████████------------------------| 53.0% Complete\rProgress: |██████████████████████████------------------------| 53.1% Complete\rProgress: |██████████████████████████------------------------| 53.2% Complete\rProgress: |██████████████████████████------------------------| 53.2% Complete\rProgress: |██████████████████████████------------------------| 53.3% Complete\rProgress: |██████████████████████████------------------------| 53.3% Complete\rProgress: |██████████████████████████------------------------| 53.4% Complete\rProgress: |██████████████████████████------------------------| 53.4% Complete\rProgress: |██████████████████████████------------------------| 53.5% Complete\rProgress: |██████████████████████████------------------------| 53.6% Complete\rProgress: |██████████████████████████------------------------| 53.6% Complete\rProgress: |██████████████████████████------------------------| 53.7% Complete\rProgress: |██████████████████████████------------------------| 53.7% Complete\rProgress: |██████████████████████████------------------------| 53.8% Complete\rProgress: |██████████████████████████------------------------| 53.9% Complete\rProgress: |██████████████████████████------------------------| 53.9% Complete\rProgress: |██████████████████████████------------------------| 54.0% Complete\rProgress: |███████████████████████████-----------------------| 54.0% Complete\rProgress: |███████████████████████████-----------------------| 54.1% Complete\rProgress: |███████████████████████████-----------------------| 54.1% Complete\rProgress: |███████████████████████████-----------------------| 54.2% Complete\rProgress: |███████████████████████████-----------------------| 54.3% Complete\rProgress: |███████████████████████████-----------------------| 54.3% Complete\rProgress: |███████████████████████████-----------------------| 54.4% Complete\rProgress: |███████████████████████████-----------------------| 54.4% Complete\rProgress: |███████████████████████████-----------------------| 54.5% Complete\rProgress: |███████████████████████████-----------------------| 54.6% Complete\rProgress: |███████████████████████████-----------------------| 54.6% Complete\rProgress: |███████████████████████████-----------------------| 54.7% Complete\rProgress: |███████████████████████████-----------------------| 54.7% Complete\rProgress: |███████████████████████████-----------------------| 54.8% Complete\rProgress: |███████████████████████████-----------------------| 54.8% Complete\rProgress: |███████████████████████████-----------------------| 54.9% Complete\rProgress: |███████████████████████████-----------------------| 55.0% Complete\rProgress: |███████████████████████████-----------------------| 55.0% Complete\rProgress: |███████████████████████████-----------------------| 55.1% Complete\rProgress: |███████████████████████████-----------------------| 55.1% Complete\rProgress: |███████████████████████████-----------------------| 55.2% Complete\rProgress: |███████████████████████████-----------------------| 55.3% Complete\rProgress: |███████████████████████████-----------------------| 55.3% Complete\rProgress: |███████████████████████████-----------------------| 55.4% Complete\rProgress: |███████████████████████████-----------------------| 55.4% Complete\rProgress: |███████████████████████████-----------------------| 55.5% Complete\rProgress: |███████████████████████████-----------------------| 55.5% Complete\rProgress: |███████████████████████████-----------------------| 55.6% Complete\rProgress: |███████████████████████████-----------------------| 55.7% Complete\rProgress: |███████████████████████████-----------------------| 55.7% Complete\rProgress: |███████████████████████████-----------------------| 55.8% Complete\rProgress: |███████████████████████████-----------------------| 55.8% Complete\rProgress: |███████████████████████████-----------------------| 55.9% Complete\rProgress: |███████████████████████████-----------------------| 56.0% Complete\rProgress: |████████████████████████████----------------------| 56.0% Complete\rProgress: |████████████████████████████----------------------| 56.1% Complete\rProgress: |████████████████████████████----------------------| 56.1% Complete\rProgress: |████████████████████████████----------------------| 56.2% Complete\rProgress: |████████████████████████████----------------------| 56.2% Complete\rProgress: |████████████████████████████----------------------| 56.3% Complete\rProgress: |████████████████████████████----------------------| 56.4% Complete\rProgress: |████████████████████████████----------------------| 56.4% Complete\rProgress: |████████████████████████████----------------------| 56.5% Complete\rProgress: |████████████████████████████----------------------| 56.5% Complete\rProgress: |████████████████████████████----------------------| 56.6% Complete\rProgress: |████████████████████████████----------------------| 56.7% Complete\rProgress: |████████████████████████████----------------------| 56.7% Complete\rProgress: |████████████████████████████----------------------| 56.8% Complete\rProgress: |████████████████████████████----------------------| 56.8% Complete\rProgress: |████████████████████████████----------------------| 56.9% Complete\rProgress: |████████████████████████████----------------------| 56.9% Complete\rProgress: |████████████████████████████----------------------| 57.0% Complete\rProgress: |████████████████████████████----------------------| 57.1% Complete\rProgress: |████████████████████████████----------------------| 57.1% Complete\rProgress: |████████████████████████████----------------------| 57.2% Complete\rProgress: |████████████████████████████----------------------| 57.2% Complete\rProgress: |████████████████████████████----------------------| 57.3% Complete\rProgress: |████████████████████████████----------------------| 57.4% Complete\rProgress: |████████████████████████████----------------------| 57.4% Complete\rProgress: |████████████████████████████----------------------| 57.5% Complete\rProgress: |████████████████████████████----------------------| 57.5% Complete\rProgress: |████████████████████████████----------------------| 57.6% Complete\rProgress: |████████████████████████████----------------------| 57.6% Complete\rProgress: |████████████████████████████----------------------| 57.7% Complete\rProgress: |████████████████████████████----------------------| 57.8% Complete\rProgress: |████████████████████████████----------------------| 57.8% Complete\rProgress: |████████████████████████████----------------------| 57.9% Complete\rProgress: |████████████████████████████----------------------| 57.9% Complete\rProgress: |████████████████████████████----------------------| 58.0% Complete\rProgress: |█████████████████████████████---------------------| 58.1% Complete\rProgress: |█████████████████████████████---------------------| 58.1% Complete\rProgress: |█████████████████████████████---------------------| 58.2% Complete\rProgress: |█████████████████████████████---------------------| 58.2% Complete\rProgress: |█████████████████████████████---------------------| 58.3% Complete\rProgress: |█████████████████████████████---------------------| 58.3% Complete\rProgress: |█████████████████████████████---------------------| 58.4% Complete\rProgress: |█████████████████████████████---------------------| 58.5% Complete\rProgress: |█████████████████████████████---------------------| 58.5% Complete\rProgress: |█████████████████████████████---------------------| 58.6% Complete\rProgress: |█████████████████████████████---------------------| 58.6% Complete\rProgress: |█████████████████████████████---------------------| 58.7% Complete\rProgress: |█████████████████████████████---------------------| 58.8% Complete\rProgress: |█████████████████████████████---------------------| 58.8% Complete\rProgress: |█████████████████████████████---------------------| 58.9% Complete\rProgress: |█████████████████████████████---------------------| 58.9% Complete\rProgress: |█████████████████████████████---------------------| 59.0% Complete\rProgress: |█████████████████████████████---------------------| 59.0% Complete\rProgress: |█████████████████████████████---------------------| 59.1% Complete\rProgress: |█████████████████████████████---------------------| 59.2% Complete\rProgress: |█████████████████████████████---------------------| 59.2% Complete\rProgress: |█████████████████████████████---------------------| 59.3% Complete\rProgress: |█████████████████████████████---------------------| 59.3% Complete\rProgress: |█████████████████████████████---------------------| 59.4% Complete\rProgress: |█████████████████████████████---------------------| 59.5% Complete\rProgress: |█████████████████████████████---------------------| 59.5% Complete\rProgress: |█████████████████████████████---------------------| 59.6% Complete\rProgress: |█████████████████████████████---------------------| 59.6% Complete\rProgress: |█████████████████████████████---------------------| 59.7% Complete\rProgress: |█████████████████████████████---------------------| 59.7% Complete\rProgress: |█████████████████████████████---------------------| 59.8% Complete\rProgress: |█████████████████████████████---------------------| 59.9% Complete\rProgress: |█████████████████████████████---------------------| 59.9% Complete\rProgress: |█████████████████████████████---------------------| 60.0% Complete\rProgress: |██████████████████████████████--------------------| 60.0% Complete\rProgress: |██████████████████████████████--------------------| 60.1% Complete\rProgress: |██████████████████████████████--------------------| 60.2% Complete\rProgress: |██████████████████████████████--------------------| 60.2% Complete\rProgress: |██████████████████████████████--------------------| 60.3% Complete\rProgress: |██████████████████████████████--------------------| 60.3% Complete\rProgress: |██████████████████████████████--------------------| 60.4% Complete\rProgress: |██████████████████████████████--------------------| 60.4% Complete\rProgress: |██████████████████████████████--------------------| 60.5% Complete\rProgress: |██████████████████████████████--------------------| 60.6% Complete\rProgress: |██████████████████████████████--------------------| 60.6% Complete\rProgress: |██████████████████████████████--------------------| 60.7% Complete\rProgress: |██████████████████████████████--------------------| 60.7% Complete\rProgress: |██████████████████████████████--------------------| 60.8% Complete\rProgress: |██████████████████████████████--------------------| 60.9% Complete\rProgress: |██████████████████████████████--------------------| 60.9% Complete\rProgress: |██████████████████████████████--------------------| 61.0% Complete\rProgress: |██████████████████████████████--------------------| 61.0% Complete\rProgress: |██████████████████████████████--------------------| 61.1% Complete\rProgress: |██████████████████████████████--------------------| 61.1% Complete\rProgress: |██████████████████████████████--------------------| 61.2% Complete\rProgress: |██████████████████████████████--------------------| 61.3% Complete\rProgress: |██████████████████████████████--------------------| 61.3% Complete\rProgress: |██████████████████████████████--------------------| 61.4% Complete\rProgress: |██████████████████████████████--------------------| 61.4% Complete\rProgress: |██████████████████████████████--------------------| 61.5% Complete\rProgress: |██████████████████████████████--------------------| 61.6% Complete\rProgress: |██████████████████████████████--------------------| 61.6% Complete\rProgress: |██████████████████████████████--------------------| 61.7% Complete\rProgress: |██████████████████████████████--------------------| 61.7% Complete\rProgress: |██████████████████████████████--------------------| 61.8% Complete\rProgress: |██████████████████████████████--------------------| 61.8% Complete\rProgress: |██████████████████████████████--------------------| 61.9% Complete\rProgress: |██████████████████████████████--------------------| 62.0% Complete\rProgress: |███████████████████████████████-------------------| 62.0% Complete\rProgress: |███████████████████████████████-------------------| 62.1% Complete\rProgress: |███████████████████████████████-------------------| 62.1% Complete\rProgress: |███████████████████████████████-------------------| 62.2% Complete\rProgress: |███████████████████████████████-------------------| 62.3% Complete\rProgress: |███████████████████████████████-------------------| 62.3% Complete\rProgress: |███████████████████████████████-------------------| 62.4% Complete\rProgress: |███████████████████████████████-------------------| 62.4% Complete\rProgress: |███████████████████████████████-------------------| 62.5% Complete\rProgress: |███████████████████████████████-------------------| 62.5% Complete\rProgress: |███████████████████████████████-------------------| 62.6% Complete\rProgress: |███████████████████████████████-------------------| 62.7% Complete\rProgress: |███████████████████████████████-------------------| 62.7% Complete\rProgress: |███████████████████████████████-------------------| 62.8% Complete\rProgress: |███████████████████████████████-------------------| 62.8% Complete\rProgress: |███████████████████████████████-------------------| 62.9% Complete\rProgress: |███████████████████████████████-------------------| 63.0% Complete\rProgress: |███████████████████████████████-------------------| 63.0% Complete\rProgress: |███████████████████████████████-------------------| 63.1% Complete\rProgress: |███████████████████████████████-------------------| 63.1% Complete\rProgress: |███████████████████████████████-------------------| 63.2% Complete\rProgress: |███████████████████████████████-------------------| 63.2% Complete\rProgress: |███████████████████████████████-------------------| 63.3% Complete\rProgress: |███████████████████████████████-------------------| 63.4% Complete\rProgress: |███████████████████████████████-------------------| 63.4% Complete\rProgress: |███████████████████████████████-------------------| 63.5% Complete\rProgress: |███████████████████████████████-------------------| 63.5% Complete\rProgress: |███████████████████████████████-------------------| 63.6% Complete\rProgress: |███████████████████████████████-------------------| 63.7% Complete\rProgress: |███████████████████████████████-------------------| 63.7% Complete\rProgress: |███████████████████████████████-------------------| 63.8% Complete\rProgress: |███████████████████████████████-------------------| 63.8% Complete\rProgress: |███████████████████████████████-------------------| 63.9% Complete\rProgress: |███████████████████████████████-------------------| 63.9% Complete\rProgress: |████████████████████████████████------------------| 64.0% Complete\rProgress: |████████████████████████████████------------------| 64.1% Complete\rProgress: |████████████████████████████████------------------| 64.1% Complete\rProgress: |████████████████████████████████------------------| 64.2% Complete\rProgress: |████████████████████████████████------------------| 64.2% Complete\rProgress: |████████████████████████████████------------------| 64.3% Complete\rProgress: |████████████████████████████████------------------| 64.4% Complete\rProgress: |████████████████████████████████------------------| 64.4% Complete\rProgress: |████████████████████████████████------------------| 64.5% Complete\rProgress: |████████████████████████████████------------------| 64.5% Complete\rProgress: |████████████████████████████████------------------| 64.6% Complete\rProgress: |████████████████████████████████------------------| 64.6% Complete\rProgress: |████████████████████████████████------------------| 64.7% Complete\rProgress: |████████████████████████████████------------------| 64.8% Complete\rProgress: |████████████████████████████████------------------| 64.8% Complete\rProgress: |████████████████████████████████------------------| 64.9% Complete\rProgress: |████████████████████████████████------------------| 64.9% Complete\rProgress: |████████████████████████████████------------------| 65.0% Complete\rProgress: |████████████████████████████████------------------| 65.1% Complete\rProgress: |████████████████████████████████------------------| 65.1% Complete\rProgress: |████████████████████████████████------------------| 65.2% Complete\rProgress: |████████████████████████████████------------------| 65.2% Complete\rProgress: |████████████████████████████████------------------| 65.3% Complete\rProgress: |████████████████████████████████------------------| 65.3% Complete\rProgress: |████████████████████████████████------------------| 65.4% Complete\rProgress: |████████████████████████████████------------------| 65.5% Complete\rProgress: |████████████████████████████████------------------| 65.5% Complete\rProgress: |████████████████████████████████------------------| 65.6% Complete\rProgress: |████████████████████████████████------------------| 65.6% Complete\rProgress: |████████████████████████████████------------------| 65.7% Complete\rProgress: |████████████████████████████████------------------| 65.8% Complete\rProgress: |████████████████████████████████------------------| 65.8% Complete\rProgress: |████████████████████████████████------------------| 65.9% Complete\rProgress: |████████████████████████████████------------------| 65.9% Complete\rProgress: |████████████████████████████████------------------| 66.0% Complete\rProgress: |█████████████████████████████████-----------------| 66.0% Complete\rProgress: |█████████████████████████████████-----------------| 66.1% Complete\rProgress: |█████████████████████████████████-----------------| 66.2% Complete\rProgress: |█████████████████████████████████-----------------| 66.2% Complete\rProgress: |█████████████████████████████████-----------------| 66.3% Complete\rProgress: |█████████████████████████████████-----------------| 66.3% Complete\rProgress: |█████████████████████████████████-----------------| 66.4% Complete\rProgress: |█████████████████████████████████-----------------| 66.5% Complete\rProgress: |█████████████████████████████████-----------------| 66.5% Complete\rProgress: |█████████████████████████████████-----------------| 66.6% Complete\rProgress: |█████████████████████████████████-----------------| 66.6% Complete\rProgress: |█████████████████████████████████-----------------| 66.7% Complete\rProgress: |█████████████████████████████████-----------------| 66.7% Complete\rProgress: |█████████████████████████████████-----------------| 66.8% Complete\rProgress: |█████████████████████████████████-----------------| 66.9% Complete\rProgress: |█████████████████████████████████-----------------| 66.9% Complete\rProgress: |█████████████████████████████████-----------------| 67.0% Complete\rProgress: |█████████████████████████████████-----------------| 67.0% Complete\rProgress: |█████████████████████████████████-----------------| 67.1% Complete\rProgress: |█████████████████████████████████-----------------| 67.2% Complete\rProgress: |█████████████████████████████████-----------------| 67.2% Complete\rProgress: |█████████████████████████████████-----------------| 67.3% Complete\rProgress: |█████████████████████████████████-----------------| 67.3% Complete\rProgress: |█████████████████████████████████-----------------| 67.4% Complete\rProgress: |█████████████████████████████████-----------------| 67.4% Complete\rProgress: |█████████████████████████████████-----------------| 67.5% Complete\rProgress: |█████████████████████████████████-----------------| 67.6% Complete\rProgress: |█████████████████████████████████-----------------| 67.6% Complete\rProgress: |█████████████████████████████████-----------------| 67.7% Complete\rProgress: |█████████████████████████████████-----------------| 67.7% Complete\rProgress: |█████████████████████████████████-----------------| 67.8% Complete\rProgress: |█████████████████████████████████-----------------| 67.9% Complete\rProgress: |█████████████████████████████████-----------------| 67.9% Complete\rProgress: |█████████████████████████████████-----------------| 68.0% Complete\rProgress: |██████████████████████████████████----------------| 68.0% Complete\rProgress: |██████████████████████████████████----------------| 68.1% Complete\rProgress: |██████████████████████████████████----------------| 68.1% Complete\rProgress: |██████████████████████████████████----------------| 68.2% Complete\rProgress: |██████████████████████████████████----------------| 68.3% Complete\rProgress: |██████████████████████████████████----------------| 68.3% Complete\rProgress: |██████████████████████████████████----------------| 68.4% Complete\rProgress: |██████████████████████████████████----------------| 68.4% Complete\rProgress: |██████████████████████████████████----------------| 68.5% Complete\rProgress: |██████████████████████████████████----------------| 68.6% Complete\rProgress: |██████████████████████████████████----------------| 68.6% Complete\rProgress: |██████████████████████████████████----------------| 68.7% Complete\rProgress: |██████████████████████████████████----------------| 68.7% Complete\rProgress: |██████████████████████████████████----------------| 68.8% Complete\rProgress: |██████████████████████████████████----------------| 68.8% Complete\rProgress: |██████████████████████████████████----------------| 68.9% Complete\rProgress: |██████████████████████████████████----------------| 69.0% Complete\rProgress: |██████████████████████████████████----------------| 69.0% Complete\rProgress: |██████████████████████████████████----------------| 69.1% Complete\rProgress: |██████████████████████████████████----------------| 69.1% Complete\rProgress: |██████████████████████████████████----------------| 69.2% Complete\rProgress: |██████████████████████████████████----------------| 69.3% Complete\rProgress: |██████████████████████████████████----------------| 69.3% Complete\rProgress: |██████████████████████████████████----------------| 69.4% Complete\rProgress: |██████████████████████████████████----------------| 69.4% Complete\rProgress: |██████████████████████████████████----------------| 69.5% Complete\rProgress: |██████████████████████████████████----------------| 69.5% Complete\rProgress: |██████████████████████████████████----------------| 69.6% Complete\rProgress: |██████████████████████████████████----------------| 69.7% Complete\rProgress: |██████████████████████████████████----------------| 69.7% Complete\rProgress: |██████████████████████████████████----------------| 69.8% Complete\rProgress: |██████████████████████████████████----------------| 69.8% Complete\rProgress: |██████████████████████████████████----------------| 69.9% Complete\rProgress: |██████████████████████████████████----------------| 70.0% Complete\rProgress: |███████████████████████████████████---------------| 70.0% Complete\rProgress: |███████████████████████████████████---------------| 70.1% Complete\rProgress: |███████████████████████████████████---------------| 70.1% Complete\rProgress: |███████████████████████████████████---------------| 70.2% Complete\rProgress: |███████████████████████████████████---------------| 70.2% Complete\rProgress: |███████████████████████████████████---------------| 70.3% Complete\rProgress: |███████████████████████████████████---------------| 70.4% Complete\rProgress: |███████████████████████████████████---------------| 70.4% Complete\rProgress: |███████████████████████████████████---------------| 70.5% Complete\rProgress: |███████████████████████████████████---------------| 70.5% Complete\rProgress: |███████████████████████████████████---------------| 70.6% Complete\rProgress: |███████████████████████████████████---------------| 70.7% Complete\rProgress: |███████████████████████████████████---------------| 70.7% Complete\rProgress: |███████████████████████████████████---------------| 70.8% Complete\rProgress: |███████████████████████████████████---------------| 70.8% Complete\rProgress: |███████████████████████████████████---------------| 70.9% Complete\rProgress: |███████████████████████████████████---------------| 70.9% Complete\rProgress: |███████████████████████████████████---------------| 71.0% Complete\rProgress: |███████████████████████████████████---------------| 71.1% Complete\rProgress: |███████████████████████████████████---------------| 71.1% Complete\rProgress: |███████████████████████████████████---------------| 71.2% Complete\rProgress: |███████████████████████████████████---------------| 71.2% Complete\rProgress: |███████████████████████████████████---------------| 71.3% Complete\rProgress: |███████████████████████████████████---------------| 71.4% Complete\rProgress: |███████████████████████████████████---------------| 71.4% Complete\rProgress: |███████████████████████████████████---------------| 71.5% Complete\rProgress: |███████████████████████████████████---------------| 71.5% Complete\rProgress: |███████████████████████████████████---------------| 71.6% Complete\rProgress: |███████████████████████████████████---------------| 71.6% Complete\rProgress: |███████████████████████████████████---------------| 71.7% Complete\rProgress: |███████████████████████████████████---------------| 71.8% Complete\rProgress: |███████████████████████████████████---------------| 71.8% Complete\rProgress: |███████████████████████████████████---------------| 71.9% Complete\rProgress: |███████████████████████████████████---------------| 71.9% Complete\rProgress: |███████████████████████████████████---------------| 72.0% Complete\rProgress: |████████████████████████████████████--------------| 72.1% Complete\rProgress: |████████████████████████████████████--------------| 72.1% Complete\rProgress: |████████████████████████████████████--------------| 72.2% Complete\rProgress: |████████████████████████████████████--------------| 72.2% Complete\rProgress: |████████████████████████████████████--------------| 72.3% Complete\rProgress: |████████████████████████████████████--------------| 72.3% Complete\rProgress: |████████████████████████████████████--------------| 72.4% Complete\rProgress: |████████████████████████████████████--------------| 72.5% Complete\rProgress: |████████████████████████████████████--------------| 72.5% Complete\rProgress: |████████████████████████████████████--------------| 72.6% Complete\rProgress: |████████████████████████████████████--------------| 72.6% Complete\rProgress: |████████████████████████████████████--------------| 72.7% Complete\rProgress: |████████████████████████████████████--------------| 72.8% Complete\rProgress: |████████████████████████████████████--------------| 72.8% Complete\rProgress: |████████████████████████████████████--------------| 72.9% Complete\rProgress: |████████████████████████████████████--------------| 72.9% Complete\rProgress: |████████████████████████████████████--------------| 73.0% Complete\rProgress: |████████████████████████████████████--------------| 73.0% Complete\rProgress: |████████████████████████████████████--------------| 73.1% Complete\rProgress: |████████████████████████████████████--------------| 73.2% Complete\rProgress: |████████████████████████████████████--------------| 73.2% Complete\rProgress: |████████████████████████████████████--------------| 73.3% Complete\rProgress: |████████████████████████████████████--------------| 73.3% Complete\rProgress: |████████████████████████████████████--------------| 73.4% Complete\rProgress: |████████████████████████████████████--------------| 73.5% Complete\rProgress: |████████████████████████████████████--------------| 73.5% Complete\rProgress: |████████████████████████████████████--------------| 73.6% Complete\rProgress: |████████████████████████████████████--------------| 73.6% Complete\rProgress: |████████████████████████████████████--------------| 73.7% Complete\rProgress: |████████████████████████████████████--------------| 73.7% Complete\rProgress: |████████████████████████████████████--------------| 73.8% Complete\rProgress: |████████████████████████████████████--------------| 73.9% Complete\rProgress: |████████████████████████████████████--------------| 73.9% Complete\rProgress: |████████████████████████████████████--------------| 74.0% Complete\rProgress: |█████████████████████████████████████-------------| 74.0% Complete\rProgress: |█████████████████████████████████████-------------| 74.1% Complete\rProgress: |█████████████████████████████████████-------------| 74.2% Complete\rProgress: |█████████████████████████████████████-------------| 74.2% Complete\rProgress: |█████████████████████████████████████-------------| 74.3% Complete\rProgress: |█████████████████████████████████████-------------| 74.3% Complete\rProgress: |█████████████████████████████████████-------------| 74.4% Complete\rProgress: |█████████████████████████████████████-------------| 74.4% Complete\rProgress: |█████████████████████████████████████-------------| 74.5% Complete\rProgress: |█████████████████████████████████████-------------| 74.6% Complete\rProgress: |█████████████████████████████████████-------------| 74.6% Complete\rProgress: |█████████████████████████████████████-------------| 74.7% Complete\rProgress: |█████████████████████████████████████-------------| 74.7% Complete\rProgress: |█████████████████████████████████████-------------| 74.8% Complete\rProgress: |█████████████████████████████████████-------------| 74.9% Complete\rProgress: |█████████████████████████████████████-------------| 74.9% Complete\rProgress: |█████████████████████████████████████-------------| 75.0% Complete\rProgress: |█████████████████████████████████████-------------| 75.0% Complete\rProgress: |█████████████████████████████████████-------------| 75.1% Complete\rProgress: |█████████████████████████████████████-------------| 75.1% Complete\rProgress: |█████████████████████████████████████-------------| 75.2% Complete\rProgress: |█████████████████████████████████████-------------| 75.3% Complete\rProgress: |█████████████████████████████████████-------------| 75.3% Complete\rProgress: |█████████████████████████████████████-------------| 75.4% Complete\rProgress: |█████████████████████████████████████-------------| 75.4% Complete\rProgress: |█████████████████████████████████████-------------| 75.5% Complete\rProgress: |█████████████████████████████████████-------------| 75.6% Complete\rProgress: |█████████████████████████████████████-------------| 75.6% Complete\rProgress: |█████████████████████████████████████-------------| 75.7% Complete\rProgress: |█████████████████████████████████████-------------| 75.7% Complete\rProgress: |█████████████████████████████████████-------------| 75.8% Complete\rProgress: |█████████████████████████████████████-------------| 75.8% Complete\rProgress: |█████████████████████████████████████-------------| 75.9% Complete\rProgress: |█████████████████████████████████████-------------| 76.0% Complete\rProgress: |██████████████████████████████████████------------| 76.0% Complete\rProgress: |██████████████████████████████████████------------| 76.1% Complete\rProgress: |██████████████████████████████████████------------| 76.1% Complete\rProgress: |██████████████████████████████████████------------| 76.2% Complete\rProgress: |██████████████████████████████████████------------| 76.3% Complete\rProgress: |██████████████████████████████████████------------| 76.3% Complete\rProgress: |██████████████████████████████████████------------| 76.4% Complete\rProgress: |██████████████████████████████████████------------| 76.4% Complete\rProgress: |██████████████████████████████████████------------| 76.5% Complete\rProgress: |██████████████████████████████████████------------| 76.5% Complete\rProgress: |██████████████████████████████████████------------| 76.6% Complete\rProgress: |██████████████████████████████████████------------| 76.7% Complete\rProgress: |██████████████████████████████████████------------| 76.7% Complete\rProgress: |██████████████████████████████████████------------| 76.8% Complete\rProgress: |██████████████████████████████████████------------| 76.8% Complete\rProgress: |██████████████████████████████████████------------| 76.9% Complete\rProgress: |██████████████████████████████████████------------| 77.0% Complete\rProgress: |██████████████████████████████████████------------| 77.0% Complete\rProgress: |██████████████████████████████████████------------| 77.1% Complete\rProgress: |██████████████████████████████████████------------| 77.1% Complete\rProgress: |██████████████████████████████████████------------| 77.2% Complete\rProgress: |██████████████████████████████████████------------| 77.2% Complete\rProgress: |██████████████████████████████████████------------| 77.3% Complete\rProgress: |██████████████████████████████████████------------| 77.4% Complete\rProgress: |██████████████████████████████████████------------| 77.4% Complete\rProgress: |██████████████████████████████████████------------| 77.5% Complete\rProgress: |██████████████████████████████████████------------| 77.5% Complete\rProgress: |██████████████████████████████████████------------| 77.6% Complete\rProgress: |██████████████████████████████████████------------| 77.7% Complete\rProgress: |██████████████████████████████████████------------| 77.7% Complete\rProgress: |██████████████████████████████████████------------| 77.8% Complete\rProgress: |██████████████████████████████████████------------| 77.8% Complete\rProgress: |██████████████████████████████████████------------| 77.9% Complete\rProgress: |██████████████████████████████████████------------| 77.9% Complete\rProgress: |███████████████████████████████████████-----------| 78.0% Complete\rProgress: |███████████████████████████████████████-----------| 78.1% Complete\rProgress: |███████████████████████████████████████-----------| 78.1% Complete\rProgress: |███████████████████████████████████████-----------| 78.2% Complete\rProgress: |███████████████████████████████████████-----------| 78.2% Complete\rProgress: |███████████████████████████████████████-----------| 78.3% Complete\rProgress: |███████████████████████████████████████-----------| 78.4% Complete\rProgress: |███████████████████████████████████████-----------| 78.4% Complete\rProgress: |███████████████████████████████████████-----------| 78.5% Complete\rProgress: |███████████████████████████████████████-----------| 78.5% Complete\rProgress: |███████████████████████████████████████-----------| 78.6% Complete\rProgress: |███████████████████████████████████████-----------| 78.6% Complete\rProgress: |███████████████████████████████████████-----------| 78.7% Complete\rProgress: |███████████████████████████████████████-----------| 78.8% Complete\rProgress: |███████████████████████████████████████-----------| 78.8% Complete\rProgress: |███████████████████████████████████████-----------| 78.9% Complete\rProgress: |███████████████████████████████████████-----------| 78.9% Complete\rProgress: |███████████████████████████████████████-----------| 79.0% Complete\rProgress: |███████████████████████████████████████-----------| 79.1% Complete\rProgress: |███████████████████████████████████████-----------| 79.1% Complete\rProgress: |███████████████████████████████████████-----------| 79.2% Complete\rProgress: |███████████████████████████████████████-----------| 79.2% Complete\rProgress: |███████████████████████████████████████-----------| 79.3% Complete\rProgress: |███████████████████████████████████████-----------| 79.3% Complete\rProgress: |███████████████████████████████████████-----------| 79.4% Complete\rProgress: |███████████████████████████████████████-----------| 79.5% Complete\rProgress: |███████████████████████████████████████-----------| 79.5% Complete\rProgress: |███████████████████████████████████████-----------| 79.6% Complete\rProgress: |███████████████████████████████████████-----------| 79.6% Complete\rProgress: |███████████████████████████████████████-----------| 79.7% Complete\rProgress: |███████████████████████████████████████-----------| 79.8% Complete\rProgress: |███████████████████████████████████████-----------| 79.8% Complete\rProgress: |███████████████████████████████████████-----------| 79.9% Complete\rProgress: |███████████████████████████████████████-----------| 79.9% Complete\rProgress: |███████████████████████████████████████-----------| 80.0% Complete\rProgress: |████████████████████████████████████████----------| 80.0% Complete\rProgress: |████████████████████████████████████████----------| 80.1% Complete\rProgress: |████████████████████████████████████████----------| 80.2% Complete\rProgress: |████████████████████████████████████████----------| 80.2% Complete\rProgress: |████████████████████████████████████████----------| 80.3% Complete\rProgress: |████████████████████████████████████████----------| 80.3% Complete\rProgress: |████████████████████████████████████████----------| 80.4% Complete\rProgress: |████████████████████████████████████████----------| 80.5% Complete\rProgress: |████████████████████████████████████████----------| 80.5% Complete\rProgress: |████████████████████████████████████████----------| 80.6% Complete\rProgress: |████████████████████████████████████████----------| 80.6% Complete\rProgress: |████████████████████████████████████████----------| 80.7% Complete\rProgress: |████████████████████████████████████████----------| 80.7% Complete\rProgress: |████████████████████████████████████████----------| 80.8% Complete\rProgress: |████████████████████████████████████████----------| 80.9% Complete\rProgress: |████████████████████████████████████████----------| 80.9% Complete\rProgress: |████████████████████████████████████████----------| 81.0% Complete\rProgress: |████████████████████████████████████████----------| 81.0% Complete\rProgress: |████████████████████████████████████████----------| 81.1% Complete\rProgress: |████████████████████████████████████████----------| 81.2% Complete\rProgress: |████████████████████████████████████████----------| 81.2% Complete\rProgress: |████████████████████████████████████████----------| 81.3% Complete\rProgress: |████████████████████████████████████████----------| 81.3% Complete\rProgress: |████████████████████████████████████████----------| 81.4% Complete\rProgress: |████████████████████████████████████████----------| 81.4% Complete\rProgress: |████████████████████████████████████████----------| 81.5% Complete\rProgress: |████████████████████████████████████████----------| 81.6% Complete\rProgress: |████████████████████████████████████████----------| 81.6% Complete\rProgress: |████████████████████████████████████████----------| 81.7% Complete\rProgress: |████████████████████████████████████████----------| 81.7% Complete\rProgress: |████████████████████████████████████████----------| 81.8% Complete\rProgress: |████████████████████████████████████████----------| 81.9% Complete\rProgress: |████████████████████████████████████████----------| 81.9% Complete\rProgress: |████████████████████████████████████████----------| 82.0% Complete\rProgress: |█████████████████████████████████████████---------| 82.0% Complete\rProgress: |█████████████████████████████████████████---------| 82.1% Complete\rProgress: |█████████████████████████████████████████---------| 82.1% Complete\rProgress: |█████████████████████████████████████████---------| 82.2% Complete\rProgress: |█████████████████████████████████████████---------| 82.3% Complete\rProgress: |█████████████████████████████████████████---------| 82.3% Complete\rProgress: |█████████████████████████████████████████---------| 82.4% Complete\rProgress: |█████████████████████████████████████████---------| 82.4% Complete\rProgress: |█████████████████████████████████████████---------| 82.5% Complete\rProgress: |█████████████████████████████████████████---------| 82.6% Complete\rProgress: |█████████████████████████████████████████---------| 82.6% Complete\rProgress: |█████████████████████████████████████████---------| 82.7% Complete\rProgress: |█████████████████████████████████████████---------| 82.7% Complete\rProgress: |█████████████████████████████████████████---------| 82.8% Complete\rProgress: |█████████████████████████████████████████---------| 82.8% Complete\rProgress: |█████████████████████████████████████████---------| 82.9% Complete\rProgress: |█████████████████████████████████████████---------| 83.0% Complete\rProgress: |█████████████████████████████████████████---------| 83.0% Complete\rProgress: |█████████████████████████████████████████---------| 83.1% Complete\rProgress: |█████████████████████████████████████████---------| 83.1% Complete\rProgress: |█████████████████████████████████████████---------| 83.2% Complete\rProgress: |█████████████████████████████████████████---------| 83.3% Complete\rProgress: |█████████████████████████████████████████---------| 83.3% Complete\rProgress: |█████████████████████████████████████████---------| 83.4% Complete\rProgress: |█████████████████████████████████████████---------| 83.4% Complete\rProgress: |█████████████████████████████████████████---------| 83.5% Complete\rProgress: |█████████████████████████████████████████---------| 83.5% Complete\rProgress: |█████████████████████████████████████████---------| 83.6% Complete\rProgress: |█████████████████████████████████████████---------| 83.7% Complete\rProgress: |█████████████████████████████████████████---------| 83.7% Complete\rProgress: |█████████████████████████████████████████---------| 83.8% Complete\rProgress: |█████████████████████████████████████████---------| 83.8% Complete\rProgress: |█████████████████████████████████████████---------| 83.9% Complete\rProgress: |█████████████████████████████████████████---------| 84.0% Complete\rProgress: |██████████████████████████████████████████--------| 84.0% Complete\rProgress: |██████████████████████████████████████████--------| 84.1% Complete\rProgress: |██████████████████████████████████████████--------| 84.1% Complete\rProgress: |██████████████████████████████████████████--------| 84.2% Complete\rProgress: |██████████████████████████████████████████--------| 84.2% Complete\rProgress: |██████████████████████████████████████████--------| 84.3% Complete\rProgress: |██████████████████████████████████████████--------| 84.4% Complete\rProgress: |██████████████████████████████████████████--------| 84.4% Complete\rProgress: |██████████████████████████████████████████--------| 84.5% Complete\rProgress: |██████████████████████████████████████████--------| 84.5% Complete\rProgress: |██████████████████████████████████████████--------| 84.6% Complete\rProgress: |██████████████████████████████████████████--------| 84.7% Complete\rProgress: |██████████████████████████████████████████--------| 84.7% Complete\rProgress: |██████████████████████████████████████████--------| 84.8% Complete\rProgress: |██████████████████████████████████████████--------| 84.8% Complete\rProgress: |██████████████████████████████████████████--------| 84.9% Complete\rProgress: |██████████████████████████████████████████--------| 84.9% Complete\rProgress: |██████████████████████████████████████████--------| 85.0% Complete\rProgress: |██████████████████████████████████████████--------| 85.1% Complete\rProgress: |██████████████████████████████████████████--------| 85.1% Complete\rProgress: |██████████████████████████████████████████--------| 85.2% Complete\rProgress: |██████████████████████████████████████████--------| 85.2% Complete\rProgress: |██████████████████████████████████████████--------| 85.3% Complete\rProgress: |██████████████████████████████████████████--------| 85.4% Complete\rProgress: |██████████████████████████████████████████--------| 85.4% Complete\rProgress: |██████████████████████████████████████████--------| 85.5% Complete\rProgress: |██████████████████████████████████████████--------| 85.5% Complete\rProgress: |██████████████████████████████████████████--------| 85.6% Complete\rProgress: |██████████████████████████████████████████--------| 85.6% Complete\rProgress: |██████████████████████████████████████████--------| 85.7% Complete\rProgress: |██████████████████████████████████████████--------| 85.8% Complete\rProgress: |██████████████████████████████████████████--------| 85.8% Complete\rProgress: |██████████████████████████████████████████--------| 85.9% Complete\rProgress: |██████████████████████████████████████████--------| 85.9% Complete\rProgress: |██████████████████████████████████████████--------| 86.0% Complete\rProgress: |███████████████████████████████████████████-------| 86.1% Complete\rProgress: |███████████████████████████████████████████-------| 86.1% Complete\rProgress: |███████████████████████████████████████████-------| 86.2% Complete\rProgress: |███████████████████████████████████████████-------| 86.2% Complete\rProgress: |███████████████████████████████████████████-------| 86.3% Complete\rProgress: |███████████████████████████████████████████-------| 86.3% Complete\rProgress: |███████████████████████████████████████████-------| 86.4% Complete\rProgress: |███████████████████████████████████████████-------| 86.5% Complete\rProgress: |███████████████████████████████████████████-------| 86.5% Complete\rProgress: |███████████████████████████████████████████-------| 86.6% Complete\rProgress: |███████████████████████████████████████████-------| 86.6% Complete\rProgress: |███████████████████████████████████████████-------| 86.7% Complete\rProgress: |███████████████████████████████████████████-------| 86.8% Complete\rProgress: |███████████████████████████████████████████-------| 86.8% Complete\rProgress: |███████████████████████████████████████████-------| 86.9% Complete\rProgress: |███████████████████████████████████████████-------| 86.9% Complete\rProgress: |███████████████████████████████████████████-------| 87.0% Complete\rProgress: |███████████████████████████████████████████-------| 87.0% Complete\rProgress: |███████████████████████████████████████████-------| 87.1% Complete\rProgress: |███████████████████████████████████████████-------| 87.2% Complete\rProgress: |███████████████████████████████████████████-------| 87.2% Complete\rProgress: |███████████████████████████████████████████-------| 87.3% Complete\rProgress: |███████████████████████████████████████████-------| 87.3% Complete\rProgress: |███████████████████████████████████████████-------| 87.4% Complete\rProgress: |███████████████████████████████████████████-------| 87.5% Complete\rProgress: |███████████████████████████████████████████-------| 87.5% Complete\rProgress: |███████████████████████████████████████████-------| 87.6% Complete\rProgress: |███████████████████████████████████████████-------| 87.6% Complete\rProgress: |███████████████████████████████████████████-------| 87.7% Complete\rProgress: |███████████████████████████████████████████-------| 87.7% Complete\rProgress: |███████████████████████████████████████████-------| 87.8% Complete\rProgress: |███████████████████████████████████████████-------| 87.9% Complete\rProgress: |███████████████████████████████████████████-------| 87.9% Complete\rProgress: |███████████████████████████████████████████-------| 88.0% Complete\rProgress: |████████████████████████████████████████████------| 88.0% Complete\rProgress: |████████████████████████████████████████████------| 88.1% Complete\rProgress: |████████████████████████████████████████████------| 88.2% Complete\rProgress: |████████████████████████████████████████████------| 88.2% Complete\rProgress: |████████████████████████████████████████████------| 88.3% Complete\rProgress: |████████████████████████████████████████████------| 88.3% Complete\rProgress: |████████████████████████████████████████████------| 88.4% Complete\rProgress: |████████████████████████████████████████████------| 88.4% Complete\rProgress: |████████████████████████████████████████████------| 88.5% Complete\rProgress: |████████████████████████████████████████████------| 88.6% Complete\rProgress: |████████████████████████████████████████████------| 88.6% Complete\rProgress: |████████████████████████████████████████████------| 88.7% Complete\rProgress: |████████████████████████████████████████████------| 88.7% Complete\rProgress: |████████████████████████████████████████████------| 88.8% Complete\rProgress: |████████████████████████████████████████████------| 88.9% Complete\rProgress: |████████████████████████████████████████████------| 88.9% Complete\rProgress: |████████████████████████████████████████████------| 89.0% Complete\rProgress: |████████████████████████████████████████████------| 89.0% Complete\rProgress: |████████████████████████████████████████████------| 89.1% Complete\rProgress: |████████████████████████████████████████████------| 89.1% Complete\rProgress: |████████████████████████████████████████████------| 89.2% Complete\rProgress: |████████████████████████████████████████████------| 89.3% Complete\rProgress: |████████████████████████████████████████████------| 89.3% Complete\rProgress: |████████████████████████████████████████████------| 89.4% Complete\rProgress: |████████████████████████████████████████████------| 89.4% Complete\rProgress: |████████████████████████████████████████████------| 89.5% Complete\rProgress: |████████████████████████████████████████████------| 89.6% Complete\rProgress: |████████████████████████████████████████████------| 89.6% Complete\rProgress: |████████████████████████████████████████████------| 89.7% Complete\rProgress: |████████████████████████████████████████████------| 89.7% Complete\rProgress: |████████████████████████████████████████████------| 89.8% Complete\rProgress: |████████████████████████████████████████████------| 89.8% Complete\rProgress: |████████████████████████████████████████████------| 89.9% Complete\rProgress: |████████████████████████████████████████████------| 90.0% Complete\rProgress: |█████████████████████████████████████████████-----| 90.0% Complete\rProgress: |█████████████████████████████████████████████-----| 90.1% Complete\rProgress: |█████████████████████████████████████████████-----| 90.1% Complete\rProgress: |█████████████████████████████████████████████-----| 90.2% Complete\rProgress: |█████████████████████████████████████████████-----| 90.3% Complete\rProgress: |█████████████████████████████████████████████-----| 90.3% Complete\rProgress: |█████████████████████████████████████████████-----| 90.4% Complete\rProgress: |█████████████████████████████████████████████-----| 90.4% Complete\rProgress: |█████████████████████████████████████████████-----| 90.5% Complete\rProgress: |█████████████████████████████████████████████-----| 90.5% Complete\rProgress: |█████████████████████████████████████████████-----| 90.6% Complete\rProgress: |█████████████████████████████████████████████-----| 90.7% Complete\rProgress: |█████████████████████████████████████████████-----| 90.7% Complete\rProgress: |█████████████████████████████████████████████-----| 90.8% Complete\rProgress: |█████████████████████████████████████████████-----| 90.8% Complete\rProgress: |█████████████████████████████████████████████-----| 90.9% Complete\rProgress: |█████████████████████████████████████████████-----| 91.0% Complete\rProgress: |█████████████████████████████████████████████-----| 91.0% Complete\rProgress: |█████████████████████████████████████████████-----| 91.1% Complete\rProgress: |█████████████████████████████████████████████-----| 91.1% Complete\rProgress: |█████████████████████████████████████████████-----| 91.2% Complete\rProgress: |█████████████████████████████████████████████-----| 91.2% Complete\rProgress: |█████████████████████████████████████████████-----| 91.3% Complete\rProgress: |█████████████████████████████████████████████-----| 91.4% Complete\rProgress: |█████████████████████████████████████████████-----| 91.4% Complete\rProgress: |█████████████████████████████████████████████-----| 91.5% Complete\rProgress: |█████████████████████████████████████████████-----| 91.5% Complete\rProgress: |█████████████████████████████████████████████-----| 91.6% Complete\rProgress: |█████████████████████████████████████████████-----| 91.7% Complete\rProgress: |█████████████████████████████████████████████-----| 91.7% Complete\rProgress: |█████████████████████████████████████████████-----| 91.8% Complete\rProgress: |█████████████████████████████████████████████-----| 91.8% Complete\rProgress: |█████████████████████████████████████████████-----| 91.9% Complete\rProgress: |█████████████████████████████████████████████-----| 91.9% Complete\rProgress: |██████████████████████████████████████████████----| 92.0% Complete\rProgress: |██████████████████████████████████████████████----| 92.1% Complete\rProgress: |██████████████████████████████████████████████----| 92.1% Complete\rProgress: |██████████████████████████████████████████████----| 92.2% Complete\rProgress: |██████████████████████████████████████████████----| 92.2% Complete\rProgress: |██████████████████████████████████████████████----| 92.3% Complete\rProgress: |██████████████████████████████████████████████----| 92.4% Complete\rProgress: |██████████████████████████████████████████████----| 92.4% Complete\rProgress: |██████████████████████████████████████████████----| 92.5% Complete\rProgress: |██████████████████████████████████████████████----| 92.5% Complete\rProgress: |██████████████████████████████████████████████----| 92.6% Complete\rProgress: |██████████████████████████████████████████████----| 92.6% Complete\rProgress: |██████████████████████████████████████████████----| 92.7% Complete\rProgress: |██████████████████████████████████████████████----| 92.8% Complete\rProgress: |██████████████████████████████████████████████----| 92.8% Complete\rProgress: |██████████████████████████████████████████████----| 92.9% Complete\rProgress: |██████████████████████████████████████████████----| 92.9% Complete\rProgress: |██████████████████████████████████████████████----| 93.0% Complete\rProgress: |██████████████████████████████████████████████----| 93.1% Complete\rProgress: |██████████████████████████████████████████████----| 93.1% Complete\rProgress: |██████████████████████████████████████████████----| 93.2% Complete\rProgress: |██████████████████████████████████████████████----| 93.2% Complete\rProgress: |██████████████████████████████████████████████----| 93.3% Complete\rProgress: |██████████████████████████████████████████████----| 93.3% Complete\rProgress: |██████████████████████████████████████████████----| 93.4% Complete\rProgress: |██████████████████████████████████████████████----| 93.5% Complete\rProgress: |██████████████████████████████████████████████----| 93.5% Complete\rProgress: |██████████████████████████████████████████████----| 93.6% Complete\rProgress: |██████████████████████████████████████████████----| 93.6% Complete\rProgress: |██████████████████████████████████████████████----| 93.7% Complete\rProgress: |██████████████████████████████████████████████----| 93.8% Complete\rProgress: |██████████████████████████████████████████████----| 93.8% Complete\rProgress: |██████████████████████████████████████████████----| 93.9% Complete\rProgress: |██████████████████████████████████████████████----| 93.9% Complete\rProgress: |██████████████████████████████████████████████----| 94.0% Complete\rProgress: |███████████████████████████████████████████████---| 94.0% Complete\rProgress: |███████████████████████████████████████████████---| 94.1% Complete\rProgress: |███████████████████████████████████████████████---| 94.2% Complete\rProgress: |███████████████████████████████████████████████---| 94.2% Complete\rProgress: |███████████████████████████████████████████████---| 94.3% Complete\rProgress: |███████████████████████████████████████████████---| 94.3% Complete\rProgress: |███████████████████████████████████████████████---| 94.4% Complete\rProgress: |███████████████████████████████████████████████---| 94.5% Complete\rProgress: |███████████████████████████████████████████████---| 94.5% Complete\rProgress: |███████████████████████████████████████████████---| 94.6% Complete\rProgress: |███████████████████████████████████████████████---| 94.6% Complete\rProgress: |███████████████████████████████████████████████---| 94.7% Complete\rProgress: |███████████████████████████████████████████████---| 94.8% Complete\rProgress: |███████████████████████████████████████████████---| 94.8% Complete\rProgress: |███████████████████████████████████████████████---| 94.9% Complete\rProgress: |███████████████████████████████████████████████---| 94.9% Complete\rProgress: |███████████████████████████████████████████████---| 95.0% Complete\rProgress: |███████████████████████████████████████████████---| 95.0% Complete\rProgress: |███████████████████████████████████████████████---| 95.1% Complete\rProgress: |███████████████████████████████████████████████---| 95.2% Complete\rProgress: |███████████████████████████████████████████████---| 95.2% Complete\rProgress: |███████████████████████████████████████████████---| 95.3% Complete\rProgress: |███████████████████████████████████████████████---| 95.3% Complete\rProgress: |███████████████████████████████████████████████---| 95.4% Complete\rProgress: |███████████████████████████████████████████████---| 95.5% Complete\rProgress: |███████████████████████████████████████████████---| 95.5% Complete\rProgress: |███████████████████████████████████████████████---| 95.6% Complete\rProgress: |███████████████████████████████████████████████---| 95.6% Complete\rProgress: |███████████████████████████████████████████████---| 95.7% Complete\rProgress: |███████████████████████████████████████████████---| 95.7% Complete\rProgress: |███████████████████████████████████████████████---| 95.8% Complete\rProgress: |███████████████████████████████████████████████---| 95.9% Complete\rProgress: |███████████████████████████████████████████████---| 95.9% Complete\rProgress: |███████████████████████████████████████████████---| 96.0% Complete\rProgress: |████████████████████████████████████████████████--| 96.0% Complete\rProgress: |████████████████████████████████████████████████--| 96.1% Complete\rProgress: |████████████████████████████████████████████████--| 96.2% Complete\rProgress: |████████████████████████████████████████████████--| 96.2% Complete\rProgress: |████████████████████████████████████████████████--| 96.3% Complete\rProgress: |████████████████████████████████████████████████--| 96.3% Complete\rProgress: |████████████████████████████████████████████████--| 96.4% Complete\rProgress: |████████████████████████████████████████████████--| 96.4% Complete\rProgress: |████████████████████████████████████████████████--| 96.5% Complete\rProgress: |████████████████████████████████████████████████--| 96.6% Complete\rProgress: |████████████████████████████████████████████████--| 96.6% Complete\rProgress: |████████████████████████████████████████████████--| 96.7% Complete\rProgress: |████████████████████████████████████████████████--| 96.7% Complete\rProgress: |████████████████████████████████████████████████--| 96.8% Complete\rProgress: |████████████████████████████████████████████████--| 96.9% Complete\rProgress: |████████████████████████████████████████████████--| 96.9% Complete\rProgress: |████████████████████████████████████████████████--| 97.0% Complete\rProgress: |████████████████████████████████████████████████--| 97.0% Complete\rProgress: |████████████████████████████████████████████████--| 97.1% Complete\rProgress: |████████████████████████████████████████████████--| 97.1% Complete\rProgress: |████████████████████████████████████████████████--| 97.2% Complete\rProgress: |████████████████████████████████████████████████--| 97.3% Complete\rProgress: |████████████████████████████████████████████████--| 97.3% Complete\rProgress: |████████████████████████████████████████████████--| 97.4% Complete\rProgress: |████████████████████████████████████████████████--| 97.4% Complete\rProgress: |████████████████████████████████████████████████--| 97.5% Complete\rProgress: |████████████████████████████████████████████████--| 97.6% Complete\rProgress: |████████████████████████████████████████████████--| 97.6% Complete\rProgress: |████████████████████████████████████████████████--| 97.7% Complete\rProgress: |████████████████████████████████████████████████--| 97.7% Complete\rProgress: |████████████████████████████████████████████████--| 97.8% Complete\rProgress: |████████████████████████████████████████████████--| 97.8% Complete\rProgress: |████████████████████████████████████████████████--| 97.9% Complete\rProgress: |████████████████████████████████████████████████--| 98.0% Complete\rProgress: |█████████████████████████████████████████████████-| 98.0% Complete\rProgress: |█████████████████████████████████████████████████-| 98.1% Complete\rProgress: |█████████████████████████████████████████████████-| 98.1% Complete\rProgress: |█████████████████████████████████████████████████-| 98.2% Complete\rProgress: |█████████████████████████████████████████████████-| 98.3% Complete\rProgress: |█████████████████████████████████████████████████-| 98.3% Complete\rProgress: |█████████████████████████████████████████████████-| 98.4% Complete\rProgress: |█████████████████████████████████████████████████-| 98.4% Complete\rProgress: |█████████████████████████████████████████████████-| 98.5% Complete\rProgress: |█████████████████████████████████████████████████-| 98.5% Complete\rProgress: |█████████████████████████████████████████████████-| 98.6% Complete\rProgress: |█████████████████████████████████████████████████-| 98.7% Complete\rProgress: |█████████████████████████████████████████████████-| 98.7% Complete\rProgress: |█████████████████████████████████████████████████-| 98.8% Complete\rProgress: |█████████████████████████████████████████████████-| 98.8% Complete\rProgress: |█████████████████████████████████████████████████-| 98.9% Complete\rProgress: |█████████████████████████████████████████████████-| 99.0% Complete\rProgress: |█████████████████████████████████████████████████-| 99.0% Complete\rProgress: |█████████████████████████████████████████████████-| 99.1% Complete\rProgress: |█████████████████████████████████████████████████-| 99.1% Complete\rProgress: |█████████████████████████████████████████████████-| 99.2% Complete\rProgress: |█████████████████████████████████████████████████-| 99.2% Complete\rProgress: |█████████████████████████████████████████████████-| 99.3% Complete\rProgress: |█████████████████████████████████████████████████-| 99.4% Complete\rProgress: |█████████████████████████████████████████████████-| 99.4% Complete\rProgress: |█████████████████████████████████████████████████-| 99.5% Complete\rProgress: |█████████████████████████████████████████████████-| 99.5% Complete\rProgress: |█████████████████████████████████████████████████-| 99.6% Complete\rProgress: |█████████████████████████████████████████████████-| 99.7% Complete\rProgress: |█████████████████████████████████████████████████-| 99.7% Complete\rProgress: |█████████████████████████████████████████████████-| 99.8% Complete\rProgress: |█████████████████████████████████████████████████-| 99.8% Complete\rProgress: |█████████████████████████████████████████████████-| 99.9% Complete\rProgress: |█████████████████████████████████████████████████-| 99.9% Complete\rProgress: |██████████████████████████████████████████████████| 100.0% Complete"
          ]
        },
        {
          "name": "stderr",
          "output_type": "stream",
          "text": [
            "Processing /content/drive/MyDrive/DatasetforCL_SSC: 0it [00:00, ?it/s]\n",
            "Processing /content/drive/MyDrive/DatasetforCL_SSC/Positive: 0it [00:00, ?it/s]\n",
            "Processing /content/drive/MyDrive/DatasetforCL_SSC/Positive/Pair_74: 100%|██████████| 2/2 [00:04<00:00,  2.45s/it]\n",
            "Processing /content/drive/MyDrive/DatasetforCL_SSC/Positive/Pair_77: 100%|██████████| 2/2 [00:02<00:00,  1.22s/it]\n",
            "Processing /content/drive/MyDrive/DatasetforCL_SSC/Positive/Pair_72: 100%|██████████| 2/2 [00:02<00:00,  1.19s/it]\n",
            "Processing /content/drive/MyDrive/DatasetforCL_SSC/Positive/Pair_75: 100%|██████████| 2/2 [00:02<00:00,  1.29s/it]\n",
            "Processing /content/drive/MyDrive/DatasetforCL_SSC/Positive/Pair_80: 100%|██████████| 2/2 [00:02<00:00,  1.15s/it]\n",
            "Processing /content/drive/MyDrive/DatasetforCL_SSC/Positive/Pair_76: 100%|██████████| 2/2 [00:02<00:00,  1.13s/it]\n",
            "Processing /content/drive/MyDrive/DatasetforCL_SSC/Positive/Pair_73: 100%|██████████| 2/2 [00:02<00:00,  1.15s/it]\n",
            "Processing /content/drive/MyDrive/DatasetforCL_SSC/Positive/Pair_71: 100%|██████████| 2/2 [00:03<00:00,  1.57s/it]\n",
            "Processing /content/drive/MyDrive/DatasetforCL_SSC/Positive/Pair_78: 100%|██████████| 2/2 [00:02<00:00,  1.12s/it]\n",
            "Processing /content/drive/MyDrive/DatasetforCL_SSC/Positive/Pair_79: 100%|██████████| 2/2 [00:02<00:00,  1.09s/it]\n",
            "Processing /content/drive/MyDrive/DatasetforCL_SSC/Positive/Pair_70: 100%|██████████| 2/2 [00:02<00:00,  1.16s/it]\n",
            "Processing /content/drive/MyDrive/DatasetforCL_SSC/Positive/Pair_68: 100%|██████████| 2/2 [00:03<00:00,  1.81s/it]\n",
            "Processing /content/drive/MyDrive/DatasetforCL_SSC/Positive/Pair_65: 100%|██████████| 2/2 [00:02<00:00,  1.17s/it]\n",
            "Processing /content/drive/MyDrive/DatasetforCL_SSC/Positive/Pair_61: 100%|██████████| 2/2 [00:02<00:00,  1.01s/it]\n",
            "Processing /content/drive/MyDrive/DatasetforCL_SSC/Positive/Pair_64: 100%|██████████| 2/2 [00:02<00:00,  1.10s/it]\n",
            "Processing /content/drive/MyDrive/DatasetforCL_SSC/Positive/Pair_62: 100%|██████████| 2/2 [00:02<00:00,  1.04s/it]\n",
            "Processing /content/drive/MyDrive/DatasetforCL_SSC/Positive/Pair_69: 100%|██████████| 2/2 [00:03<00:00,  1.84s/it]\n",
            "Processing /content/drive/MyDrive/DatasetforCL_SSC/Positive/Pair_67: 100%|██████████| 2/2 [00:02<00:00,  1.13s/it]\n",
            "Processing /content/drive/MyDrive/DatasetforCL_SSC/Positive/Pair_63: 100%|██████████| 2/2 [00:02<00:00,  1.09s/it]\n",
            "Processing /content/drive/MyDrive/DatasetforCL_SSC/Positive/Pair_66: 100%|██████████| 2/2 [00:03<00:00,  1.55s/it]\n",
            "Processing /content/drive/MyDrive/DatasetforCL_SSC/Positive/Pair_53: 100%|██████████| 2/2 [00:02<00:00,  1.05s/it]\n",
            "Processing /content/drive/MyDrive/DatasetforCL_SSC/Positive/Pair_59: 100%|██████████| 2/2 [00:02<00:00,  1.06s/it]\n",
            "Processing /content/drive/MyDrive/DatasetforCL_SSC/Positive/Pair_55: 100%|██████████| 2/2 [00:02<00:00,  1.12s/it]\n",
            "Processing /content/drive/MyDrive/DatasetforCL_SSC/Positive/Pair_54: 100%|██████████| 2/2 [00:02<00:00,  1.29s/it]\n",
            "Processing /content/drive/MyDrive/DatasetforCL_SSC/Positive/Pair_58: 100%|██████████| 2/2 [00:02<00:00,  1.04s/it]\n",
            "Processing /content/drive/MyDrive/DatasetforCL_SSC/Positive/Pair_52: 100%|██████████| 2/2 [00:02<00:00,  1.28s/it]\n",
            "Processing /content/drive/MyDrive/DatasetforCL_SSC/Positive/Pair_51: 100%|██████████| 2/2 [00:02<00:00,  1.18s/it]\n",
            "Processing /content/drive/MyDrive/DatasetforCL_SSC/Positive/Pair_56: 100%|██████████| 2/2 [00:02<00:00,  1.05s/it]\n",
            "Processing /content/drive/MyDrive/DatasetforCL_SSC/Positive/Pair_57: 100%|██████████| 2/2 [00:02<00:00,  1.01s/it]\n",
            "Processing /content/drive/MyDrive/DatasetforCL_SSC/Positive/Pair_60: 100%|██████████| 2/2 [00:02<00:00,  1.18s/it]\n",
            "Processing /content/drive/MyDrive/DatasetforCL_SSC/Positive/Pair_44: 100%|██████████| 2/2 [00:02<00:00,  1.23s/it]\n",
            "Processing /content/drive/MyDrive/DatasetforCL_SSC/Positive/Pair_41: 100%|██████████| 2/2 [00:02<00:00,  1.19s/it]\n",
            "Processing /content/drive/MyDrive/DatasetforCL_SSC/Positive/Pair_43: 100%|██████████| 2/2 [00:02<00:00,  1.09s/it]\n",
            "Processing /content/drive/MyDrive/DatasetforCL_SSC/Positive/Pair_50: 100%|██████████| 2/2 [00:02<00:00,  1.15s/it]\n",
            "Processing /content/drive/MyDrive/DatasetforCL_SSC/Positive/Pair_42: 100%|██████████| 2/2 [00:02<00:00,  1.01s/it]\n",
            "Processing /content/drive/MyDrive/DatasetforCL_SSC/Positive/Pair_47: 100%|██████████| 2/2 [00:02<00:00,  1.04s/it]\n",
            "Processing /content/drive/MyDrive/DatasetforCL_SSC/Positive/Pair_49: 100%|██████████| 2/2 [00:02<00:00,  1.04s/it]\n",
            "Processing /content/drive/MyDrive/DatasetforCL_SSC/Positive/Pair_45: 100%|██████████| 2/2 [00:02<00:00,  1.12s/it]\n",
            "Processing /content/drive/MyDrive/DatasetforCL_SSC/Positive/Pair_46: 100%|██████████| 2/2 [00:02<00:00,  1.00s/it]\n",
            "Processing /content/drive/MyDrive/DatasetforCL_SSC/Positive/Pair_48: 100%|██████████| 2/2 [00:02<00:00,  1.03s/it]\n",
            "Processing /content/drive/MyDrive/DatasetforCL_SSC/Positive/Pair_36: 100%|██████████| 2/2 [00:03<00:00,  1.69s/it]\n",
            "Processing /content/drive/MyDrive/DatasetforCL_SSC/Positive/Pair_34: 100%|██████████| 2/2 [00:02<00:00,  1.10s/it]\n",
            "Processing /content/drive/MyDrive/DatasetforCL_SSC/Positive/Pair_32: 100%|██████████| 2/2 [00:02<00:00,  1.11s/it]\n",
            "Processing /content/drive/MyDrive/DatasetforCL_SSC/Positive/Pair_39: 100%|██████████| 2/2 [00:02<00:00,  1.03s/it]\n",
            "Processing /content/drive/MyDrive/DatasetforCL_SSC/Positive/Pair_40: 100%|██████████| 2/2 [00:02<00:00,  1.25s/it]\n",
            "Processing /content/drive/MyDrive/DatasetforCL_SSC/Positive/Pair_33: 100%|██████████| 2/2 [00:02<00:00,  1.06s/it]\n",
            "Processing /content/drive/MyDrive/DatasetforCL_SSC/Positive/Pair_35: 100%|██████████| 2/2 [00:02<00:00,  1.22s/it]\n",
            "Processing /content/drive/MyDrive/DatasetforCL_SSC/Positive/Pair_37: 100%|██████████| 2/2 [00:02<00:00,  1.13s/it]\n",
            "Processing /content/drive/MyDrive/DatasetforCL_SSC/Positive/Pair_31: 100%|██████████| 2/2 [00:02<00:00,  1.09s/it]\n",
            "Processing /content/drive/MyDrive/DatasetforCL_SSC/Positive/Pair_38: 100%|██████████| 2/2 [00:02<00:00,  1.16s/it]\n",
            "Processing /content/drive/MyDrive/DatasetforCL_SSC/Positive/Pair_27: 100%|██████████| 2/2 [00:01<00:00,  1.02it/s]\n",
            "Processing /content/drive/MyDrive/DatasetforCL_SSC/Positive/Pair_26: 100%|██████████| 2/2 [00:02<00:00,  1.04s/it]\n",
            "Processing /content/drive/MyDrive/DatasetforCL_SSC/Positive/Pair_21: 100%|██████████| 2/2 [00:02<00:00,  1.08s/it]\n",
            "Processing /content/drive/MyDrive/DatasetforCL_SSC/Positive/Pair_24: 100%|██████████| 2/2 [00:02<00:00,  1.01s/it]\n",
            "Processing /content/drive/MyDrive/DatasetforCL_SSC/Positive/Pair_22: 100%|██████████| 2/2 [00:02<00:00,  1.08s/it]\n",
            "Processing /content/drive/MyDrive/DatasetforCL_SSC/Positive/Pair_30: 100%|██████████| 2/2 [00:02<00:00,  1.19s/it]\n",
            "Processing /content/drive/MyDrive/DatasetforCL_SSC/Positive/Pair_23: 100%|██████████| 2/2 [00:02<00:00,  1.15s/it]\n",
            "Processing /content/drive/MyDrive/DatasetforCL_SSC/Positive/Pair_29: 100%|██████████| 2/2 [00:02<00:00,  1.17s/it]\n",
            "Processing /content/drive/MyDrive/DatasetforCL_SSC/Positive/Pair_25: 100%|██████████| 2/2 [00:02<00:00,  1.03s/it]\n",
            "Processing /content/drive/MyDrive/DatasetforCL_SSC/Positive/Pair_28: 100%|██████████| 2/2 [00:02<00:00,  1.09s/it]\n",
            "Processing /content/drive/MyDrive/DatasetforCL_SSC/Positive/Pair_18: 100%|██████████| 2/2 [00:02<00:00,  1.22s/it]\n",
            "Processing /content/drive/MyDrive/DatasetforCL_SSC/Positive/Pair_14: 100%|██████████| 2/2 [00:02<00:00,  1.13s/it]\n",
            "Processing /content/drive/MyDrive/DatasetforCL_SSC/Positive/Pair_20: 100%|██████████| 2/2 [00:02<00:00,  1.16s/it]\n",
            "Processing /content/drive/MyDrive/DatasetforCL_SSC/Positive/Pair_13: 100%|██████████| 2/2 [00:01<00:00,  1.11it/s]\n",
            "Processing /content/drive/MyDrive/DatasetforCL_SSC/Positive/Pair_19: 100%|██████████| 2/2 [00:02<00:00,  1.14s/it]\n",
            "Processing /content/drive/MyDrive/DatasetforCL_SSC/Positive/Pair_17: 100%|██████████| 2/2 [00:02<00:00,  1.05s/it]\n",
            "Processing /content/drive/MyDrive/DatasetforCL_SSC/Positive/Pair_11: 100%|██████████| 2/2 [00:02<00:00,  1.11s/it]\n",
            "Processing /content/drive/MyDrive/DatasetforCL_SSC/Positive/Pair_15: 100%|██████████| 2/2 [00:02<00:00,  1.18s/it]\n",
            "Processing /content/drive/MyDrive/DatasetforCL_SSC/Positive/Pair_12: 100%|██████████| 2/2 [00:01<00:00,  1.10it/s]\n",
            "Processing /content/drive/MyDrive/DatasetforCL_SSC/Positive/Pair_16: 100%|██████████| 2/2 [00:02<00:00,  1.19s/it]\n",
            "Processing /content/drive/MyDrive/DatasetforCL_SSC/Positive/Pair_09: 100%|██████████| 2/2 [00:02<00:00,  1.07s/it]\n",
            "Processing /content/drive/MyDrive/DatasetforCL_SSC/Positive/Pair_01: 100%|██████████| 2/2 [00:02<00:00,  1.32s/it]\n",
            "Processing /content/drive/MyDrive/DatasetforCL_SSC/Positive/Pair_07: 100%|██████████| 2/2 [00:02<00:00,  1.12s/it]\n",
            "Processing /content/drive/MyDrive/DatasetforCL_SSC/Positive/Pair_02: 100%|██████████| 2/2 [00:02<00:00,  1.15s/it]\n",
            "Processing /content/drive/MyDrive/DatasetforCL_SSC/Positive/Pair_04: 100%|██████████| 2/2 [00:02<00:00,  1.11s/it]\n",
            "Processing /content/drive/MyDrive/DatasetforCL_SSC/Positive/Pair_10: 100%|██████████| 2/2 [00:02<00:00,  1.15s/it]\n",
            "Processing /content/drive/MyDrive/DatasetforCL_SSC/Positive/Pair_03: 100%|██████████| 2/2 [00:02<00:00,  1.15s/it]\n",
            "Processing /content/drive/MyDrive/DatasetforCL_SSC/Positive/Pair_05: 100%|██████████| 2/2 [00:02<00:00,  1.19s/it]\n",
            "Processing /content/drive/MyDrive/DatasetforCL_SSC/Positive/Pair_08: 100%|██████████| 2/2 [00:02<00:00,  1.01s/it]\n",
            "Processing /content/drive/MyDrive/DatasetforCL_SSC/Positive/Pair_06: 100%|██████████| 2/2 [00:02<00:00,  1.18s/it]\n",
            "Processing /content/drive/MyDrive/DatasetforCL_SSC/Positive/Pair_81: 100%|██████████| 2/2 [00:02<00:00,  1.17s/it]\n",
            "Processing /content/drive/MyDrive/DatasetforCL_SSC/Positive/Pair_82: 100%|██████████| 2/2 [00:02<00:00,  1.06s/it]\n",
            "Processing /content/drive/MyDrive/DatasetforCL_SSC/Positive/Pair_83: 100%|██████████| 2/2 [00:02<00:00,  1.11s/it]\n",
            "Processing /content/drive/MyDrive/DatasetforCL_SSC/Positive/Pair_84: 100%|██████████| 2/2 [00:02<00:00,  1.09s/it]\n",
            "Processing /content/drive/MyDrive/DatasetforCL_SSC/Positive/Pair_85: 100%|██████████| 2/2 [00:02<00:00,  1.06s/it]\n",
            "Processing /content/drive/MyDrive/DatasetforCL_SSC/Positive/Pair_86: 100%|██████████| 2/2 [00:02<00:00,  1.04s/it]\n",
            "Processing /content/drive/MyDrive/DatasetforCL_SSC/Positive/Pair_87: 100%|██████████| 2/2 [00:01<00:00,  1.09it/s]\n",
            "Processing /content/drive/MyDrive/DatasetforCL_SSC/Positive/Pair_88: 100%|██████████| 2/2 [00:02<00:00,  1.11s/it]\n",
            "Processing /content/drive/MyDrive/DatasetforCL_SSC/Positive/Pair_89: 100%|██████████| 2/2 [00:01<00:00,  1.06it/s]\n",
            "Processing /content/drive/MyDrive/DatasetforCL_SSC/Positive/Pair_90: 100%|██████████| 2/2 [00:02<00:00,  1.06s/it]\n",
            "Processing /content/drive/MyDrive/DatasetforCL_SSC/Positive/Pair_91: 100%|██████████| 2/2 [00:03<00:00,  1.54s/it]\n",
            "Processing /content/drive/MyDrive/DatasetforCL_SSC/Positive/Pair_92: 100%|██████████| 2/2 [00:01<00:00,  1.05it/s]\n",
            "Processing /content/drive/MyDrive/DatasetforCL_SSC/Positive/Pair_93: 100%|██████████| 2/2 [00:02<00:00,  1.04s/it]\n",
            "Processing /content/drive/MyDrive/DatasetforCL_SSC/Positive/Pair_94: 100%|██████████| 2/2 [00:02<00:00,  1.06s/it]\n",
            "Processing /content/drive/MyDrive/DatasetforCL_SSC/Positive/Pair_95: 100%|██████████| 2/2 [00:02<00:00,  1.17s/it]\n",
            "Processing /content/drive/MyDrive/DatasetforCL_SSC/Positive/Pair_96: 100%|██████████| 2/2 [00:02<00:00,  1.12s/it]\n",
            "Processing /content/drive/MyDrive/DatasetforCL_SSC/Positive/Pair_97: 100%|██████████| 2/2 [00:02<00:00,  1.13s/it]\n",
            "Processing /content/drive/MyDrive/DatasetforCL_SSC/Positive/Pair_98: 100%|██████████| 2/2 [00:02<00:00,  1.16s/it]\n",
            "Processing /content/drive/MyDrive/DatasetforCL_SSC/Positive/Pair_99: 100%|██████████| 2/2 [00:02<00:00,  1.19s/it]\n",
            "Processing /content/drive/MyDrive/DatasetforCL_SSC/Positive/Pair_100: 100%|██████████| 2/2 [00:03<00:00,  1.52s/it]\n",
            "Processing /content/drive/MyDrive/DatasetforCL_SSC/Positive/Pair_101: 100%|██████████| 2/2 [00:02<00:00,  1.04s/it]\n",
            "Processing /content/drive/MyDrive/DatasetforCL_SSC/Positive/Pair_102: 100%|██████████| 2/2 [00:02<00:00,  1.07s/it]\n",
            "Processing /content/drive/MyDrive/DatasetforCL_SSC/Positive/Pair_103: 100%|██████████| 2/2 [00:02<00:00,  1.11s/it]\n",
            "Processing /content/drive/MyDrive/DatasetforCL_SSC/Positive/Pair_104: 100%|██████████| 2/2 [00:02<00:00,  1.03s/it]\n",
            "Processing /content/drive/MyDrive/DatasetforCL_SSC/Positive/Pair_105: 100%|██████████| 2/2 [00:02<00:00,  1.01s/it]\n",
            "Processing /content/drive/MyDrive/DatasetforCL_SSC/Positive/Pair_106: 100%|██████████| 2/2 [00:02<00:00,  1.13s/it]\n",
            "Processing /content/drive/MyDrive/DatasetforCL_SSC/Positive/Pair_107: 100%|██████████| 2/2 [00:02<00:00,  1.16s/it]\n",
            "Processing /content/drive/MyDrive/DatasetforCL_SSC/Positive/Pair_108: 100%|██████████| 2/2 [00:02<00:00,  1.02s/it]\n",
            "Processing /content/drive/MyDrive/DatasetforCL_SSC/Positive/Pair_109: 100%|██████████| 2/2 [00:03<00:00,  1.51s/it]\n",
            "Processing /content/drive/MyDrive/DatasetforCL_SSC/Positive/Pair_110: 100%|██████████| 2/2 [00:02<00:00,  1.08s/it]\n",
            "Processing /content/drive/MyDrive/DatasetforCL_SSC/Positive/Pair_111: 100%|██████████| 2/2 [00:02<00:00,  1.06s/it]\n",
            "Processing /content/drive/MyDrive/DatasetforCL_SSC/Positive/Pair_112: 100%|██████████| 2/2 [00:02<00:00,  1.05s/it]\n",
            "Processing /content/drive/MyDrive/DatasetforCL_SSC/Positive/Pair_113: 100%|██████████| 2/2 [00:02<00:00,  1.22s/it]\n",
            "Processing /content/drive/MyDrive/DatasetforCL_SSC/Positive/Pair_114: 100%|██████████| 2/2 [00:02<00:00,  1.19s/it]\n",
            "Processing /content/drive/MyDrive/DatasetforCL_SSC/Positive/Pair_115: 100%|██████████| 2/2 [00:02<00:00,  1.40s/it]\n",
            "Processing /content/drive/MyDrive/DatasetforCL_SSC/Positive/Pair_116: 100%|██████████| 2/2 [00:02<00:00,  1.07s/it]\n",
            "Processing /content/drive/MyDrive/DatasetforCL_SSC/Positive/Pair_117: 100%|██████████| 2/2 [00:01<00:00,  1.00it/s]\n",
            "Processing /content/drive/MyDrive/DatasetforCL_SSC/Positive/Pair_118: 100%|██████████| 2/2 [00:02<00:00,  1.09s/it]\n",
            "Processing /content/drive/MyDrive/DatasetforCL_SSC/Positive/Pair_119: 100%|██████████| 2/2 [00:02<00:00,  1.15s/it]\n",
            "Processing /content/drive/MyDrive/DatasetforCL_SSC/Positive/Pair_120: 100%|██████████| 2/2 [00:01<00:00,  1.01it/s]\n",
            "Processing /content/drive/MyDrive/DatasetforCL_SSC/Positive/Pair_121: 100%|██████████| 2/2 [00:02<00:00,  1.05s/it]\n",
            "Processing /content/drive/MyDrive/DatasetforCL_SSC/Positive/Pair_122: 100%|██████████| 2/2 [00:02<00:00,  1.00s/it]\n",
            "Processing /content/drive/MyDrive/DatasetforCL_SSC/Positive/Pair_123: 100%|██████████| 2/2 [00:02<00:00,  1.14s/it]\n",
            "Processing /content/drive/MyDrive/DatasetforCL_SSC/Positive/Pair_124: 100%|██████████| 2/2 [00:02<00:00,  1.06s/it]\n",
            "Processing /content/drive/MyDrive/DatasetforCL_SSC/Positive/Pair_125: 100%|██████████| 2/2 [00:01<00:00,  1.01it/s]\n",
            "Processing /content/drive/MyDrive/DatasetforCL_SSC/Positive/Pair_126: 100%|██████████| 2/2 [00:02<00:00,  1.07s/it]\n",
            "Processing /content/drive/MyDrive/DatasetforCL_SSC/Positive/Pair_127: 100%|██████████| 2/2 [00:02<00:00,  1.03s/it]\n",
            "Processing /content/drive/MyDrive/DatasetforCL_SSC/Positive/Pair_128: 100%|██████████| 2/2 [00:01<00:00,  1.01it/s]\n",
            "Processing /content/drive/MyDrive/DatasetforCL_SSC/Positive/Pair_129: 100%|██████████| 2/2 [00:02<00:00,  1.03s/it]\n",
            "Processing /content/drive/MyDrive/DatasetforCL_SSC/Positive/Pair_130: 100%|██████████| 2/2 [00:01<00:00,  1.08it/s]\n",
            "Processing /content/drive/MyDrive/DatasetforCL_SSC/Positive/Pair_131: 100%|██████████| 2/2 [00:02<00:00,  1.18s/it]\n",
            "Processing /content/drive/MyDrive/DatasetforCL_SSC/Positive/Pair_132: 100%|██████████| 2/2 [00:02<00:00,  1.08s/it]\n",
            "Processing /content/drive/MyDrive/DatasetforCL_SSC/Positive/Pair_133: 100%|██████████| 2/2 [00:02<00:00,  1.22s/it]\n",
            "Processing /content/drive/MyDrive/DatasetforCL_SSC/Positive/Pair_134: 100%|██████████| 2/2 [00:02<00:00,  1.08s/it]\n",
            "Processing /content/drive/MyDrive/DatasetforCL_SSC/Positive/Pair_135: 100%|██████████| 2/2 [00:01<00:00,  1.02it/s]\n",
            "Processing /content/drive/MyDrive/DatasetforCL_SSC/Positive/Pair_136: 100%|██████████| 2/2 [00:02<00:00,  1.08s/it]\n",
            "Processing /content/drive/MyDrive/DatasetforCL_SSC/Positive/Pair_137: 100%|██████████| 2/2 [00:02<00:00,  1.08s/it]\n",
            "Processing /content/drive/MyDrive/DatasetforCL_SSC/Positive/Pair_138: 100%|██████████| 2/2 [00:01<00:00,  1.03it/s]\n",
            "Processing /content/drive/MyDrive/DatasetforCL_SSC/Positive/Pair_139: 100%|██████████| 2/2 [00:04<00:00,  2.10s/it]\n",
            "Processing /content/drive/MyDrive/DatasetforCL_SSC/Positive/Pair_140: 100%|██████████| 2/2 [00:02<00:00,  1.02s/it]\n",
            "Processing /content/drive/MyDrive/DatasetforCL_SSC/Positive/Pair_141: 100%|██████████| 2/2 [00:02<00:00,  1.13s/it]\n",
            "Processing /content/drive/MyDrive/DatasetforCL_SSC/Positive/Pair_142: 100%|██████████| 2/2 [00:02<00:00,  1.19s/it]\n",
            "Processing /content/drive/MyDrive/DatasetforCL_SSC/Positive/Pair_143: 100%|██████████| 2/2 [00:02<00:00,  1.14s/it]\n",
            "Processing /content/drive/MyDrive/DatasetforCL_SSC/Positive/Pair_144: 100%|██████████| 2/2 [00:02<00:00,  1.03s/it]\n",
            "Processing /content/drive/MyDrive/DatasetforCL_SSC/Positive/Pair_145: 100%|██████████| 2/2 [00:02<00:00,  1.02s/it]\n",
            "Processing /content/drive/MyDrive/DatasetforCL_SSC/Positive/Pair_146: 100%|██████████| 2/2 [00:02<00:00,  1.08s/it]\n",
            "Processing /content/drive/MyDrive/DatasetforCL_SSC/Positive/Pair_147: 100%|██████████| 2/2 [00:02<00:00,  1.02s/it]\n",
            "Processing /content/drive/MyDrive/DatasetforCL_SSC/Positive/Pair_148: 100%|██████████| 2/2 [00:02<00:00,  1.43s/it]\n",
            "Processing /content/drive/MyDrive/DatasetforCL_SSC/Positive/Pair_149: 100%|██████████| 2/2 [00:02<00:00,  1.16s/it]\n",
            "Processing /content/drive/MyDrive/DatasetforCL_SSC/Positive/Pair_150: 100%|██████████| 2/2 [00:02<00:00,  1.07s/it]\n",
            "Processing /content/drive/MyDrive/DatasetforCL_SSC/Positive/Pair_151: 100%|██████████| 2/2 [00:02<00:00,  1.02s/it]\n",
            "Processing /content/drive/MyDrive/DatasetforCL_SSC/Positive/Pair_152: 100%|██████████| 2/2 [00:03<00:00,  1.88s/it]\n",
            "Processing /content/drive/MyDrive/DatasetforCL_SSC/Positive/Pair_153: 100%|██████████| 2/2 [00:02<00:00,  1.05s/it]\n",
            "Processing /content/drive/MyDrive/DatasetforCL_SSC/Positive/Pair_154: 100%|██████████| 2/2 [00:02<00:00,  1.02s/it]\n",
            "Processing /content/drive/MyDrive/DatasetforCL_SSC/Positive/Pair_155: 100%|██████████| 2/2 [00:02<00:00,  1.11s/it]\n",
            "Processing /content/drive/MyDrive/DatasetforCL_SSC/Positive/Pair_156: 100%|██████████| 2/2 [00:01<00:00,  1.04it/s]\n",
            "Processing /content/drive/MyDrive/DatasetforCL_SSC/Positive/Pair_157: 100%|██████████| 2/2 [00:02<00:00,  1.23s/it]\n",
            "Processing /content/drive/MyDrive/DatasetforCL_SSC/Positive/Pair_158: 100%|██████████| 2/2 [00:02<00:00,  1.12s/it]\n",
            "Processing /content/drive/MyDrive/DatasetforCL_SSC/Positive/Pair_159: 100%|██████████| 2/2 [00:02<00:00,  1.16s/it]\n",
            "Processing /content/drive/MyDrive/DatasetforCL_SSC/Positive/Pair_160: 100%|██████████| 2/2 [00:02<00:00,  1.16s/it]\n",
            "Processing /content/drive/MyDrive/DatasetforCL_SSC/Positive/Pair_161: 100%|██████████| 2/2 [00:01<00:00,  1.02it/s]\n",
            "Processing /content/drive/MyDrive/DatasetforCL_SSC/Positive/Pair_162: 100%|██████████| 2/2 [00:02<00:00,  1.08s/it]\n",
            "Processing /content/drive/MyDrive/DatasetforCL_SSC/Positive/Pair_163: 100%|██████████| 2/2 [00:02<00:00,  1.06s/it]\n",
            "Processing /content/drive/MyDrive/DatasetforCL_SSC/Positive/Pair_164: 100%|██████████| 2/2 [00:02<00:00,  1.01s/it]\n",
            "Processing /content/drive/MyDrive/DatasetforCL_SSC/Positive/Pair_165: 100%|██████████| 2/2 [00:02<00:00,  1.12s/it]\n",
            "Processing /content/drive/MyDrive/DatasetforCL_SSC/Positive/Pair_166: 100%|██████████| 2/2 [00:02<00:00,  1.12s/it]\n",
            "Processing /content/drive/MyDrive/DatasetforCL_SSC/Positive/Pair_167: 100%|██████████| 2/2 [00:02<00:00,  1.25s/it]\n",
            "Processing /content/drive/MyDrive/DatasetforCL_SSC/Positive/Pair_168: 100%|██████████| 2/2 [00:01<00:00,  1.05it/s]\n",
            "Processing /content/drive/MyDrive/DatasetforCL_SSC/Positive/Pair_169: 100%|██████████| 2/2 [00:01<00:00,  1.04it/s]\n",
            "Processing /content/drive/MyDrive/DatasetforCL_SSC/Positive/Pair_170: 100%|██████████| 2/2 [00:02<00:00,  1.08s/it]\n",
            "Processing /content/drive/MyDrive/DatasetforCL_SSC/Positive/Pair_171: 100%|██████████| 2/2 [00:02<00:00,  1.18s/it]\n",
            "Processing /content/drive/MyDrive/DatasetforCL_SSC/Positive/Pair_172: 100%|██████████| 2/2 [00:02<00:00,  1.14s/it]\n",
            "Processing /content/drive/MyDrive/DatasetforCL_SSC/Positive/Pair_173: 100%|██████████| 2/2 [00:02<00:00,  1.25s/it]\n",
            "Processing /content/drive/MyDrive/DatasetforCL_SSC/Positive/Pair_174: 100%|██████████| 2/2 [00:02<00:00,  1.07s/it]\n",
            "Processing /content/drive/MyDrive/DatasetforCL_SSC/Positive/Pair_175: 100%|██████████| 2/2 [00:02<00:00,  1.19s/it]\n",
            "Processing /content/drive/MyDrive/DatasetforCL_SSC/Positive/Pair_176: 100%|██████████| 2/2 [00:02<00:00,  1.09s/it]\n",
            "Processing /content/drive/MyDrive/DatasetforCL_SSC/Positive/Pair_177: 100%|██████████| 2/2 [00:01<00:00,  1.03it/s]\n",
            "Processing /content/drive/MyDrive/DatasetforCL_SSC/Positive/Pair_178: 100%|██████████| 2/2 [00:01<00:00,  1.01it/s]\n",
            "Processing /content/drive/MyDrive/DatasetforCL_SSC/Positive/Pair_179: 100%|██████████| 2/2 [00:02<00:00,  1.18s/it]\n",
            "Processing /content/drive/MyDrive/DatasetforCL_SSC/Positive/Pair_180: 100%|██████████| 2/2 [00:02<00:00,  1.20s/it]\n",
            "Processing /content/drive/MyDrive/DatasetforCL_SSC/Positive/Pair_181: 100%|██████████| 2/2 [00:02<00:00,  1.04s/it]\n",
            "Processing /content/drive/MyDrive/DatasetforCL_SSC/Positive/Pair_182: 100%|██████████| 2/2 [00:02<00:00,  1.00s/it]\n",
            "Processing /content/drive/MyDrive/DatasetforCL_SSC/Positive/Pair_183: 100%|██████████| 2/2 [00:02<00:00,  1.15s/it]\n",
            "Processing /content/drive/MyDrive/DatasetforCL_SSC/Positive/Pair_184: 100%|██████████| 2/2 [00:02<00:00,  1.02s/it]\n",
            "Processing /content/drive/MyDrive/DatasetforCL_SSC/Positive/Pair_185: 100%|██████████| 2/2 [00:02<00:00,  1.09s/it]\n",
            "Processing /content/drive/MyDrive/DatasetforCL_SSC/Positive/Pair_186: 100%|██████████| 2/2 [00:02<00:00,  1.05s/it]\n",
            "Processing /content/drive/MyDrive/DatasetforCL_SSC/Positive/Pair_187: 100%|██████████| 2/2 [00:02<00:00,  1.05s/it]\n",
            "Processing /content/drive/MyDrive/DatasetforCL_SSC/Positive/Pair_188: 100%|██████████| 2/2 [00:03<00:00,  1.55s/it]\n",
            "Processing /content/drive/MyDrive/DatasetforCL_SSC/Positive/Pair_189: 100%|██████████| 2/2 [00:01<00:00,  1.03it/s]\n",
            "Processing /content/drive/MyDrive/DatasetforCL_SSC/Positive/Pair_190: 100%|██████████| 2/2 [00:04<00:00,  2.05s/it]\n",
            "Processing /content/drive/MyDrive/DatasetforCL_SSC/Positive/Pair_191: 100%|██████████| 2/2 [00:02<00:00,  1.11s/it]\n",
            "Processing /content/drive/MyDrive/DatasetforCL_SSC/Positive/Pair_192: 100%|██████████| 2/2 [00:02<00:00,  1.06s/it]\n",
            "Processing /content/drive/MyDrive/DatasetforCL_SSC/Positive/Pair_193: 100%|██████████| 2/2 [00:01<00:00,  1.01it/s]\n",
            "Processing /content/drive/MyDrive/DatasetforCL_SSC/Positive/Pair_194: 100%|██████████| 2/2 [00:02<00:00,  1.23s/it]\n",
            "Processing /content/drive/MyDrive/DatasetforCL_SSC/Positive/Pair_195: 100%|██████████| 2/2 [00:02<00:00,  1.07s/it]\n",
            "Processing /content/drive/MyDrive/DatasetforCL_SSC/Positive/Pair_196: 100%|██████████| 2/2 [00:02<00:00,  1.16s/it]\n",
            "Processing /content/drive/MyDrive/DatasetforCL_SSC/Positive/Pair_197: 100%|██████████| 2/2 [00:02<00:00,  1.11s/it]\n",
            "Processing /content/drive/MyDrive/DatasetforCL_SSC/Positive/Pair_198: 100%|██████████| 2/2 [00:02<00:00,  1.12s/it]\n",
            "Processing /content/drive/MyDrive/DatasetforCL_SSC/Positive/Pair_199: 100%|██████████| 2/2 [00:01<00:00,  1.05it/s]\n",
            "Processing /content/drive/MyDrive/DatasetforCL_SSC/Positive/Pair_200: 100%|██████████| 2/2 [00:02<00:00,  1.49s/it]\n",
            "Processing /content/drive/MyDrive/DatasetforCL_SSC/Positive/Pair_201: 100%|██████████| 2/2 [00:02<00:00,  1.10s/it]\n",
            "Processing /content/drive/MyDrive/DatasetforCL_SSC/Positive/Pair_202: 100%|██████████| 2/2 [00:02<00:00,  1.13s/it]\n",
            "Processing /content/drive/MyDrive/DatasetforCL_SSC/Positive/Pair_203: 100%|██████████| 2/2 [00:02<00:00,  1.01s/it]\n",
            "Processing /content/drive/MyDrive/DatasetforCL_SSC/Positive/Pair_204: 100%|██████████| 2/2 [00:02<00:00,  1.33s/it]\n",
            "Processing /content/drive/MyDrive/DatasetforCL_SSC/Positive/Pair_205: 100%|██████████| 2/2 [00:02<00:00,  1.17s/it]\n",
            "Processing /content/drive/MyDrive/DatasetforCL_SSC/Positive/Pair_206: 100%|██████████| 2/2 [00:02<00:00,  1.12s/it]\n",
            "Processing /content/drive/MyDrive/DatasetforCL_SSC/Positive/Pair_207: 100%|██████████| 2/2 [00:02<00:00,  1.07s/it]\n",
            "Processing /content/drive/MyDrive/DatasetforCL_SSC/Positive/Pair_208: 100%|██████████| 2/2 [00:01<00:00,  1.03it/s]\n",
            "Processing /content/drive/MyDrive/DatasetforCL_SSC/Positive/Pair_209: 100%|██████████| 2/2 [00:02<00:00,  1.09s/it]\n",
            "Processing /content/drive/MyDrive/DatasetforCL_SSC/Positive/Pair_210: 100%|██████████| 2/2 [00:01<00:00,  1.06it/s]\n",
            "Processing /content/drive/MyDrive/DatasetforCL_SSC/Positive/Pair_211: 100%|██████████| 2/2 [00:02<00:00,  1.14s/it]\n",
            "Processing /content/drive/MyDrive/DatasetforCL_SSC/Positive/Pair_212: 100%|██████████| 2/2 [00:02<00:00,  1.01s/it]\n",
            "Processing /content/drive/MyDrive/DatasetforCL_SSC/Positive/Pair_213: 100%|██████████| 2/2 [00:02<00:00,  1.37s/it]\n",
            "Processing /content/drive/MyDrive/DatasetforCL_SSC/Positive/Pair_214: 100%|██████████| 2/2 [00:02<00:00,  1.02s/it]\n",
            "Processing /content/drive/MyDrive/DatasetforCL_SSC/Positive/Pair_215: 100%|██████████| 2/2 [00:01<00:00,  1.02it/s]\n",
            "Processing /content/drive/MyDrive/DatasetforCL_SSC/Positive/Pair_216: 100%|██████████| 2/2 [00:01<00:00,  1.01it/s]\n",
            "Processing /content/drive/MyDrive/DatasetforCL_SSC/Positive/Pair_217: 100%|██████████| 2/2 [00:01<00:00,  1.01it/s]\n",
            "Processing /content/drive/MyDrive/DatasetforCL_SSC/Positive/Pair_218: 100%|██████████| 2/2 [00:02<00:00,  1.10s/it]\n",
            "Processing /content/drive/MyDrive/DatasetforCL_SSC/Positive/Pair_219: 100%|██████████| 2/2 [00:02<00:00,  1.15s/it]\n",
            "Processing /content/drive/MyDrive/DatasetforCL_SSC/Positive/Pair_220: 100%|██████████| 2/2 [00:02<00:00,  1.14s/it]\n",
            "Processing /content/drive/MyDrive/DatasetforCL_SSC/Positive/Pair_221: 100%|██████████| 2/2 [00:02<00:00,  1.07s/it]\n",
            "Processing /content/drive/MyDrive/DatasetforCL_SSC/Positive/Pair_222: 100%|██████████| 2/2 [00:02<00:00,  1.12s/it]\n",
            "Processing /content/drive/MyDrive/DatasetforCL_SSC/Positive/Pair_223: 100%|██████████| 2/2 [00:02<00:00,  1.01s/it]\n",
            "Processing /content/drive/MyDrive/DatasetforCL_SSC/Positive/Pair_224: 100%|██████████| 2/2 [00:02<00:00,  1.05s/it]\n",
            "Processing /content/drive/MyDrive/DatasetforCL_SSC/Positive/Pair_225: 100%|██████████| 2/2 [00:02<00:00,  1.13s/it]\n",
            "Processing /content/drive/MyDrive/DatasetforCL_SSC/Positive/Pair_226: 100%|██████████| 2/2 [00:02<00:00,  1.05s/it]\n",
            "Processing /content/drive/MyDrive/DatasetforCL_SSC/Positive/Pair_227: 100%|██████████| 2/2 [00:02<00:00,  1.23s/it]\n",
            "Processing /content/drive/MyDrive/DatasetforCL_SSC/Positive/Pair_228: 100%|██████████| 2/2 [00:02<00:00,  1.03s/it]\n",
            "Processing /content/drive/MyDrive/DatasetforCL_SSC/Positive/Pair_229: 100%|██████████| 2/2 [00:02<00:00,  1.46s/it]\n",
            "Processing /content/drive/MyDrive/DatasetforCL_SSC/Positive/Pair_230: 100%|██████████| 2/2 [00:02<00:00,  1.15s/it]\n",
            "Processing /content/drive/MyDrive/DatasetforCL_SSC/Positive/Pair_231: 100%|██████████| 2/2 [00:03<00:00,  1.52s/it]\n",
            "Processing /content/drive/MyDrive/DatasetforCL_SSC/Positive/Pair_232: 100%|██████████| 2/2 [00:01<00:00,  1.00it/s]\n",
            "Processing /content/drive/MyDrive/DatasetforCL_SSC/Positive/Pair_233: 100%|██████████| 2/2 [00:02<00:00,  1.05s/it]\n",
            "Processing /content/drive/MyDrive/DatasetforCL_SSC/Positive/Pair_234: 100%|██████████| 2/2 [00:02<00:00,  1.11s/it]\n",
            "Processing /content/drive/MyDrive/DatasetforCL_SSC/Positive/Pair_235: 100%|██████████| 2/2 [00:02<00:00,  1.07s/it]\n",
            "Processing /content/drive/MyDrive/DatasetforCL_SSC/Positive/Pair_236: 100%|██████████| 2/2 [00:02<00:00,  1.16s/it]\n",
            "Processing /content/drive/MyDrive/DatasetforCL_SSC/Positive/Pair_237: 100%|██████████| 2/2 [00:02<00:00,  1.07s/it]\n",
            "Processing /content/drive/MyDrive/DatasetforCL_SSC/Positive/Pair_238: 100%|██████████| 2/2 [00:02<00:00,  1.08s/it]\n",
            "Processing /content/drive/MyDrive/DatasetforCL_SSC/Positive/Pair_239: 100%|██████████| 2/2 [00:01<00:00,  1.00it/s]\n",
            "Processing /content/drive/MyDrive/DatasetforCL_SSC/Positive/Pair_240: 100%|██████████| 2/2 [00:02<00:00,  1.09s/it]\n",
            "Processing /content/drive/MyDrive/DatasetforCL_SSC/Positive/Pair_241: 100%|██████████| 2/2 [00:02<00:00,  1.12s/it]\n",
            "Processing /content/drive/MyDrive/DatasetforCL_SSC/Positive/Pair_242: 100%|██████████| 2/2 [00:02<00:00,  1.15s/it]\n",
            "Processing /content/drive/MyDrive/DatasetforCL_SSC/Positive/Pair_243: 100%|██████████| 2/2 [00:02<00:00,  1.11s/it]\n",
            "Processing /content/drive/MyDrive/DatasetforCL_SSC/Positive/Pair_244: 100%|██████████| 2/2 [00:02<00:00,  1.25s/it]\n",
            "Processing /content/drive/MyDrive/DatasetforCL_SSC/Positive/Pair_245: 100%|██████████| 2/2 [00:02<00:00,  1.01s/it]\n",
            "Processing /content/drive/MyDrive/DatasetforCL_SSC/Positive/Pair_246: 100%|██████████| 2/2 [00:03<00:00,  1.58s/it]\n",
            "Processing /content/drive/MyDrive/DatasetforCL_SSC/Positive/Pair_247: 100%|██████████| 2/2 [00:02<00:00,  1.03s/it]\n",
            "Processing /content/drive/MyDrive/DatasetforCL_SSC/Positive/Pair_248: 100%|██████████| 2/2 [00:02<00:00,  1.17s/it]\n",
            "Processing /content/drive/MyDrive/DatasetforCL_SSC/Positive/Pair_249: 100%|██████████| 2/2 [00:02<00:00,  1.08s/it]\n",
            "Processing /content/drive/MyDrive/DatasetforCL_SSC/Positive/Pair_250: 100%|██████████| 2/2 [00:02<00:00,  1.28s/it]\n",
            "Processing /content/drive/MyDrive/DatasetforCL_SSC/Positive/Pair_251: 100%|██████████| 2/2 [00:02<00:00,  1.05s/it]\n",
            "Processing /content/drive/MyDrive/DatasetforCL_SSC/Positive/Pair_252: 100%|██████████| 2/2 [00:03<00:00,  1.54s/it]\n",
            "Processing /content/drive/MyDrive/DatasetforCL_SSC/Positive/Pair_253: 100%|██████████| 2/2 [00:02<00:00,  1.06s/it]\n",
            "Processing /content/drive/MyDrive/DatasetforCL_SSC/Positive/Pair_254: 100%|██████████| 2/2 [00:02<00:00,  1.01s/it]\n",
            "Processing /content/drive/MyDrive/DatasetforCL_SSC/Positive/Pair_255: 100%|██████████| 2/2 [00:02<00:00,  1.10s/it]\n",
            "Processing /content/drive/MyDrive/DatasetforCL_SSC/Positive/Pair_256: 100%|██████████| 2/2 [00:02<00:00,  1.19s/it]\n",
            "Processing /content/drive/MyDrive/DatasetforCL_SSC/Positive/Pair_257: 100%|██████████| 2/2 [00:01<00:00,  1.08it/s]\n",
            "Processing /content/drive/MyDrive/DatasetforCL_SSC/Positive/Pair_258: 100%|██████████| 2/2 [00:02<00:00,  1.36s/it]\n",
            "Processing /content/drive/MyDrive/DatasetforCL_SSC/Positive/Pair_259: 100%|██████████| 2/2 [00:02<00:00,  1.17s/it]\n",
            "Processing /content/drive/MyDrive/DatasetforCL_SSC/Positive/Pair_260: 100%|██████████| 2/2 [00:02<00:00,  1.02s/it]\n",
            "Processing /content/drive/MyDrive/DatasetforCL_SSC/Positive/Pair_261: 100%|██████████| 2/2 [00:02<00:00,  1.16s/it]\n",
            "Processing /content/drive/MyDrive/DatasetforCL_SSC/Positive/Pair_262: 100%|██████████| 2/2 [00:01<00:00,  1.03it/s]\n",
            "Processing /content/drive/MyDrive/DatasetforCL_SSC/Positive/Pair_263: 100%|██████████| 2/2 [00:02<00:00,  1.11s/it]\n",
            "Processing /content/drive/MyDrive/DatasetforCL_SSC/Positive/Pair_264: 100%|██████████| 2/2 [00:02<00:00,  1.30s/it]\n",
            "Processing /content/drive/MyDrive/DatasetforCL_SSC/Positive/Pair_265: 100%|██████████| 2/2 [00:02<00:00,  1.06s/it]\n",
            "Processing /content/drive/MyDrive/DatasetforCL_SSC/Positive/Pair_266: 100%|██████████| 2/2 [00:01<00:00,  1.08it/s]\n",
            "Processing /content/drive/MyDrive/DatasetforCL_SSC/Positive/Pair_267: 100%|██████████| 2/2 [00:02<00:00,  1.08s/it]\n",
            "Processing /content/drive/MyDrive/DatasetforCL_SSC/Positive/Pair_268: 100%|██████████| 2/2 [00:02<00:00,  1.11s/it]\n",
            "Processing /content/drive/MyDrive/DatasetforCL_SSC/Positive/Pair_269: 100%|██████████| 2/2 [00:02<00:00,  1.04s/it]\n",
            "Processing /content/drive/MyDrive/DatasetforCL_SSC/Positive/Pair_270: 100%|██████████| 2/2 [00:02<00:00,  1.23s/it]\n",
            "Processing /content/drive/MyDrive/DatasetforCL_SSC/Positive/Pair_271: 100%|██████████| 2/2 [00:02<00:00,  1.03s/it]\n",
            "Processing /content/drive/MyDrive/DatasetforCL_SSC/Positive/Pair_272: 100%|██████████| 2/2 [00:01<00:00,  1.01it/s]\n",
            "Processing /content/drive/MyDrive/DatasetforCL_SSC/Positive/Pair_273: 100%|██████████| 2/2 [00:02<00:00,  1.06s/it]\n",
            "Processing /content/drive/MyDrive/DatasetforCL_SSC/Positive/Pair_274: 100%|██████████| 2/2 [00:02<00:00,  1.09s/it]\n",
            "Processing /content/drive/MyDrive/DatasetforCL_SSC/Positive/Pair_275: 100%|██████████| 2/2 [00:01<00:00,  1.03it/s]\n",
            "Processing /content/drive/MyDrive/DatasetforCL_SSC/Positive/Pair_276: 100%|██████████| 2/2 [00:02<00:00,  1.01s/it]\n",
            "Processing /content/drive/MyDrive/DatasetforCL_SSC/Positive/Pair_277: 100%|██████████| 2/2 [00:02<00:00,  1.08s/it]\n",
            "Processing /content/drive/MyDrive/DatasetforCL_SSC/Positive/Pair_278: 100%|██████████| 2/2 [00:02<00:00,  1.16s/it]\n",
            "Processing /content/drive/MyDrive/DatasetforCL_SSC/Positive/Pair_279: 100%|██████████| 2/2 [00:02<00:00,  1.08s/it]\n",
            "Processing /content/drive/MyDrive/DatasetforCL_SSC/Positive/Pair_280: 100%|██████████| 2/2 [00:02<00:00,  1.12s/it]\n",
            "Processing /content/drive/MyDrive/DatasetforCL_SSC/Positive/Pair_281: 100%|██████████| 2/2 [00:02<00:00,  1.17s/it]\n",
            "Processing /content/drive/MyDrive/DatasetforCL_SSC/Positive/Pair_282: 100%|██████████| 2/2 [00:01<00:00,  1.05it/s]\n",
            "Processing /content/drive/MyDrive/DatasetforCL_SSC/Positive/Pair_283: 100%|██████████| 2/2 [00:02<00:00,  1.35s/it]\n",
            "Processing /content/drive/MyDrive/DatasetforCL_SSC/Positive/Pair_284: 100%|██████████| 2/2 [00:03<00:00,  1.84s/it]\n",
            "Processing /content/drive/MyDrive/DatasetforCL_SSC/Positive/Pair_285: 100%|██████████| 2/2 [00:01<00:00,  1.05it/s]\n",
            "Processing /content/drive/MyDrive/DatasetforCL_SSC/Positive/Pair_286: 100%|██████████| 2/2 [00:02<00:00,  1.24s/it]\n",
            "Processing /content/drive/MyDrive/DatasetforCL_SSC/Negative: 0it [00:00, ?it/s]\n",
            "Processing /content/drive/MyDrive/DatasetforCL_SSC/Negative/Pair_78: 100%|██████████| 2/2 [00:03<00:00,  1.60s/it]\n",
            "Processing /content/drive/MyDrive/DatasetforCL_SSC/Negative/Pair_74: 100%|██████████| 2/2 [00:02<00:00,  1.23s/it]\n",
            "Processing /content/drive/MyDrive/DatasetforCL_SSC/Negative/Pair_79: 100%|██████████| 2/2 [00:02<00:00,  1.14s/it]\n",
            "Processing /content/drive/MyDrive/DatasetforCL_SSC/Negative/Pair_77: 100%|██████████| 2/2 [00:02<00:00,  1.24s/it]\n",
            "Processing /content/drive/MyDrive/DatasetforCL_SSC/Negative/Pair_73: 100%|██████████| 2/2 [00:02<00:00,  1.11s/it]\n",
            "Processing /content/drive/MyDrive/DatasetforCL_SSC/Negative/Pair_80: 100%|██████████| 2/2 [00:02<00:00,  1.12s/it]\n",
            "Processing /content/drive/MyDrive/DatasetforCL_SSC/Negative/Pair_76: 100%|██████████| 2/2 [00:02<00:00,  1.20s/it]\n",
            "Processing /content/drive/MyDrive/DatasetforCL_SSC/Negative/Pair_75: 100%|██████████| 2/2 [00:02<00:00,  1.18s/it]\n",
            "Processing /content/drive/MyDrive/DatasetforCL_SSC/Negative/Pair_71: 100%|██████████| 2/2 [00:02<00:00,  1.29s/it]\n",
            "Processing /content/drive/MyDrive/DatasetforCL_SSC/Negative/Pair_72: 100%|██████████| 2/2 [00:05<00:00,  2.62s/it]\n",
            "Processing /content/drive/MyDrive/DatasetforCL_SSC/Negative/Pair_65: 100%|██████████| 2/2 [00:01<00:00,  1.00it/s]\n",
            "Processing /content/drive/MyDrive/DatasetforCL_SSC/Negative/Pair_70: 100%|██████████| 2/2 [00:02<00:00,  1.14s/it]\n",
            "Processing /content/drive/MyDrive/DatasetforCL_SSC/Negative/Pair_68: 100%|██████████| 2/2 [00:02<00:00,  1.08s/it]\n",
            "Processing /content/drive/MyDrive/DatasetforCL_SSC/Negative/Pair_66: 100%|██████████| 2/2 [00:02<00:00,  1.31s/it]\n",
            "Processing /content/drive/MyDrive/DatasetforCL_SSC/Negative/Pair_61: 100%|██████████| 2/2 [00:02<00:00,  1.04s/it]\n",
            "Processing /content/drive/MyDrive/DatasetforCL_SSC/Negative/Pair_64: 100%|██████████| 2/2 [00:02<00:00,  1.06s/it]\n",
            "Processing /content/drive/MyDrive/DatasetforCL_SSC/Negative/Pair_67: 100%|██████████| 2/2 [00:02<00:00,  1.17s/it]\n",
            "Processing /content/drive/MyDrive/DatasetforCL_SSC/Negative/Pair_63: 100%|██████████| 2/2 [00:02<00:00,  1.04s/it]\n",
            "Processing /content/drive/MyDrive/DatasetforCL_SSC/Negative/Pair_62: 100%|██████████| 2/2 [00:02<00:00,  1.02s/it]\n",
            "Processing /content/drive/MyDrive/DatasetforCL_SSC/Negative/Pair_69: 100%|██████████| 2/2 [00:02<00:00,  1.50s/it]\n",
            "Processing /content/drive/MyDrive/DatasetforCL_SSC/Negative/Pair_57: 100%|██████████| 2/2 [00:02<00:00,  1.06s/it]\n",
            "Processing /content/drive/MyDrive/DatasetforCL_SSC/Negative/Pair_55: 100%|██████████| 2/2 [00:02<00:00,  1.17s/it]\n",
            "Processing /content/drive/MyDrive/DatasetforCL_SSC/Negative/Pair_52: 100%|██████████| 2/2 [00:02<00:00,  1.22s/it]\n",
            "Processing /content/drive/MyDrive/DatasetforCL_SSC/Negative/Pair_53: 100%|██████████| 2/2 [00:03<00:00,  1.67s/it]\n",
            "Processing /content/drive/MyDrive/DatasetforCL_SSC/Negative/Pair_59: 100%|██████████| 2/2 [00:02<00:00,  1.31s/it]\n",
            "Processing /content/drive/MyDrive/DatasetforCL_SSC/Negative/Pair_58: 100%|██████████| 2/2 [00:01<00:00,  1.17it/s]\n",
            "Processing /content/drive/MyDrive/DatasetforCL_SSC/Negative/Pair_60: 100%|██████████| 2/2 [00:02<00:00,  1.28s/it]\n",
            "Processing /content/drive/MyDrive/DatasetforCL_SSC/Negative/Pair_51: 100%|██████████| 2/2 [00:02<00:00,  1.12s/it]\n",
            "Processing /content/drive/MyDrive/DatasetforCL_SSC/Negative/Pair_54: 100%|██████████| 2/2 [00:02<00:00,  1.02s/it]\n",
            "Processing /content/drive/MyDrive/DatasetforCL_SSC/Negative/Pair_56: 100%|██████████| 2/2 [00:02<00:00,  1.01s/it]\n",
            "Processing /content/drive/MyDrive/DatasetforCL_SSC/Negative/Pair_44: 100%|██████████| 2/2 [00:01<00:00,  1.02it/s]\n",
            "Processing /content/drive/MyDrive/DatasetforCL_SSC/Negative/Pair_47: 100%|██████████| 2/2 [00:02<00:00,  1.07s/it]\n",
            "Processing /content/drive/MyDrive/DatasetforCL_SSC/Negative/Pair_45: 100%|██████████| 2/2 [00:02<00:00,  1.03s/it]\n",
            "Processing /content/drive/MyDrive/DatasetforCL_SSC/Negative/Pair_49: 100%|██████████| 2/2 [00:02<00:00,  1.02s/it]\n",
            "Processing /content/drive/MyDrive/DatasetforCL_SSC/Negative/Pair_48: 100%|██████████| 2/2 [00:01<00:00,  1.04it/s]\n",
            "Processing /content/drive/MyDrive/DatasetforCL_SSC/Negative/Pair_46: 100%|██████████| 2/2 [00:02<00:00,  1.00s/it]\n",
            "Processing /content/drive/MyDrive/DatasetforCL_SSC/Negative/Pair_50: 100%|██████████| 2/2 [00:01<00:00,  1.02it/s]\n",
            "Processing /content/drive/MyDrive/DatasetforCL_SSC/Negative/Pair_42: 100%|██████████| 2/2 [00:02<00:00,  1.08s/it]\n",
            "Processing /content/drive/MyDrive/DatasetforCL_SSC/Negative/Pair_43: 100%|██████████| 2/2 [00:01<00:00,  1.03it/s]\n",
            "Processing /content/drive/MyDrive/DatasetforCL_SSC/Negative/Pair_41: 100%|██████████| 2/2 [00:02<00:00,  1.17s/it]\n",
            "Processing /content/drive/MyDrive/DatasetforCL_SSC/Negative/Pair_40: 100%|██████████| 2/2 [00:02<00:00,  1.05s/it]\n",
            "Processing /content/drive/MyDrive/DatasetforCL_SSC/Negative/Pair_39: 100%|██████████| 2/2 [00:02<00:00,  1.11s/it]\n",
            "Processing /content/drive/MyDrive/DatasetforCL_SSC/Negative/Pair_38: 100%|██████████| 2/2 [00:02<00:00,  1.15s/it]\n",
            "Processing /content/drive/MyDrive/DatasetforCL_SSC/Negative/Pair_31: 100%|██████████| 2/2 [00:02<00:00,  1.10s/it]\n",
            "Processing /content/drive/MyDrive/DatasetforCL_SSC/Negative/Pair_36: 100%|██████████| 2/2 [00:02<00:00,  1.12s/it]\n",
            "Processing /content/drive/MyDrive/DatasetforCL_SSC/Negative/Pair_32: 100%|██████████| 2/2 [00:02<00:00,  1.14s/it]\n",
            "Processing /content/drive/MyDrive/DatasetforCL_SSC/Negative/Pair_37: 100%|██████████| 2/2 [00:02<00:00,  1.13s/it]\n",
            "Processing /content/drive/MyDrive/DatasetforCL_SSC/Negative/Pair_35: 100%|██████████| 2/2 [00:02<00:00,  1.11s/it]\n",
            "Processing /content/drive/MyDrive/DatasetforCL_SSC/Negative/Pair_34: 100%|██████████| 2/2 [00:01<00:00,  1.02it/s]\n",
            "Processing /content/drive/MyDrive/DatasetforCL_SSC/Negative/Pair_33: 100%|██████████| 2/2 [00:02<00:00,  1.16s/it]\n",
            "Processing /content/drive/MyDrive/DatasetforCL_SSC/Negative/Pair_23: 100%|██████████| 2/2 [00:02<00:00,  1.20s/it]\n",
            "Processing /content/drive/MyDrive/DatasetforCL_SSC/Negative/Pair_22: 100%|██████████| 2/2 [00:02<00:00,  1.00s/it]\n",
            "Processing /content/drive/MyDrive/DatasetforCL_SSC/Negative/Pair_21: 100%|██████████| 2/2 [00:02<00:00,  1.07s/it]\n",
            "Processing /content/drive/MyDrive/DatasetforCL_SSC/Negative/Pair_25: 100%|██████████| 2/2 [00:02<00:00,  1.04s/it]\n",
            "Processing /content/drive/MyDrive/DatasetforCL_SSC/Negative/Pair_24: 100%|██████████| 2/2 [00:02<00:00,  1.09s/it]\n",
            "Processing /content/drive/MyDrive/DatasetforCL_SSC/Negative/Pair_26: 100%|██████████| 2/2 [00:02<00:00,  1.01s/it]\n",
            "Processing /content/drive/MyDrive/DatasetforCL_SSC/Negative/Pair_30: 100%|██████████| 2/2 [00:03<00:00,  1.60s/it]\n",
            "Processing /content/drive/MyDrive/DatasetforCL_SSC/Negative/Pair_27: 100%|██████████| 2/2 [00:02<00:00,  1.06s/it]\n",
            "Processing /content/drive/MyDrive/DatasetforCL_SSC/Negative/Pair_28: 100%|██████████| 2/2 [00:02<00:00,  1.18s/it]\n",
            "Processing /content/drive/MyDrive/DatasetforCL_SSC/Negative/Pair_29: 100%|██████████| 2/2 [00:02<00:00,  1.20s/it]\n",
            "Processing /content/drive/MyDrive/DatasetforCL_SSC/Negative/Pair_17: 100%|██████████| 2/2 [00:02<00:00,  1.09s/it]\n",
            "Processing /content/drive/MyDrive/DatasetforCL_SSC/Negative/Pair_15: 100%|██████████| 2/2 [00:02<00:00,  1.19s/it]\n",
            "Processing /content/drive/MyDrive/DatasetforCL_SSC/Negative/Pair_18: 100%|██████████| 2/2 [00:02<00:00,  1.07s/it]\n",
            "Processing /content/drive/MyDrive/DatasetforCL_SSC/Negative/Pair_13: 100%|██████████| 2/2 [00:01<00:00,  1.01it/s]\n",
            "Processing /content/drive/MyDrive/DatasetforCL_SSC/Negative/Pair_11: 100%|██████████| 2/2 [00:02<00:00,  1.04s/it]\n",
            "Processing /content/drive/MyDrive/DatasetforCL_SSC/Negative/Pair_14: 100%|██████████| 2/2 [00:02<00:00,  1.06s/it]\n",
            "Processing /content/drive/MyDrive/DatasetforCL_SSC/Negative/Pair_12: 100%|██████████| 2/2 [00:02<00:00,  1.01s/it]\n",
            "Processing /content/drive/MyDrive/DatasetforCL_SSC/Negative/Pair_20: 100%|██████████| 2/2 [00:02<00:00,  1.14s/it]\n",
            "Processing /content/drive/MyDrive/DatasetforCL_SSC/Negative/Pair_16: 100%|██████████| 2/2 [00:02<00:00,  1.29s/it]\n",
            "Processing /content/drive/MyDrive/DatasetforCL_SSC/Negative/Pair_19: 100%|██████████| 2/2 [00:02<00:00,  1.01s/it]\n",
            "Processing /content/drive/MyDrive/DatasetforCL_SSC/Negative/Pair_09: 100%|██████████| 2/2 [00:02<00:00,  1.00s/it]\n",
            "Processing /content/drive/MyDrive/DatasetforCL_SSC/Negative/Pair_06: 100%|██████████| 2/2 [00:02<00:00,  1.24s/it]\n",
            "Processing /content/drive/MyDrive/DatasetforCL_SSC/Negative/Pair_07: 100%|██████████| 2/2 [00:02<00:00,  1.22s/it]\n",
            "Processing /content/drive/MyDrive/DatasetforCL_SSC/Negative/Pair_02: 100%|██████████| 2/2 [00:02<00:00,  1.14s/it]\n",
            "Processing /content/drive/MyDrive/DatasetforCL_SSC/Negative/Pair_01: 100%|██████████| 2/2 [00:02<00:00,  1.13s/it]\n",
            "Processing /content/drive/MyDrive/DatasetforCL_SSC/Negative/Pair_03: 100%|██████████| 2/2 [00:02<00:00,  1.10s/it]\n",
            "Processing /content/drive/MyDrive/DatasetforCL_SSC/Negative/Pair_05: 100%|██████████| 2/2 [00:02<00:00,  1.48s/it]\n",
            "Processing /content/drive/MyDrive/DatasetforCL_SSC/Negative/Pair_04: 100%|██████████| 2/2 [00:02<00:00,  1.16s/it]\n",
            "Processing /content/drive/MyDrive/DatasetforCL_SSC/Negative/Pair_08: 100%|██████████| 2/2 [00:02<00:00,  1.17s/it]\n",
            "Processing /content/drive/MyDrive/DatasetforCL_SSC/Negative/Pair_10: 100%|██████████| 2/2 [00:02<00:00,  1.06s/it]\n",
            "Processing /content/drive/MyDrive/DatasetforCL_SSC/Negative/Pair_081: 100%|██████████| 2/2 [00:02<00:00,  1.13s/it]\n",
            "Processing /content/drive/MyDrive/DatasetforCL_SSC/Negative/Pair_082: 100%|██████████| 2/2 [00:01<00:00,  1.01it/s]\n",
            "Processing /content/drive/MyDrive/DatasetforCL_SSC/Negative/Pair_083: 100%|██████████| 2/2 [00:01<00:00,  1.01it/s]\n",
            "Processing /content/drive/MyDrive/DatasetforCL_SSC/Negative/Pair_084: 100%|██████████| 2/2 [00:02<00:00,  1.01s/it]\n",
            "Processing /content/drive/MyDrive/DatasetforCL_SSC/Negative/Pair_085: 100%|██████████| 2/2 [00:02<00:00,  1.04s/it]\n",
            "Processing /content/drive/MyDrive/DatasetforCL_SSC/Negative/Pair_086: 100%|██████████| 2/2 [00:02<00:00,  1.01s/it]\n",
            "Processing /content/drive/MyDrive/DatasetforCL_SSC/Negative/Pair_087: 100%|██████████| 2/2 [00:02<00:00,  1.12s/it]\n",
            "Processing /content/drive/MyDrive/DatasetforCL_SSC/Negative/Pair_088: 100%|██████████| 2/2 [00:02<00:00,  1.18s/it]\n",
            "Processing /content/drive/MyDrive/DatasetforCL_SSC/Negative/Pair_089: 100%|██████████| 2/2 [00:02<00:00,  1.20s/it]\n",
            "Processing /content/drive/MyDrive/DatasetforCL_SSC/Negative/Pair_090: 100%|██████████| 2/2 [00:02<00:00,  1.17s/it]\n",
            "Processing /content/drive/MyDrive/DatasetforCL_SSC/Negative/Pair_091: 100%|██████████| 2/2 [00:02<00:00,  1.02s/it]\n",
            "Processing /content/drive/MyDrive/DatasetforCL_SSC/Negative/Pair_092: 100%|██████████| 2/2 [00:02<00:00,  1.17s/it]\n",
            "Processing /content/drive/MyDrive/DatasetforCL_SSC/Negative/Pair_093: 100%|██████████| 2/2 [00:02<00:00,  1.06s/it]\n",
            "Processing /content/drive/MyDrive/DatasetforCL_SSC/Negative/Pair_094: 100%|██████████| 2/2 [00:02<00:00,  1.34s/it]\n",
            "Processing /content/drive/MyDrive/DatasetforCL_SSC/Negative/Pair_095: 100%|██████████| 2/2 [00:02<00:00,  1.06s/it]\n",
            "Processing /content/drive/MyDrive/DatasetforCL_SSC/Negative/Pair_096: 100%|██████████| 2/2 [00:02<00:00,  1.06s/it]\n",
            "Processing /content/drive/MyDrive/DatasetforCL_SSC/Negative/Pair_097: 100%|██████████| 2/2 [00:02<00:00,  1.14s/it]\n",
            "Processing /content/drive/MyDrive/DatasetforCL_SSC/Negative/Pair_098: 100%|██████████| 2/2 [00:02<00:00,  1.00s/it]\n",
            "Processing /content/drive/MyDrive/DatasetforCL_SSC/Negative/Pair_099: 100%|██████████| 2/2 [00:02<00:00,  1.21s/it]\n",
            "Processing /content/drive/MyDrive/DatasetforCL_SSC/Negative/Pair_100: 100%|██████████| 2/2 [00:02<00:00,  1.12s/it]\n",
            "Processing /content/drive/MyDrive/DatasetforCL_SSC/Negative/Pair_101: 100%|██████████| 2/2 [00:02<00:00,  1.46s/it]\n",
            "Processing /content/drive/MyDrive/DatasetforCL_SSC/Negative/Pair_102: 100%|██████████| 2/2 [00:02<00:00,  1.05s/it]\n",
            "Processing /content/drive/MyDrive/DatasetforCL_SSC/Negative/Pair_103: 100%|██████████| 2/2 [00:02<00:00,  1.01s/it]\n",
            "Processing /content/drive/MyDrive/DatasetforCL_SSC/Negative/Pair_104: 100%|██████████| 2/2 [00:02<00:00,  1.05s/it]\n",
            "Processing /content/drive/MyDrive/DatasetforCL_SSC/Negative/Pair_105: 100%|██████████| 2/2 [00:02<00:00,  1.12s/it]\n",
            "Processing /content/drive/MyDrive/DatasetforCL_SSC/Negative/Pair_106: 100%|██████████| 2/2 [00:02<00:00,  1.02s/it]\n",
            "Processing /content/drive/MyDrive/DatasetforCL_SSC/Negative/Pair_107: 100%|██████████| 2/2 [00:02<00:00,  1.20s/it]\n",
            "Processing /content/drive/MyDrive/DatasetforCL_SSC/Negative/Pair_108: 100%|██████████| 2/2 [00:01<00:00,  1.02it/s]\n",
            "Processing /content/drive/MyDrive/DatasetforCL_SSC/Negative/Pair_109: 100%|██████████| 2/2 [00:02<00:00,  1.08s/it]\n",
            "Processing /content/drive/MyDrive/DatasetforCL_SSC/Negative/Pair_110: 100%|██████████| 2/2 [00:02<00:00,  1.04s/it]\n",
            "Processing /content/drive/MyDrive/DatasetforCL_SSC/Negative/Pair_111: 100%|██████████| 2/2 [00:02<00:00,  1.07s/it]\n",
            "Processing /content/drive/MyDrive/DatasetforCL_SSC/Negative/Pair_112: 100%|██████████| 2/2 [00:02<00:00,  1.07s/it]\n",
            "Processing /content/drive/MyDrive/DatasetforCL_SSC/Negative/Pair_113: 100%|██████████| 2/2 [00:02<00:00,  1.48s/it]\n",
            "Processing /content/drive/MyDrive/DatasetforCL_SSC/Negative/Pair_114: 100%|██████████| 2/2 [00:02<00:00,  1.06s/it]\n",
            "Processing /content/drive/MyDrive/DatasetforCL_SSC/Negative/Pair_115: 100%|██████████| 2/2 [00:02<00:00,  1.04s/it]\n",
            "Processing /content/drive/MyDrive/DatasetforCL_SSC/Negative/Pair_116: 100%|██████████| 2/2 [00:02<00:00,  1.39s/it]\n",
            "Processing /content/drive/MyDrive/DatasetforCL_SSC/Negative/Pair_117: 100%|██████████| 2/2 [00:02<00:00,  1.22s/it]\n",
            "Processing /content/drive/MyDrive/DatasetforCL_SSC/Negative/Pair_118: 100%|██████████| 2/2 [00:02<00:00,  1.15s/it]\n",
            "Processing /content/drive/MyDrive/DatasetforCL_SSC/Negative/Pair_119: 100%|██████████| 2/2 [00:02<00:00,  1.09s/it]\n",
            "Processing /content/drive/MyDrive/DatasetforCL_SSC/Negative/Pair_120: 100%|██████████| 2/2 [00:02<00:00,  1.06s/it]\n",
            "Processing /content/drive/MyDrive/DatasetforCL_SSC/Negative/Pair_121: 100%|██████████| 2/2 [00:04<00:00,  2.47s/it]\n",
            "Processing /content/drive/MyDrive/DatasetforCL_SSC/Negative/Pair_122: 100%|██████████| 2/2 [00:01<00:00,  1.08it/s]\n",
            "Processing /content/drive/MyDrive/DatasetforCL_SSC/Negative/Pair_123: 100%|██████████| 2/2 [00:01<00:00,  1.01it/s]\n",
            "Processing /content/drive/MyDrive/DatasetforCL_SSC/Negative/Pair_124: 100%|██████████| 2/2 [00:02<00:00,  1.07s/it]\n",
            "Processing /content/drive/MyDrive/DatasetforCL_SSC/Negative/Pair_125: 100%|██████████| 2/2 [00:02<00:00,  1.01s/it]\n",
            "Processing /content/drive/MyDrive/DatasetforCL_SSC/Negative/Pair_126: 100%|██████████| 2/2 [00:01<00:00,  1.00it/s]\n",
            "Processing /content/drive/MyDrive/DatasetforCL_SSC/Negative/Pair_127: 100%|██████████| 2/2 [00:02<00:00,  1.08s/it]\n",
            "Processing /content/drive/MyDrive/DatasetforCL_SSC/Negative/Pair_128: 100%|██████████| 2/2 [00:01<00:00,  1.01it/s]\n",
            "Processing /content/drive/MyDrive/DatasetforCL_SSC/Negative/Pair_129: 100%|██████████| 2/2 [00:02<00:00,  1.26s/it]\n",
            "Processing /content/drive/MyDrive/DatasetforCL_SSC/Negative/Pair_130: 100%|██████████| 2/2 [00:02<00:00,  1.16s/it]\n",
            "Processing /content/drive/MyDrive/DatasetforCL_SSC/Negative/Pair_131: 100%|██████████| 2/2 [00:02<00:00,  1.37s/it]\n",
            "Processing /content/drive/MyDrive/DatasetforCL_SSC/Negative/Pair_132: 100%|██████████| 2/2 [00:02<00:00,  1.12s/it]\n",
            "Processing /content/drive/MyDrive/DatasetforCL_SSC/Negative/Pair_133: 100%|██████████| 2/2 [00:02<00:00,  1.08s/it]\n",
            "Processing /content/drive/MyDrive/DatasetforCL_SSC/Negative/Pair_134: 100%|██████████| 2/2 [00:03<00:00,  1.58s/it]\n",
            "Processing /content/drive/MyDrive/DatasetforCL_SSC/Negative/Pair_135: 100%|██████████| 2/2 [00:02<00:00,  1.09s/it]\n",
            "Processing /content/drive/MyDrive/DatasetforCL_SSC/Negative/Pair_136: 100%|██████████| 2/2 [00:02<00:00,  1.31s/it]\n",
            "Processing /content/drive/MyDrive/DatasetforCL_SSC/Negative/Pair_137: 100%|██████████| 2/2 [00:01<00:00,  1.02it/s]\n",
            "Processing /content/drive/MyDrive/DatasetforCL_SSC/Negative/Pair_138: 100%|██████████| 2/2 [00:02<00:00,  1.01s/it]\n",
            "Processing /content/drive/MyDrive/DatasetforCL_SSC/Negative/Pair_139: 100%|██████████| 2/2 [00:02<00:00,  1.13s/it]\n",
            "Processing /content/drive/MyDrive/DatasetforCL_SSC/Negative/Pair_140: 100%|██████████| 2/2 [00:01<00:00,  1.05it/s]\n",
            "Processing /content/drive/MyDrive/DatasetforCL_SSC/Negative/Pair_141: 100%|██████████| 2/2 [00:01<00:00,  1.05it/s]\n",
            "Processing /content/drive/MyDrive/DatasetforCL_SSC/Negative/Pair_142: 100%|██████████| 2/2 [00:02<00:00,  1.06s/it]\n",
            "Processing /content/drive/MyDrive/DatasetforCL_SSC/Negative/Pair_143: 100%|██████████| 2/2 [00:02<00:00,  1.04s/it]\n",
            "Processing /content/drive/MyDrive/DatasetforCL_SSC/Negative/Pair_144: 100%|██████████| 2/2 [00:02<00:00,  1.13s/it]\n",
            "Processing /content/drive/MyDrive/DatasetforCL_SSC/Negative/Pair_145: 100%|██████████| 2/2 [00:02<00:00,  1.03s/it]\n",
            "Processing /content/drive/MyDrive/DatasetforCL_SSC/Negative/Pair_146: 100%|██████████| 2/2 [00:02<00:00,  1.20s/it]\n",
            "Processing /content/drive/MyDrive/DatasetforCL_SSC/Negative/Pair_147: 100%|██████████| 2/2 [00:02<00:00,  1.13s/it]\n",
            "Processing /content/drive/MyDrive/DatasetforCL_SSC/Negative/Pair_148: 100%|██████████| 2/2 [00:02<00:00,  1.08s/it]\n",
            "Processing /content/drive/MyDrive/DatasetforCL_SSC/Negative/Pair_149: 100%|██████████| 2/2 [00:04<00:00,  2.01s/it]\n",
            "Processing /content/drive/MyDrive/DatasetforCL_SSC/Negative/Pair_150: 100%|██████████| 2/2 [00:02<00:00,  1.05s/it]\n",
            "Processing /content/drive/MyDrive/DatasetforCL_SSC/Negative/Pair_151: 100%|██████████| 2/2 [00:02<00:00,  1.10s/it]\n",
            "Processing /content/drive/MyDrive/DatasetforCL_SSC/Negative/Pair_152: 100%|██████████| 2/2 [00:02<00:00,  1.06s/it]\n",
            "Processing /content/drive/MyDrive/DatasetforCL_SSC/Negative/Pair_153: 100%|██████████| 2/2 [00:01<00:00,  1.01it/s]\n",
            "Processing /content/drive/MyDrive/DatasetforCL_SSC/Negative/Pair_154: 100%|██████████| 2/2 [00:02<00:00,  1.14s/it]\n",
            "Processing /content/drive/MyDrive/DatasetforCL_SSC/Negative/Pair_155: 100%|██████████| 2/2 [00:02<00:00,  1.04s/it]\n",
            "Processing /content/drive/MyDrive/DatasetforCL_SSC/Negative/Pair_156: 100%|██████████| 2/2 [00:02<00:00,  1.16s/it]\n",
            "Processing /content/drive/MyDrive/DatasetforCL_SSC/Negative/Pair_157: 100%|██████████| 2/2 [00:01<00:00,  1.04it/s]\n",
            "Processing /content/drive/MyDrive/DatasetforCL_SSC/Negative/Pair_158: 100%|██████████| 2/2 [00:02<00:00,  1.02s/it]\n",
            "Processing /content/drive/MyDrive/DatasetforCL_SSC/Negative/Pair_159: 100%|██████████| 2/2 [00:02<00:00,  1.04s/it]\n",
            "Processing /content/drive/MyDrive/DatasetforCL_SSC/Negative/Pair_160: 100%|██████████| 2/2 [00:02<00:00,  1.07s/it]\n",
            "Processing /content/drive/MyDrive/DatasetforCL_SSC/Negative/Pair_161: 100%|██████████| 2/2 [00:02<00:00,  1.03s/it]\n",
            "Processing /content/drive/MyDrive/DatasetforCL_SSC/Negative/Pair_162: 100%|██████████| 2/2 [00:02<00:00,  1.03s/it]\n",
            "Processing /content/drive/MyDrive/DatasetforCL_SSC/Negative/Pair_163: 100%|██████████| 2/2 [00:01<00:00,  1.05it/s]\n",
            "Processing /content/drive/MyDrive/DatasetforCL_SSC/Negative/Pair_164: 100%|██████████| 2/2 [00:02<00:00,  1.04s/it]\n",
            "Processing /content/drive/MyDrive/DatasetforCL_SSC/Negative/Pair_165: 100%|██████████| 2/2 [00:02<00:00,  1.08s/it]\n",
            "Processing /content/drive/MyDrive/DatasetforCL_SSC/Negative/Pair_166: 100%|██████████| 2/2 [00:02<00:00,  1.13s/it]\n",
            "Processing /content/drive/MyDrive/DatasetforCL_SSC/Negative/Pair_167: 100%|██████████| 2/2 [00:02<00:00,  1.07s/it]\n",
            "Processing /content/drive/MyDrive/DatasetforCL_SSC/Negative/Pair_168: 100%|██████████| 2/2 [00:02<00:00,  1.05s/it]\n",
            "Processing /content/drive/MyDrive/DatasetforCL_SSC/Negative/Pair_169: 100%|██████████| 2/2 [00:02<00:00,  1.06s/it]\n",
            "Processing /content/drive/MyDrive/DatasetforCL_SSC/Negative/Pair_170: 100%|██████████| 2/2 [00:02<00:00,  1.05s/it]\n",
            "Processing /content/drive/MyDrive/DatasetforCL_SSC/Negative/Pair_171: 100%|██████████| 2/2 [00:02<00:00,  1.02s/it]\n",
            "Processing /content/drive/MyDrive/DatasetforCL_SSC/Negative/Pair_172: 100%|██████████| 2/2 [00:02<00:00,  1.04s/it]\n",
            "Processing /content/drive/MyDrive/DatasetforCL_SSC/Negative/Pair_173: 100%|██████████| 2/2 [00:02<00:00,  1.15s/it]\n",
            "Processing /content/drive/MyDrive/DatasetforCL_SSC/Negative/Pair_174: 100%|██████████| 2/2 [00:02<00:00,  1.00s/it]\n",
            "Processing /content/drive/MyDrive/DatasetforCL_SSC/Negative/Pair_175: 100%|██████████| 2/2 [00:02<00:00,  1.04s/it]\n",
            "Processing /content/drive/MyDrive/DatasetforCL_SSC/Negative/Pair_176: 100%|██████████| 2/2 [00:02<00:00,  1.03s/it]\n",
            "Processing /content/drive/MyDrive/DatasetforCL_SSC/Negative/Pair_177: 100%|██████████| 2/2 [00:02<00:00,  1.15s/it]\n",
            "Processing /content/drive/MyDrive/DatasetforCL_SSC/Negative/Pair_178: 100%|██████████| 2/2 [00:02<00:00,  1.07s/it]\n",
            "Processing /content/drive/MyDrive/DatasetforCL_SSC/Negative/Pair_179: 100%|██████████| 2/2 [00:02<00:00,  1.07s/it]\n",
            "Processing /content/drive/MyDrive/DatasetforCL_SSC/Negative/Pair_180: 100%|██████████| 2/2 [00:01<00:00,  1.02it/s]\n",
            "Processing /content/drive/MyDrive/DatasetforCL_SSC/Negative/Pair_181: 100%|██████████| 2/2 [00:02<00:00,  1.06s/it]\n",
            "Processing /content/drive/MyDrive/DatasetforCL_SSC/Negative/Pair_182: 100%|██████████| 2/2 [00:02<00:00,  1.07s/it]\n",
            "Processing /content/drive/MyDrive/DatasetforCL_SSC/Negative/Pair_183: 100%|██████████| 2/2 [00:02<00:00,  1.01s/it]\n",
            "Processing /content/drive/MyDrive/DatasetforCL_SSC/Negative/Pair_184: 100%|██████████| 2/2 [00:02<00:00,  1.14s/it]\n",
            "Processing /content/drive/MyDrive/DatasetforCL_SSC/Negative/Pair_185: 100%|██████████| 2/2 [00:02<00:00,  1.01s/it]\n",
            "Processing /content/drive/MyDrive/DatasetforCL_SSC/Negative/Pair_186: 100%|██████████| 2/2 [00:02<00:00,  1.08s/it]\n",
            "Processing /content/drive/MyDrive/DatasetforCL_SSC/Negative/Pair_187: 100%|██████████| 2/2 [00:01<00:00,  1.15it/s]\n",
            "Processing /content/drive/MyDrive/DatasetforCL_SSC/Negative/Pair_188: 100%|██████████| 2/2 [00:02<00:00,  1.01s/it]\n",
            "Processing /content/drive/MyDrive/DatasetforCL_SSC/Negative/Pair_189: 100%|██████████| 2/2 [00:02<00:00,  1.03s/it]\n",
            "Processing /content/drive/MyDrive/DatasetforCL_SSC/Negative/Pair_190: 100%|██████████| 2/2 [00:01<00:00,  1.02it/s]\n",
            "Processing /content/drive/MyDrive/DatasetforCL_SSC/Negative/Pair_191: 100%|██████████| 2/2 [00:02<00:00,  1.01s/it]\n",
            "Processing /content/drive/MyDrive/DatasetforCL_SSC/Negative/Pair_192: 100%|██████████| 2/2 [00:01<00:00,  1.01it/s]\n",
            "Processing /content/drive/MyDrive/DatasetforCL_SSC/Negative/Pair_193: 100%|██████████| 2/2 [00:02<00:00,  1.16s/it]\n",
            "Processing /content/drive/MyDrive/DatasetforCL_SSC/Negative/Pair_194: 100%|██████████| 2/2 [00:01<00:00,  1.03it/s]\n",
            "Processing /content/drive/MyDrive/DatasetforCL_SSC/Negative/Pair_195: 100%|██████████| 2/2 [00:01<00:00,  1.00it/s]\n",
            "Processing /content/drive/MyDrive/DatasetforCL_SSC/Negative/Pair_196: 100%|██████████| 2/2 [00:02<00:00,  1.12s/it]\n",
            "Processing /content/drive/MyDrive/DatasetforCL_SSC/Negative/Pair_197: 100%|██████████| 2/2 [00:02<00:00,  1.06s/it]\n",
            "Processing /content/drive/MyDrive/DatasetforCL_SSC/Negative/Pair_198: 100%|██████████| 2/2 [00:01<00:00,  1.04it/s]\n",
            "Processing /content/drive/MyDrive/DatasetforCL_SSC/Negative/Pair_199: 100%|██████████| 2/2 [00:02<00:00,  1.09s/it]\n",
            "Processing /content/drive/MyDrive/DatasetforCL_SSC/Negative/Pair_200: 100%|██████████| 2/2 [00:02<00:00,  1.01s/it]\n",
            "Processing /content/drive/MyDrive/DatasetforCL_SSC/Negative/Pair_201: 100%|██████████| 2/2 [00:02<00:00,  1.04s/it]\n",
            "Processing /content/drive/MyDrive/DatasetforCL_SSC/Negative/Pair_202: 100%|██████████| 2/2 [00:02<00:00,  1.07s/it]\n",
            "Processing /content/drive/MyDrive/DatasetforCL_SSC/Negative/Pair_203: 100%|██████████| 2/2 [00:02<00:00,  1.18s/it]\n",
            "Processing /content/drive/MyDrive/DatasetforCL_SSC/Negative/Pair_204: 100%|██████████| 2/2 [00:02<00:00,  1.12s/it]\n",
            "Processing /content/drive/MyDrive/DatasetforCL_SSC/Negative/Pair_205: 100%|██████████| 2/2 [00:02<00:00,  1.04s/it]\n",
            "Processing /content/drive/MyDrive/DatasetforCL_SSC/Negative/Pair_206: 100%|██████████| 2/2 [00:02<00:00,  1.03s/it]\n",
            "Processing /content/drive/MyDrive/DatasetforCL_SSC/Negative/Pair_207: 100%|██████████| 2/2 [00:02<00:00,  1.24s/it]\n",
            "Processing /content/drive/MyDrive/DatasetforCL_SSC/Negative/Pair_208: 100%|██████████| 2/2 [00:02<00:00,  1.05s/it]\n",
            "Processing /content/drive/MyDrive/DatasetforCL_SSC/Negative/Pair_209: 100%|██████████| 2/2 [00:02<00:00,  1.09s/it]\n",
            "Processing /content/drive/MyDrive/DatasetforCL_SSC/Negative/Pair_210: 100%|██████████| 2/2 [00:02<00:00,  1.20s/it]\n",
            "Processing /content/drive/MyDrive/DatasetforCL_SSC/Negative/Pair_211: 100%|██████████| 2/2 [00:02<00:00,  1.07s/it]\n",
            "Processing /content/drive/MyDrive/DatasetforCL_SSC/Negative/Pair_212: 100%|██████████| 2/2 [00:02<00:00,  1.38s/it]\n",
            "Processing /content/drive/MyDrive/DatasetforCL_SSC/Negative/Pair_213: 100%|██████████| 2/2 [00:01<00:00,  1.05it/s]\n",
            "Processing /content/drive/MyDrive/DatasetforCL_SSC/Negative/Pair_214: 100%|██████████| 2/2 [00:01<00:00,  1.07it/s]\n",
            "Processing /content/drive/MyDrive/DatasetforCL_SSC/Negative/Pair_215: 100%|██████████| 2/2 [00:01<00:00,  1.00it/s]\n",
            "Processing /content/drive/MyDrive/DatasetforCL_SSC/Negative/Pair_216: 100%|██████████| 2/2 [00:02<00:00,  1.09s/it]\n",
            "Processing /content/drive/MyDrive/DatasetforCL_SSC/Negative/Pair_217: 100%|██████████| 2/2 [00:02<00:00,  1.14s/it]\n",
            "Processing /content/drive/MyDrive/DatasetforCL_SSC/Negative/Pair_218: 100%|██████████| 2/2 [00:02<00:00,  1.00s/it]\n",
            "Processing /content/drive/MyDrive/DatasetforCL_SSC/Negative/Pair_219: 100%|██████████| 2/2 [00:02<00:00,  1.03s/it]\n",
            "Processing /content/drive/MyDrive/DatasetforCL_SSC/Negative/Pair_220: 100%|██████████| 2/2 [00:01<00:00,  1.00it/s]\n",
            "Processing /content/drive/MyDrive/DatasetforCL_SSC/Negative/Pair_221: 100%|██████████| 2/2 [00:02<00:00,  1.15s/it]\n",
            "Processing /content/drive/MyDrive/DatasetforCL_SSC/Negative/Pair_222: 100%|██████████| 2/2 [00:01<00:00,  1.01it/s]\n",
            "Processing /content/drive/MyDrive/DatasetforCL_SSC/Negative/Pair_223: 100%|██████████| 2/2 [00:02<00:00,  1.06s/it]\n",
            "Processing /content/drive/MyDrive/DatasetforCL_SSC/Negative/Pair_224: 100%|██████████| 2/2 [00:01<00:00,  1.07it/s]\n",
            "Processing /content/drive/MyDrive/DatasetforCL_SSC/Negative/Pair_225: 100%|██████████| 2/2 [00:01<00:00,  1.01it/s]\n",
            "Processing /content/drive/MyDrive/DatasetforCL_SSC/Negative/Pair_226: 100%|██████████| 2/2 [00:02<00:00,  1.19s/it]\n",
            "Processing /content/drive/MyDrive/DatasetforCL_SSC/Negative/Pair_227: 100%|██████████| 2/2 [00:01<00:00,  1.04it/s]\n",
            "Processing /content/drive/MyDrive/DatasetforCL_SSC/Negative/Pair_228: 100%|██████████| 2/2 [00:02<00:00,  1.10s/it]\n",
            "Processing /content/drive/MyDrive/DatasetforCL_SSC/Negative/Pair_229: 100%|██████████| 2/2 [00:02<00:00,  1.08s/it]\n",
            "Processing /content/drive/MyDrive/DatasetforCL_SSC/Negative/Pair_230: 100%|██████████| 2/2 [00:03<00:00,  1.51s/it]\n",
            "Processing /content/drive/MyDrive/DatasetforCL_SSC/Negative/Pair_231: 100%|██████████| 2/2 [00:02<00:00,  1.03s/it]\n",
            "Processing /content/drive/MyDrive/DatasetforCL_SSC/Negative/Pair_232: 100%|██████████| 2/2 [00:02<00:00,  1.04s/it]\n",
            "Processing /content/drive/MyDrive/DatasetforCL_SSC/Negative/Pair_233: 100%|██████████| 2/2 [00:02<00:00,  1.10s/it]\n",
            "Processing /content/drive/MyDrive/DatasetforCL_SSC/Negative/Pair_234: 100%|██████████| 2/2 [00:03<00:00,  1.93s/it]\n",
            "Processing /content/drive/MyDrive/DatasetforCL_SSC/Negative/Pair_235: 100%|██████████| 2/2 [00:02<00:00,  1.07s/it]\n",
            "Processing /content/drive/MyDrive/DatasetforCL_SSC/Negative/Pair_236: 100%|██████████| 2/2 [00:02<00:00,  1.04s/it]\n",
            "Processing /content/drive/MyDrive/DatasetforCL_SSC/Negative/Pair_237: 100%|██████████| 2/2 [00:01<00:00,  1.04it/s]\n",
            "Processing /content/drive/MyDrive/DatasetforCL_SSC/Negative/Pair_238: 100%|██████████| 2/2 [00:02<00:00,  1.46s/it]\n",
            "Processing /content/drive/MyDrive/DatasetforCL_SSC/Negative/Pair_239: 100%|██████████| 2/2 [00:02<00:00,  1.04s/it]\n",
            "Processing /content/drive/MyDrive/DatasetforCL_SSC/Negative/Pair_240: 100%|██████████| 2/2 [00:01<00:00,  1.06it/s]\n",
            "Processing /content/drive/MyDrive/DatasetforCL_SSC/Negative/Pair_241: 100%|██████████| 2/2 [00:02<00:00,  1.01s/it]\n",
            "Processing /content/drive/MyDrive/DatasetforCL_SSC/Negative/Pair_242: 100%|██████████| 2/2 [00:02<00:00,  1.01s/it]\n",
            "Processing /content/drive/MyDrive/DatasetforCL_SSC/Negative/Pair_243: 100%|██████████| 2/2 [00:02<00:00,  1.09s/it]\n",
            "Processing /content/drive/MyDrive/DatasetforCL_SSC/Negative/Pair_244: 100%|██████████| 2/2 [00:02<00:00,  1.19s/it]\n",
            "Processing /content/drive/MyDrive/DatasetforCL_SSC/Negative/Pair_245: 100%|██████████| 2/2 [00:02<00:00,  1.10s/it]\n",
            "Processing /content/drive/MyDrive/DatasetforCL_SSC/Negative/Pair_246: 100%|██████████| 2/2 [00:02<00:00,  1.06s/it]\n",
            "Processing /content/drive/MyDrive/DatasetforCL_SSC/Negative/Pair_247: 100%|██████████| 2/2 [00:02<00:00,  1.23s/it]\n",
            "Processing /content/drive/MyDrive/DatasetforCL_SSC/Negative/Pair_248: 100%|██████████| 2/2 [00:02<00:00,  1.07s/it]\n",
            "Processing /content/drive/MyDrive/DatasetforCL_SSC/Negative/Pair_249: 100%|██████████| 2/2 [00:02<00:00,  1.21s/it]\n",
            "Processing /content/drive/MyDrive/DatasetforCL_SSC/Negative/Pair_250: 100%|██████████| 2/2 [00:02<00:00,  1.22s/it]\n",
            "Processing /content/drive/MyDrive/DatasetforCL_SSC/Negative/Pair_251: 100%|██████████| 2/2 [00:02<00:00,  1.07s/it]\n",
            "Processing /content/drive/MyDrive/DatasetforCL_SSC/Negative/Pair_252: 100%|██████████| 2/2 [00:02<00:00,  1.20s/it]\n",
            "Processing /content/drive/MyDrive/DatasetforCL_SSC/Negative/Pair_253: 100%|██████████| 2/2 [00:02<00:00,  1.40s/it]\n",
            "Processing /content/drive/MyDrive/DatasetforCL_SSC/Negative/Pair_254: 100%|██████████| 2/2 [00:02<00:00,  1.02s/it]\n",
            "Processing /content/drive/MyDrive/DatasetforCL_SSC/Negative/Pair_255: 100%|██████████| 2/2 [00:02<00:00,  1.10s/it]\n",
            "Processing /content/drive/MyDrive/DatasetforCL_SSC/Negative/Pair_256: 100%|██████████| 2/2 [00:02<00:00,  1.02s/it]\n",
            "Processing /content/drive/MyDrive/DatasetforCL_SSC/Negative/Pair_257: 100%|██████████| 2/2 [00:02<00:00,  1.08s/it]\n",
            "Processing /content/drive/MyDrive/DatasetforCL_SSC/Negative/Pair_258: 100%|██████████| 2/2 [00:01<00:00,  1.02it/s]\n",
            "Processing /content/drive/MyDrive/DatasetforCL_SSC/Negative/Pair_259: 100%|██████████| 2/2 [00:02<00:00,  1.33s/it]\n",
            "Processing /content/drive/MyDrive/DatasetforCL_SSC/Negative/Pair_260: 100%|██████████| 2/2 [00:02<00:00,  1.06s/it]\n",
            "Processing /content/drive/MyDrive/DatasetforCL_SSC/Negative/Pair_261: 100%|██████████| 2/2 [00:02<00:00,  1.36s/it]\n",
            "Processing /content/drive/MyDrive/DatasetforCL_SSC/Negative/Pair_262: 100%|██████████| 2/2 [00:02<00:00,  1.16s/it]\n",
            "Processing /content/drive/MyDrive/DatasetforCL_SSC/Negative/Pair_263: 100%|██████████| 2/2 [00:02<00:00,  1.07s/it]\n",
            "Processing /content/drive/MyDrive/DatasetforCL_SSC/Negative/Pair_264: 100%|██████████| 2/2 [00:02<00:00,  1.13s/it]\n",
            "Processing /content/drive/MyDrive/DatasetforCL_SSC/Negative/Pair_265: 100%|██████████| 2/2 [00:02<00:00,  1.05s/it]\n",
            "Processing /content/drive/MyDrive/DatasetforCL_SSC/Negative/Pair_266: 100%|██████████| 2/2 [00:01<00:00,  1.02it/s]\n",
            "Processing /content/drive/MyDrive/DatasetforCL_SSC/Negative/Pair_267: 100%|██████████| 2/2 [00:02<00:00,  1.00s/it]\n",
            "Processing /content/drive/MyDrive/DatasetforCL_SSC/Negative/Pair_268: 100%|██████████| 2/2 [00:01<00:00,  1.07it/s]\n",
            "Processing /content/drive/MyDrive/DatasetforCL_SSC/Negative/Pair_269: 100%|██████████| 2/2 [00:02<00:00,  1.00s/it]\n",
            "Processing /content/drive/MyDrive/DatasetforCL_SSC/Negative/Pair_270: 100%|██████████| 2/2 [00:02<00:00,  1.09s/it]\n",
            "Processing /content/drive/MyDrive/DatasetforCL_SSC/Negative/Pair_271: 100%|██████████| 2/2 [00:01<00:00,  1.04it/s]\n",
            "Processing /content/drive/MyDrive/DatasetforCL_SSC/Negative/Pair_272: 100%|██████████| 2/2 [00:02<00:00,  1.01s/it]\n",
            "Processing /content/drive/MyDrive/DatasetforCL_SSC/Negative/Pair_273: 100%|██████████| 2/2 [00:01<00:00,  1.01it/s]\n",
            "Processing /content/drive/MyDrive/DatasetforCL_SSC/Negative/Pair_274: 100%|██████████| 2/2 [00:01<00:00,  1.05it/s]\n",
            "Processing /content/drive/MyDrive/DatasetforCL_SSC/Negative/Pair_275: 100%|██████████| 2/2 [00:02<00:00,  1.03s/it]\n",
            "Processing /content/drive/MyDrive/DatasetforCL_SSC/Negative/Pair_276: 100%|██████████| 2/2 [00:02<00:00,  1.10s/it]\n",
            "Processing /content/drive/MyDrive/DatasetforCL_SSC/Negative/Pair_277: 100%|██████████| 2/2 [00:02<00:00,  1.01s/it]\n",
            "Processing /content/drive/MyDrive/DatasetforCL_SSC/Negative/Pair_278: 100%|██████████| 2/2 [00:02<00:00,  1.23s/it]\n",
            "Processing /content/drive/MyDrive/DatasetforCL_SSC/Negative/Pair_279: 100%|██████████| 2/2 [00:01<00:00,  1.05it/s]\n",
            "Processing /content/drive/MyDrive/DatasetforCL_SSC/Negative/Pair_280: 100%|██████████| 2/2 [00:01<00:00,  1.20it/s]\n",
            "Processing /content/drive/MyDrive/DatasetforCL_SSC/Negative/Pair_281: 100%|██████████| 2/2 [00:01<00:00,  1.03it/s]\n",
            "Processing /content/drive/MyDrive/DatasetforCL_SSC/Negative/Pair_282: 100%|██████████| 2/2 [00:01<00:00,  1.01it/s]\n",
            "Processing /content/drive/MyDrive/DatasetforCL_SSC/Negative/Pair_283: 100%|██████████| 2/2 [00:02<00:00,  1.01s/it]\n",
            "Processing /content/drive/MyDrive/DatasetforCL_SSC/Negative/Pair_284: 100%|██████████| 2/2 [00:01<00:00,  1.09it/s]\n",
            "Processing /content/drive/MyDrive/DatasetforCL_SSC/Negative/Pair_285: 100%|██████████| 2/2 [00:02<00:00,  1.14s/it]\n",
            "Processing /content/drive/MyDrive/DatasetforCL_SSC/Negative/Pair_286: 100%|██████████| 2/2 [00:02<00:00,  1.04s/it]"
          ]
        },
        {
          "name": "stdout",
          "output_type": "stream",
          "text": [
            "Cleaned images saved to: /content/Cleaned_DatasetforSSC\n"
          ]
        },
        {
          "name": "stderr",
          "output_type": "stream",
          "text": [
            "\n"
          ]
        }
      ],
      "source": [
        "import os\n",
        "import cv2\n",
        "import easyocr\n",
        "import numpy as np\n",
        "from tqdm import tqdm\n",
        "\n",
        "reader = easyocr.Reader(['en'], gpu=True)\n",
        "\n",
        "def inpaint_text(frame, reader):\n",
        "    results = reader.readtext(frame)\n",
        "    mask = np.zeros(frame.shape[:2], dtype=\"uint8\")\n",
        "    for (bbox, text, prob) in results:\n",
        "        top_left = tuple([int(val) for val in bbox[0]])\n",
        "        bottom_right = tuple([int(val) for val in bbox[2]])\n",
        "\n",
        "        cv2.rectangle(mask, top_left, bottom_right, 255, -1)\n",
        "\n",
        "    inpainted_frame = cv2.inpaint(frame, mask, 3, cv2.INPAINT_TELEA)\n",
        "    return inpainted_frame\n",
        "\n",
        "def process_images(input_dir, output_dir, reader):\n",
        "    for root, dirs, files in os.walk(input_dir):\n",
        "        for file in tqdm(files, desc=f\"Processing {root}\"):\n",
        "            if file.endswith(('.png', '.jpg', '.jpeg')):\n",
        "                input_path = os.path.join(root, file)\n",
        "                relative_path = os.path.relpath(input_path, input_dir)\n",
        "                output_path = os.path.join(output_dir, relative_path)\n",
        "\n",
        "                os.makedirs(os.path.dirname(output_path), exist_ok=True)\n",
        "\n",
        "                img = cv2.imread(input_path)\n",
        "\n",
        "                cleaned_img = inpaint_text(img, reader)\n",
        "\n",
        "                cv2.imwrite(output_path, cleaned_img)\n",
        "\n",
        "input_directory = '/content/drive/MyDrive/DatasetforCL_SSC'\n",
        "output_directory = '/content/Cleaned_DatasetforSSC'\n",
        "\n",
        "process_images(input_directory, output_directory, reader)\n",
        "\n",
        "print(f\"Cleaned images saved to: {output_directory}\")\n"
      ]
    },
    {
      "cell_type": "code",
      "execution_count": 4,
      "metadata": {
        "id": "RxjVHOsup0rn"
      },
      "outputs": [],
      "source": [
        "import os\n",
        "import cv2\n",
        "import torch\n",
        "import torch.nn as nn\n",
        "import torch.optim as optim\n",
        "import torch.nn.functional as F\n",
        "from torchvision import models, transforms\n",
        "from torch.utils.data import Dataset, DataLoader\n",
        "from tqdm import tqdm\n",
        "import numpy as np"
      ]
    },
    {
      "cell_type": "code",
      "execution_count": 5,
      "metadata": {
        "id": "KEnK-8vKp0pZ"
      },
      "outputs": [],
      "source": [
        "def set_seed(seed):\n",
        "    np.random.seed(seed)\n",
        "    torch.manual_seed(seed)\n",
        "    torch.cuda.manual_seed_all(seed)\n",
        "    torch.backends.cudnn.deterministic = True\n",
        "    torch.backends.cudnn.benchmark = False\n",
        "\n",
        "set_seed(42)"
      ]
    },
    {
      "cell_type": "code",
      "execution_count": 6,
      "metadata": {
        "id": "HiJI-j9xqAh5"
      },
      "outputs": [],
      "source": [
        "class PairedImageDataset(torch.utils.data.Dataset):\n",
        "    def __init__(self, root_dir, transform=None):\n",
        "        self.pairs = []\n",
        "        self.labels = []\n",
        "        self.transform = transform\n",
        "\n",
        "        for label_name in ['Positive', 'Negative']:\n",
        "            label = 1 if label_name == 'Positive' else 0\n",
        "            label_dir = os.path.join(root_dir, label_name)\n",
        "            for pair_folder in os.listdir(label_dir):\n",
        "                pair_path = os.path.join(label_dir, pair_folder)\n",
        "                imgs = sorted([os.path.join(pair_path, f) for f in os.listdir(pair_path) if f.endswith(('.png', '.jpg'))])\n",
        "                if len(imgs) == 2:\n",
        "                    self.pairs.append(imgs)\n",
        "                    self.labels.append(label)\n",
        "\n",
        "    def __len__(self):\n",
        "        return len(self.pairs)\n",
        "\n",
        "    def __getitem__(self, idx):\n",
        "        img1_path, img2_path = self.pairs[idx]\n",
        "        label = self.labels[idx]\n",
        "        img1 = cv2.imread(img1_path, cv2.IMREAD_GRAYSCALE)\n",
        "        img2 = cv2.imread(img2_path, cv2.IMREAD_GRAYSCALE)\n",
        "\n",
        "        if self.transform:\n",
        "            img1 = self.transform(img1)\n",
        "            img2 = self.transform(img2)\n",
        "\n",
        "        return img1, img2, torch.tensor(label, dtype=torch.float32)\n"
      ]
    },
    {
      "cell_type": "code",
      "execution_count": 7,
      "metadata": {
        "id": "BKSBjj3rqC-B"
      },
      "outputs": [],
      "source": [
        "import torch.nn.functional as F\n",
        "\n",
        "def combined_contrastive_classification_loss(proj1, proj2, labels, class_pred1, class_pred2, margin=1.0, lambda_clf=0.5):\n",
        "    dists = F.pairwise_distance(proj1, proj2)\n",
        "\n",
        "    contrastive_loss = (1 - labels) * dists.pow(2) + \\\n",
        "                       labels * torch.clamp(margin - dists, min=0).pow(2)\n",
        "    contrastive_loss = contrastive_loss.mean()\n",
        "\n",
        "    clf_targets = labels.unsqueeze(1)\n",
        "    clf_preds = (class_pred1 + class_pred2) / 2\n",
        "    bce_loss = F.binary_cross_entropy(clf_preds, clf_targets)\n",
        "\n",
        "    total_loss = contrastive_loss + lambda_clf * bce_loss\n",
        "    return total_loss"
      ]
    },
    {
      "cell_type": "code",
      "execution_count": null,
      "metadata": {
        "id": "h4tWOysN-S0A"
      },
      "outputs": [],
      "source": [
        "# # class ResNet18ContrastiveWithClassifier(nn.Module):\n",
        "# #     def __init__(self, projection_dim=128):\n",
        "# #         super(ResNet18ContrastiveWithClassifier, self).__init__()\n",
        "# #         backbone = models.resnet18(pretrained=True)\n",
        "# #         self.backbone = nn.Sequential(*list(backbone.children())[:-1])  \n",
        "# #         self.projection_head = nn.Linear(backbone.fc.in_features, projection_dim)\n",
        "# #         self.classifier_head = nn.Linear(backbone.fc.in_features, 1)\n",
        "\n",
        "# #     def forward(self, x):\n",
        "# #         features = self.backbone(x).squeeze(-1).squeeze(-1)  \n",
        "# #         projection = self.projection_head(features)\n",
        "# #         classification = torch.sigmoid(self.classifier_head(features))\n",
        "# #         return projection, classification\n",
        "\n",
        "# class ResNet34ContrastiveWithClassifier(nn.Module):\n",
        "#     def __init__(self, projection_dim=128):\n",
        "#         super(ResNet34ContrastiveWithClassifier, self).__init__()\n",
        "#         backbone = models.resnet34(pretrained=True)\n",
        "#         self.backbone = nn.Sequential(*list(backbone.children())[:-1])  \n",
        "#         self.projection_head = nn.Linear(backbone.fc.in_features, projection_dim)\n",
        "#         self.classifier_head = nn.Linear(backbone.fc.in_features, 1)\n",
        "\n",
        "#     def forward(self, x):\n",
        "#         features = self.backbone(x).squeeze(-1).squeeze(-1)  # shape: (B, 512)\n",
        "#         projection = self.projection_head(features)\n",
        "#         classification = torch.sigmoid(self.classifier_head(features))\n",
        "#         return projection, classification\n",
        "\n",
        "# from torchvision.models import efficientnet_b0, EfficientNet_B0_Weights\n",
        "\n",
        "# class EfficientNetB0ContrastiveWithClassifier(nn.Module):\n",
        "#     def __init__(self, projection_dim=128):\n",
        "#         super(EfficientNetB0ContrastiveWithClassifier, self).__init__()\n",
        "#         backbone = efficientnet_b0(weights=EfficientNet_B0_Weights.IMAGENET1K_V1)\n",
        "#         self.backbone_features = backbone.features\n",
        "#         self.pooling = backbone.avgpool  # Global average pooling layer\n",
        "\n",
        "#         self.feature_dim = 1280\n",
        "\n",
        "#         self.projection_head = nn.Linear(self.feature_dim, projection_dim)\n",
        "\n",
        "#         self.classifier_head = nn.Linear(self.feature_dim, 1)\n",
        "\n",
        "#     def forward(self, x):\n",
        "#         features = self.backbone_features(x)\n",
        "#         features = self.pooling(features)\n",
        "#         features = features.flatten(start_dim=1)  \n",
        "\n",
        "#         projection = self.projection_head(features)\n",
        "#         classification = torch.sigmoid(self.classifier_head(features))\n",
        "\n",
        "#         return projection, classification\n",
        "\n",
        "class DenseNet121ContrastiveWithClassifier(nn.Module):\n",
        "    def __init__(self, projection_dim=128):\n",
        "        super(DenseNet121ContrastiveWithClassifier, self).__init__()\n",
        "        densenet = models.densenet121(pretrained=True)\n",
        "        self.features = densenet.features  \n",
        "        self.avgpool = nn.AdaptiveAvgPool2d((1, 1))\n",
        "        self.feature_dim = 1024  \n",
        "\n",
        "        self.projection_head = nn.Linear(self.feature_dim, projection_dim)\n",
        "        self.classifier_head = nn.Linear(self.feature_dim, 1)\n",
        "\n",
        "    def forward(self, x):\n",
        "        x = self.features(x)\n",
        "        x = self.avgpool(x)\n",
        "        x = torch.flatten(x, 1)  \n",
        "        projection = self.projection_head(x)\n",
        "        classification = torch.sigmoid(self.classifier_head(x))\n",
        "        return projection, classification\n"
      ]
    },
    {
      "cell_type": "code",
      "execution_count": null,
      "metadata": {
        "id": "MfUn9ne2qFKu"
      },
      "outputs": [],
      "source": [
        "# class ResNet34Encoder(nn.Module):\n",
        "#     def __init__(self):\n",
        "#         super(ResNet34Encoder, self).__init__()\n",
        "#         base_model = models.resnet34(pretrained=True)\n",
        "#         self.backbone = nn.Sequential(*list(base_model.children())[:-1])  \n",
        "#         self.embedding = nn.Linear(512, 128)  \n",
        "\n",
        "#     def forward(self, x):\n",
        "#         x = self.backbone(x).squeeze()\n",
        "#         x = self.embedding(x)\n",
        "#         return F.normalize(x, p=2, dim=1)\n",
        "\n"
      ]
    },
    {
      "cell_type": "code",
      "execution_count": null,
      "metadata": {
        "id": "Z-Zo3oSaqHfJ"
      },
      "outputs": [],
      "source": [
        "transform = transforms.Compose([\n",
        "    transforms.ToPILImage(),\n",
        "    transforms.Resize((224, 224)),\n",
        "    transforms.Grayscale(num_output_channels=3), \n",
        "    transforms.Normalize([0.5]*3, [0.5]*3)\n",
        "])"
      ]
    },
    {
      "cell_type": "code",
      "execution_count": 16,
      "metadata": {
        "colab": {
          "base_uri": "https://localhost:8080/"
        },
        "id": "OnBKjbqfqIvk",
        "outputId": "ad1a8cea-0cac-4179-b5cf-03137dc00685"
      },
      "outputs": [
        {
          "name": "stderr",
          "output_type": "stream",
          "text": [
            "/usr/local/lib/python3.11/dist-packages/torchvision/models/_utils.py:208: UserWarning: The parameter 'pretrained' is deprecated since 0.13 and may be removed in the future, please use 'weights' instead.\n",
            "  warnings.warn(\n",
            "/usr/local/lib/python3.11/dist-packages/torchvision/models/_utils.py:223: UserWarning: Arguments other than a weight enum or `None` for 'weights' are deprecated since 0.13 and may be removed in the future. The current behavior is equivalent to passing `weights=DenseNet121_Weights.IMAGENET1K_V1`. You can also use `weights=DenseNet121_Weights.DEFAULT` to get the most up-to-date weights.\n",
            "  warnings.warn(msg)\n",
            "Downloading: \"https://download.pytorch.org/models/densenet121-a639ec97.pth\" to /root/.cache/torch/hub/checkpoints/densenet121-a639ec97.pth\n",
            "100%|██████████| 30.8M/30.8M [00:00<00:00, 135MB/s]\n"
          ]
        }
      ],
      "source": [
        "train_dataset = PairedImageDataset('/content/Cleaned_DatasetforSSC', transform=transform)\n",
        "train_loader = DataLoader(train_dataset, batch_size=32, shuffle=True)\n",
        "\n",
        "# model = ResNet18ContrastiveWithClassifier().cuda()\n",
        "#model = ResNet34ContrastiveWithClassifier().cuda()\n",
        "#model = EfficientNetB0ContrastiveWithClassifier().cuda()\n",
        "model = DenseNet121ContrastiveWithClassifier().cuda()\n",
        "optimizer = optim.Adam(model.parameters(), lr=1e-4)\n"
      ]
    },
    {
      "cell_type": "code",
      "execution_count": null,
      "metadata": {
        "colab": {
          "base_uri": "https://localhost:8080/"
        },
        "id": "0w3CF474qKGy",
        "outputId": "68b03fac-5429-4eda-93f3-b4ac6e5cefaf"
      },
      "outputs": [
        {
          "name": "stderr",
          "output_type": "stream",
          "text": [
            "100%|██████████| 18/18 [00:14<00:00,  1.26it/s]\n"
          ]
        },
        {
          "name": "stdout",
          "output_type": "stream",
          "text": [
            "Epoch 1/100, Loss: 93.7419\n"
          ]
        },
        {
          "name": "stderr",
          "output_type": "stream",
          "text": [
            "100%|██████████| 18/18 [00:13<00:00,  1.29it/s]\n"
          ]
        },
        {
          "name": "stdout",
          "output_type": "stream",
          "text": [
            "Epoch 2/100, Loss: 16.9506\n"
          ]
        },
        {
          "name": "stderr",
          "output_type": "stream",
          "text": [
            "100%|██████████| 18/18 [00:13<00:00,  1.30it/s]\n"
          ]
        },
        {
          "name": "stdout",
          "output_type": "stream",
          "text": [
            "Epoch 3/100, Loss: 11.0527\n"
          ]
        },
        {
          "name": "stderr",
          "output_type": "stream",
          "text": [
            "100%|██████████| 18/18 [00:13<00:00,  1.30it/s]\n"
          ]
        },
        {
          "name": "stdout",
          "output_type": "stream",
          "text": [
            "Epoch 4/100, Loss: 10.1401\n"
          ]
        },
        {
          "name": "stderr",
          "output_type": "stream",
          "text": [
            "100%|██████████| 18/18 [00:13<00:00,  1.30it/s]\n"
          ]
        },
        {
          "name": "stdout",
          "output_type": "stream",
          "text": [
            "Epoch 5/100, Loss: 9.6353\n"
          ]
        },
        {
          "name": "stderr",
          "output_type": "stream",
          "text": [
            "100%|██████████| 18/18 [00:13<00:00,  1.30it/s]\n"
          ]
        },
        {
          "name": "stdout",
          "output_type": "stream",
          "text": [
            "Epoch 6/100, Loss: 9.2610\n"
          ]
        },
        {
          "name": "stderr",
          "output_type": "stream",
          "text": [
            "100%|██████████| 18/18 [00:13<00:00,  1.29it/s]\n"
          ]
        },
        {
          "name": "stdout",
          "output_type": "stream",
          "text": [
            "Epoch 7/100, Loss: 9.0361\n"
          ]
        },
        {
          "name": "stderr",
          "output_type": "stream",
          "text": [
            "100%|██████████| 18/18 [00:13<00:00,  1.30it/s]\n"
          ]
        },
        {
          "name": "stdout",
          "output_type": "stream",
          "text": [
            "Epoch 8/100, Loss: 8.5957\n"
          ]
        },
        {
          "name": "stderr",
          "output_type": "stream",
          "text": [
            "100%|██████████| 18/18 [00:13<00:00,  1.30it/s]\n"
          ]
        },
        {
          "name": "stdout",
          "output_type": "stream",
          "text": [
            "Epoch 9/100, Loss: 8.4641\n"
          ]
        },
        {
          "name": "stderr",
          "output_type": "stream",
          "text": [
            "100%|██████████| 18/18 [00:13<00:00,  1.30it/s]\n"
          ]
        },
        {
          "name": "stdout",
          "output_type": "stream",
          "text": [
            "Epoch 10/100, Loss: 8.1677\n"
          ]
        },
        {
          "name": "stderr",
          "output_type": "stream",
          "text": [
            "100%|██████████| 18/18 [00:13<00:00,  1.29it/s]\n"
          ]
        },
        {
          "name": "stdout",
          "output_type": "stream",
          "text": [
            "Epoch 11/100, Loss: 7.8688\n"
          ]
        },
        {
          "name": "stderr",
          "output_type": "stream",
          "text": [
            "100%|██████████| 18/18 [00:13<00:00,  1.29it/s]\n"
          ]
        },
        {
          "name": "stdout",
          "output_type": "stream",
          "text": [
            "Epoch 12/100, Loss: 7.4948\n"
          ]
        },
        {
          "name": "stderr",
          "output_type": "stream",
          "text": [
            "100%|██████████| 18/18 [00:13<00:00,  1.30it/s]\n"
          ]
        },
        {
          "name": "stdout",
          "output_type": "stream",
          "text": [
            "Epoch 13/100, Loss: 7.2714\n"
          ]
        },
        {
          "name": "stderr",
          "output_type": "stream",
          "text": [
            "100%|██████████| 18/18 [00:13<00:00,  1.29it/s]\n"
          ]
        },
        {
          "name": "stdout",
          "output_type": "stream",
          "text": [
            "Epoch 14/100, Loss: 7.1378\n"
          ]
        },
        {
          "name": "stderr",
          "output_type": "stream",
          "text": [
            "100%|██████████| 18/18 [00:14<00:00,  1.28it/s]\n"
          ]
        },
        {
          "name": "stdout",
          "output_type": "stream",
          "text": [
            "Epoch 15/100, Loss: 6.8313\n"
          ]
        },
        {
          "name": "stderr",
          "output_type": "stream",
          "text": [
            "100%|██████████| 18/18 [00:13<00:00,  1.29it/s]\n"
          ]
        },
        {
          "name": "stdout",
          "output_type": "stream",
          "text": [
            "Epoch 16/100, Loss: 6.6338\n"
          ]
        },
        {
          "name": "stderr",
          "output_type": "stream",
          "text": [
            "100%|██████████| 18/18 [00:13<00:00,  1.29it/s]\n"
          ]
        },
        {
          "name": "stdout",
          "output_type": "stream",
          "text": [
            "Epoch 17/100, Loss: 6.4797\n"
          ]
        },
        {
          "name": "stderr",
          "output_type": "stream",
          "text": [
            "100%|██████████| 18/18 [00:13<00:00,  1.29it/s]\n"
          ]
        },
        {
          "name": "stdout",
          "output_type": "stream",
          "text": [
            "Epoch 18/100, Loss: 6.2474\n"
          ]
        },
        {
          "name": "stderr",
          "output_type": "stream",
          "text": [
            "100%|██████████| 18/18 [00:14<00:00,  1.27it/s]\n"
          ]
        },
        {
          "name": "stdout",
          "output_type": "stream",
          "text": [
            "Epoch 19/100, Loss: 6.0393\n"
          ]
        },
        {
          "name": "stderr",
          "output_type": "stream",
          "text": [
            "100%|██████████| 18/18 [00:13<00:00,  1.30it/s]\n"
          ]
        },
        {
          "name": "stdout",
          "output_type": "stream",
          "text": [
            "Epoch 20/100, Loss: 5.8909\n"
          ]
        },
        {
          "name": "stderr",
          "output_type": "stream",
          "text": [
            "100%|██████████| 18/18 [00:13<00:00,  1.29it/s]\n"
          ]
        },
        {
          "name": "stdout",
          "output_type": "stream",
          "text": [
            "Epoch 21/100, Loss: 5.6394\n"
          ]
        },
        {
          "name": "stderr",
          "output_type": "stream",
          "text": [
            "100%|██████████| 18/18 [00:13<00:00,  1.29it/s]\n"
          ]
        },
        {
          "name": "stdout",
          "output_type": "stream",
          "text": [
            "Epoch 22/100, Loss: 5.4937\n"
          ]
        },
        {
          "name": "stderr",
          "output_type": "stream",
          "text": [
            "100%|██████████| 18/18 [00:13<00:00,  1.30it/s]\n"
          ]
        },
        {
          "name": "stdout",
          "output_type": "stream",
          "text": [
            "Epoch 23/100, Loss: 5.3274\n"
          ]
        },
        {
          "name": "stderr",
          "output_type": "stream",
          "text": [
            "100%|██████████| 18/18 [00:14<00:00,  1.28it/s]\n"
          ]
        },
        {
          "name": "stdout",
          "output_type": "stream",
          "text": [
            "Epoch 24/100, Loss: 5.1564\n"
          ]
        },
        {
          "name": "stderr",
          "output_type": "stream",
          "text": [
            "100%|██████████| 18/18 [00:13<00:00,  1.30it/s]\n"
          ]
        },
        {
          "name": "stdout",
          "output_type": "stream",
          "text": [
            "Epoch 25/100, Loss: 4.8269\n"
          ]
        },
        {
          "name": "stderr",
          "output_type": "stream",
          "text": [
            "100%|██████████| 18/18 [00:13<00:00,  1.30it/s]\n"
          ]
        },
        {
          "name": "stdout",
          "output_type": "stream",
          "text": [
            "Epoch 26/100, Loss: 4.5032\n"
          ]
        },
        {
          "name": "stderr",
          "output_type": "stream",
          "text": [
            "100%|██████████| 18/18 [00:14<00:00,  1.28it/s]\n"
          ]
        },
        {
          "name": "stdout",
          "output_type": "stream",
          "text": [
            "Epoch 27/100, Loss: 4.2146\n"
          ]
        },
        {
          "name": "stderr",
          "output_type": "stream",
          "text": [
            "100%|██████████| 18/18 [00:14<00:00,  1.28it/s]\n"
          ]
        },
        {
          "name": "stdout",
          "output_type": "stream",
          "text": [
            "Epoch 28/100, Loss: 3.8628\n"
          ]
        },
        {
          "name": "stderr",
          "output_type": "stream",
          "text": [
            "100%|██████████| 18/18 [00:13<00:00,  1.29it/s]\n"
          ]
        },
        {
          "name": "stdout",
          "output_type": "stream",
          "text": [
            "Epoch 29/100, Loss: 3.5413\n"
          ]
        },
        {
          "name": "stderr",
          "output_type": "stream",
          "text": [
            "100%|██████████| 18/18 [00:13<00:00,  1.29it/s]\n"
          ]
        },
        {
          "name": "stdout",
          "output_type": "stream",
          "text": [
            "Epoch 30/100, Loss: 3.0758\n"
          ]
        },
        {
          "name": "stderr",
          "output_type": "stream",
          "text": [
            "100%|██████████| 18/18 [00:13<00:00,  1.30it/s]\n"
          ]
        },
        {
          "name": "stdout",
          "output_type": "stream",
          "text": [
            "Epoch 31/100, Loss: 2.9815\n"
          ]
        },
        {
          "name": "stderr",
          "output_type": "stream",
          "text": [
            "100%|██████████| 18/18 [00:14<00:00,  1.28it/s]\n"
          ]
        },
        {
          "name": "stdout",
          "output_type": "stream",
          "text": [
            "Epoch 32/100, Loss: 2.9984\n"
          ]
        },
        {
          "name": "stderr",
          "output_type": "stream",
          "text": [
            "100%|██████████| 18/18 [00:14<00:00,  1.27it/s]\n"
          ]
        },
        {
          "name": "stdout",
          "output_type": "stream",
          "text": [
            "Epoch 33/100, Loss: 2.3097\n"
          ]
        },
        {
          "name": "stderr",
          "output_type": "stream",
          "text": [
            "100%|██████████| 18/18 [00:14<00:00,  1.28it/s]\n"
          ]
        },
        {
          "name": "stdout",
          "output_type": "stream",
          "text": [
            "Epoch 34/100, Loss: 2.0112\n"
          ]
        },
        {
          "name": "stderr",
          "output_type": "stream",
          "text": [
            "100%|██████████| 18/18 [00:14<00:00,  1.28it/s]\n"
          ]
        },
        {
          "name": "stdout",
          "output_type": "stream",
          "text": [
            "Epoch 35/100, Loss: 2.0373\n"
          ]
        },
        {
          "name": "stderr",
          "output_type": "stream",
          "text": [
            "100%|██████████| 18/18 [00:14<00:00,  1.27it/s]\n"
          ]
        },
        {
          "name": "stdout",
          "output_type": "stream",
          "text": [
            "Epoch 36/100, Loss: 1.7689\n"
          ]
        },
        {
          "name": "stderr",
          "output_type": "stream",
          "text": [
            "100%|██████████| 18/18 [00:14<00:00,  1.28it/s]\n"
          ]
        },
        {
          "name": "stdout",
          "output_type": "stream",
          "text": [
            "Epoch 37/100, Loss: 1.6685\n"
          ]
        },
        {
          "name": "stderr",
          "output_type": "stream",
          "text": [
            "100%|██████████| 18/18 [00:14<00:00,  1.28it/s]\n"
          ]
        },
        {
          "name": "stdout",
          "output_type": "stream",
          "text": [
            "Epoch 38/100, Loss: 1.5255\n"
          ]
        },
        {
          "name": "stderr",
          "output_type": "stream",
          "text": [
            "100%|██████████| 18/18 [00:14<00:00,  1.27it/s]\n"
          ]
        },
        {
          "name": "stdout",
          "output_type": "stream",
          "text": [
            "Epoch 39/100, Loss: 1.5116\n"
          ]
        },
        {
          "name": "stderr",
          "output_type": "stream",
          "text": [
            "100%|██████████| 18/18 [00:14<00:00,  1.27it/s]\n"
          ]
        },
        {
          "name": "stdout",
          "output_type": "stream",
          "text": [
            "Epoch 40/100, Loss: 1.3750\n"
          ]
        },
        {
          "name": "stderr",
          "output_type": "stream",
          "text": [
            "100%|██████████| 18/18 [00:14<00:00,  1.28it/s]\n"
          ]
        },
        {
          "name": "stdout",
          "output_type": "stream",
          "text": [
            "Epoch 41/100, Loss: 1.2235\n"
          ]
        },
        {
          "name": "stderr",
          "output_type": "stream",
          "text": [
            "100%|██████████| 18/18 [00:14<00:00,  1.27it/s]\n"
          ]
        },
        {
          "name": "stdout",
          "output_type": "stream",
          "text": [
            "Epoch 42/100, Loss: 1.2352\n"
          ]
        },
        {
          "name": "stderr",
          "output_type": "stream",
          "text": [
            "100%|██████████| 18/18 [00:14<00:00,  1.27it/s]\n"
          ]
        },
        {
          "name": "stdout",
          "output_type": "stream",
          "text": [
            "Epoch 43/100, Loss: 1.0825\n"
          ]
        },
        {
          "name": "stderr",
          "output_type": "stream",
          "text": [
            "100%|██████████| 18/18 [00:14<00:00,  1.28it/s]\n"
          ]
        },
        {
          "name": "stdout",
          "output_type": "stream",
          "text": [
            "Epoch 44/100, Loss: 1.0872\n"
          ]
        },
        {
          "name": "stderr",
          "output_type": "stream",
          "text": [
            "100%|██████████| 18/18 [00:14<00:00,  1.28it/s]\n"
          ]
        },
        {
          "name": "stdout",
          "output_type": "stream",
          "text": [
            "Epoch 45/100, Loss: 0.9805\n"
          ]
        },
        {
          "name": "stderr",
          "output_type": "stream",
          "text": [
            "100%|██████████| 18/18 [00:14<00:00,  1.28it/s]\n"
          ]
        },
        {
          "name": "stdout",
          "output_type": "stream",
          "text": [
            "Epoch 46/100, Loss: 0.9059\n"
          ]
        },
        {
          "name": "stderr",
          "output_type": "stream",
          "text": [
            "100%|██████████| 18/18 [00:14<00:00,  1.28it/s]\n"
          ]
        },
        {
          "name": "stdout",
          "output_type": "stream",
          "text": [
            "Epoch 47/100, Loss: 1.1598\n"
          ]
        },
        {
          "name": "stderr",
          "output_type": "stream",
          "text": [
            "100%|██████████| 18/18 [00:14<00:00,  1.27it/s]\n"
          ]
        },
        {
          "name": "stdout",
          "output_type": "stream",
          "text": [
            "Epoch 48/100, Loss: 1.2245\n"
          ]
        },
        {
          "name": "stderr",
          "output_type": "stream",
          "text": [
            "100%|██████████| 18/18 [00:14<00:00,  1.28it/s]\n"
          ]
        },
        {
          "name": "stdout",
          "output_type": "stream",
          "text": [
            "Epoch 49/100, Loss: 0.8968\n"
          ]
        },
        {
          "name": "stderr",
          "output_type": "stream",
          "text": [
            "100%|██████████| 18/18 [00:14<00:00,  1.27it/s]\n"
          ]
        },
        {
          "name": "stdout",
          "output_type": "stream",
          "text": [
            "Epoch 50/100, Loss: 0.9716\n"
          ]
        },
        {
          "name": "stderr",
          "output_type": "stream",
          "text": [
            "100%|██████████| 18/18 [00:14<00:00,  1.28it/s]\n"
          ]
        },
        {
          "name": "stdout",
          "output_type": "stream",
          "text": [
            "Epoch 51/100, Loss: 0.9450\n"
          ]
        },
        {
          "name": "stderr",
          "output_type": "stream",
          "text": [
            "100%|██████████| 18/18 [00:14<00:00,  1.28it/s]\n"
          ]
        },
        {
          "name": "stdout",
          "output_type": "stream",
          "text": [
            "Epoch 52/100, Loss: 0.9815\n"
          ]
        },
        {
          "name": "stderr",
          "output_type": "stream",
          "text": [
            "100%|██████████| 18/18 [00:14<00:00,  1.28it/s]\n"
          ]
        },
        {
          "name": "stdout",
          "output_type": "stream",
          "text": [
            "Epoch 53/100, Loss: 0.9780\n"
          ]
        },
        {
          "name": "stderr",
          "output_type": "stream",
          "text": [
            "100%|██████████| 18/18 [00:13<00:00,  1.30it/s]\n"
          ]
        },
        {
          "name": "stdout",
          "output_type": "stream",
          "text": [
            "Epoch 54/100, Loss: 0.8455\n"
          ]
        },
        {
          "name": "stderr",
          "output_type": "stream",
          "text": [
            "100%|██████████| 18/18 [00:13<00:00,  1.30it/s]\n"
          ]
        },
        {
          "name": "stdout",
          "output_type": "stream",
          "text": [
            "Epoch 55/100, Loss: 0.7892\n"
          ]
        },
        {
          "name": "stderr",
          "output_type": "stream",
          "text": [
            "100%|██████████| 18/18 [00:13<00:00,  1.30it/s]\n"
          ]
        },
        {
          "name": "stdout",
          "output_type": "stream",
          "text": [
            "Epoch 56/100, Loss: 0.7653\n"
          ]
        },
        {
          "name": "stderr",
          "output_type": "stream",
          "text": [
            "100%|██████████| 18/18 [00:14<00:00,  1.26it/s]\n"
          ]
        },
        {
          "name": "stdout",
          "output_type": "stream",
          "text": [
            "Epoch 57/100, Loss: 0.7133\n"
          ]
        },
        {
          "name": "stderr",
          "output_type": "stream",
          "text": [
            "100%|██████████| 18/18 [00:14<00:00,  1.28it/s]\n"
          ]
        },
        {
          "name": "stdout",
          "output_type": "stream",
          "text": [
            "Epoch 58/100, Loss: 1.0816\n"
          ]
        },
        {
          "name": "stderr",
          "output_type": "stream",
          "text": [
            "100%|██████████| 18/18 [00:14<00:00,  1.27it/s]\n"
          ]
        },
        {
          "name": "stdout",
          "output_type": "stream",
          "text": [
            "Epoch 59/100, Loss: 0.7777\n"
          ]
        },
        {
          "name": "stderr",
          "output_type": "stream",
          "text": [
            "100%|██████████| 18/18 [00:14<00:00,  1.27it/s]\n"
          ]
        },
        {
          "name": "stdout",
          "output_type": "stream",
          "text": [
            "Epoch 60/100, Loss: 0.7927\n"
          ]
        },
        {
          "name": "stderr",
          "output_type": "stream",
          "text": [
            "100%|██████████| 18/18 [00:14<00:00,  1.28it/s]\n"
          ]
        },
        {
          "name": "stdout",
          "output_type": "stream",
          "text": [
            "Epoch 61/100, Loss: 0.6731\n"
          ]
        },
        {
          "name": "stderr",
          "output_type": "stream",
          "text": [
            "100%|██████████| 18/18 [00:14<00:00,  1.28it/s]\n"
          ]
        },
        {
          "name": "stdout",
          "output_type": "stream",
          "text": [
            "Epoch 62/100, Loss: 0.6039\n"
          ]
        },
        {
          "name": "stderr",
          "output_type": "stream",
          "text": [
            "100%|██████████| 18/18 [00:14<00:00,  1.28it/s]\n"
          ]
        },
        {
          "name": "stdout",
          "output_type": "stream",
          "text": [
            "Epoch 63/100, Loss: 0.5932\n"
          ]
        },
        {
          "name": "stderr",
          "output_type": "stream",
          "text": [
            "100%|██████████| 18/18 [00:14<00:00,  1.28it/s]\n"
          ]
        },
        {
          "name": "stdout",
          "output_type": "stream",
          "text": [
            "Epoch 64/100, Loss: 0.6822\n"
          ]
        },
        {
          "name": "stderr",
          "output_type": "stream",
          "text": [
            "100%|██████████| 18/18 [00:14<00:00,  1.28it/s]\n"
          ]
        },
        {
          "name": "stdout",
          "output_type": "stream",
          "text": [
            "Epoch 65/100, Loss: 0.6743\n"
          ]
        },
        {
          "name": "stderr",
          "output_type": "stream",
          "text": [
            "100%|██████████| 18/18 [00:14<00:00,  1.28it/s]\n"
          ]
        },
        {
          "name": "stdout",
          "output_type": "stream",
          "text": [
            "Epoch 66/100, Loss: 0.7659\n"
          ]
        },
        {
          "name": "stderr",
          "output_type": "stream",
          "text": [
            "100%|██████████| 18/18 [00:14<00:00,  1.28it/s]\n"
          ]
        },
        {
          "name": "stdout",
          "output_type": "stream",
          "text": [
            "Epoch 67/100, Loss: 0.8260\n"
          ]
        },
        {
          "name": "stderr",
          "output_type": "stream",
          "text": [
            "100%|██████████| 18/18 [00:14<00:00,  1.28it/s]\n"
          ]
        },
        {
          "name": "stdout",
          "output_type": "stream",
          "text": [
            "Epoch 68/100, Loss: 0.6474\n"
          ]
        },
        {
          "name": "stderr",
          "output_type": "stream",
          "text": [
            "100%|██████████| 18/18 [00:14<00:00,  1.28it/s]\n"
          ]
        },
        {
          "name": "stdout",
          "output_type": "stream",
          "text": [
            "Epoch 69/100, Loss: 0.6100\n"
          ]
        },
        {
          "name": "stderr",
          "output_type": "stream",
          "text": [
            "100%|██████████| 18/18 [00:14<00:00,  1.27it/s]\n"
          ]
        },
        {
          "name": "stdout",
          "output_type": "stream",
          "text": [
            "Epoch 70/100, Loss: 0.6769\n"
          ]
        },
        {
          "name": "stderr",
          "output_type": "stream",
          "text": [
            "100%|██████████| 18/18 [00:14<00:00,  1.27it/s]\n"
          ]
        },
        {
          "name": "stdout",
          "output_type": "stream",
          "text": [
            "Epoch 71/100, Loss: 0.7047\n"
          ]
        },
        {
          "name": "stderr",
          "output_type": "stream",
          "text": [
            "100%|██████████| 18/18 [00:14<00:00,  1.28it/s]\n"
          ]
        },
        {
          "name": "stdout",
          "output_type": "stream",
          "text": [
            "Epoch 72/100, Loss: 1.1498\n"
          ]
        },
        {
          "name": "stderr",
          "output_type": "stream",
          "text": [
            "100%|██████████| 18/18 [00:14<00:00,  1.27it/s]\n"
          ]
        },
        {
          "name": "stdout",
          "output_type": "stream",
          "text": [
            "Epoch 73/100, Loss: 0.8577\n"
          ]
        },
        {
          "name": "stderr",
          "output_type": "stream",
          "text": [
            "100%|██████████| 18/18 [00:14<00:00,  1.28it/s]\n"
          ]
        },
        {
          "name": "stdout",
          "output_type": "stream",
          "text": [
            "Epoch 74/100, Loss: 0.8960\n"
          ]
        },
        {
          "name": "stderr",
          "output_type": "stream",
          "text": [
            "100%|██████████| 18/18 [00:14<00:00,  1.28it/s]\n"
          ]
        },
        {
          "name": "stdout",
          "output_type": "stream",
          "text": [
            "Epoch 75/100, Loss: 0.6568\n"
          ]
        },
        {
          "name": "stderr",
          "output_type": "stream",
          "text": [
            "100%|██████████| 18/18 [00:14<00:00,  1.28it/s]\n"
          ]
        },
        {
          "name": "stdout",
          "output_type": "stream",
          "text": [
            "Epoch 76/100, Loss: 0.7738\n"
          ]
        },
        {
          "name": "stderr",
          "output_type": "stream",
          "text": [
            "100%|██████████| 18/18 [00:14<00:00,  1.28it/s]\n"
          ]
        },
        {
          "name": "stdout",
          "output_type": "stream",
          "text": [
            "Epoch 77/100, Loss: 0.6395\n"
          ]
        },
        {
          "name": "stderr",
          "output_type": "stream",
          "text": [
            "100%|██████████| 18/18 [00:14<00:00,  1.28it/s]\n"
          ]
        },
        {
          "name": "stdout",
          "output_type": "stream",
          "text": [
            "Epoch 78/100, Loss: 0.6709\n"
          ]
        },
        {
          "name": "stderr",
          "output_type": "stream",
          "text": [
            "100%|██████████| 18/18 [00:13<00:00,  1.30it/s]\n"
          ]
        },
        {
          "name": "stdout",
          "output_type": "stream",
          "text": [
            "Epoch 79/100, Loss: 0.7125\n"
          ]
        },
        {
          "name": "stderr",
          "output_type": "stream",
          "text": [
            "100%|██████████| 18/18 [00:13<00:00,  1.30it/s]\n"
          ]
        },
        {
          "name": "stdout",
          "output_type": "stream",
          "text": [
            "Epoch 80/100, Loss: 0.6235\n"
          ]
        },
        {
          "name": "stderr",
          "output_type": "stream",
          "text": [
            "100%|██████████| 18/18 [00:13<00:00,  1.29it/s]\n"
          ]
        },
        {
          "name": "stdout",
          "output_type": "stream",
          "text": [
            "Epoch 81/100, Loss: 0.5924\n"
          ]
        },
        {
          "name": "stderr",
          "output_type": "stream",
          "text": [
            "100%|██████████| 18/18 [00:14<00:00,  1.28it/s]\n"
          ]
        },
        {
          "name": "stdout",
          "output_type": "stream",
          "text": [
            "Epoch 82/100, Loss: 0.7077\n"
          ]
        },
        {
          "name": "stderr",
          "output_type": "stream",
          "text": [
            "100%|██████████| 18/18 [00:14<00:00,  1.27it/s]\n"
          ]
        },
        {
          "name": "stdout",
          "output_type": "stream",
          "text": [
            "Epoch 83/100, Loss: 0.7515\n"
          ]
        },
        {
          "name": "stderr",
          "output_type": "stream",
          "text": [
            "100%|██████████| 18/18 [00:14<00:00,  1.28it/s]\n"
          ]
        },
        {
          "name": "stdout",
          "output_type": "stream",
          "text": [
            "Epoch 84/100, Loss: 0.5496\n"
          ]
        },
        {
          "name": "stderr",
          "output_type": "stream",
          "text": [
            "100%|██████████| 18/18 [00:14<00:00,  1.28it/s]\n"
          ]
        },
        {
          "name": "stdout",
          "output_type": "stream",
          "text": [
            "Epoch 85/100, Loss: 0.5394\n"
          ]
        },
        {
          "name": "stderr",
          "output_type": "stream",
          "text": [
            "100%|██████████| 18/18 [00:14<00:00,  1.27it/s]\n"
          ]
        },
        {
          "name": "stdout",
          "output_type": "stream",
          "text": [
            "Epoch 86/100, Loss: 0.5782\n"
          ]
        },
        {
          "name": "stderr",
          "output_type": "stream",
          "text": [
            "100%|██████████| 18/18 [00:14<00:00,  1.27it/s]\n"
          ]
        },
        {
          "name": "stdout",
          "output_type": "stream",
          "text": [
            "Epoch 87/100, Loss: 0.7262\n"
          ]
        },
        {
          "name": "stderr",
          "output_type": "stream",
          "text": [
            "100%|██████████| 18/18 [00:14<00:00,  1.27it/s]\n"
          ]
        },
        {
          "name": "stdout",
          "output_type": "stream",
          "text": [
            "Epoch 88/100, Loss: 0.7004\n"
          ]
        },
        {
          "name": "stderr",
          "output_type": "stream",
          "text": [
            "100%|██████████| 18/18 [00:14<00:00,  1.27it/s]\n"
          ]
        },
        {
          "name": "stdout",
          "output_type": "stream",
          "text": [
            "Epoch 89/100, Loss: 0.6291\n"
          ]
        },
        {
          "name": "stderr",
          "output_type": "stream",
          "text": [
            "100%|██████████| 18/18 [00:14<00:00,  1.27it/s]\n"
          ]
        },
        {
          "name": "stdout",
          "output_type": "stream",
          "text": [
            "Epoch 90/100, Loss: 0.5824\n"
          ]
        },
        {
          "name": "stderr",
          "output_type": "stream",
          "text": [
            "100%|██████████| 18/18 [00:14<00:00,  1.27it/s]\n"
          ]
        },
        {
          "name": "stdout",
          "output_type": "stream",
          "text": [
            "Epoch 91/100, Loss: 0.6432\n"
          ]
        },
        {
          "name": "stderr",
          "output_type": "stream",
          "text": [
            "100%|██████████| 18/18 [00:14<00:00,  1.28it/s]\n"
          ]
        },
        {
          "name": "stdout",
          "output_type": "stream",
          "text": [
            "Epoch 92/100, Loss: 0.6871\n"
          ]
        },
        {
          "name": "stderr",
          "output_type": "stream",
          "text": [
            "100%|██████████| 18/18 [00:14<00:00,  1.28it/s]\n"
          ]
        },
        {
          "name": "stdout",
          "output_type": "stream",
          "text": [
            "Epoch 93/100, Loss: 0.5329\n"
          ]
        },
        {
          "name": "stderr",
          "output_type": "stream",
          "text": [
            "100%|██████████| 18/18 [00:14<00:00,  1.28it/s]\n"
          ]
        },
        {
          "name": "stdout",
          "output_type": "stream",
          "text": [
            "Epoch 94/100, Loss: 0.4642\n"
          ]
        },
        {
          "name": "stderr",
          "output_type": "stream",
          "text": [
            "100%|██████████| 18/18 [00:14<00:00,  1.28it/s]\n"
          ]
        },
        {
          "name": "stdout",
          "output_type": "stream",
          "text": [
            "Epoch 95/100, Loss: 0.4610\n"
          ]
        },
        {
          "name": "stderr",
          "output_type": "stream",
          "text": [
            "100%|██████████| 18/18 [00:14<00:00,  1.27it/s]\n"
          ]
        },
        {
          "name": "stdout",
          "output_type": "stream",
          "text": [
            "Epoch 96/100, Loss: 0.4386\n"
          ]
        },
        {
          "name": "stderr",
          "output_type": "stream",
          "text": [
            "100%|██████████| 18/18 [00:14<00:00,  1.27it/s]\n"
          ]
        },
        {
          "name": "stdout",
          "output_type": "stream",
          "text": [
            "Epoch 97/100, Loss: 1.1864\n"
          ]
        },
        {
          "name": "stderr",
          "output_type": "stream",
          "text": [
            "100%|██████████| 18/18 [00:14<00:00,  1.28it/s]\n"
          ]
        },
        {
          "name": "stdout",
          "output_type": "stream",
          "text": [
            "Epoch 98/100, Loss: 3.0386\n"
          ]
        },
        {
          "name": "stderr",
          "output_type": "stream",
          "text": [
            "100%|██████████| 18/18 [00:14<00:00,  1.28it/s]\n"
          ]
        },
        {
          "name": "stdout",
          "output_type": "stream",
          "text": [
            "Epoch 99/100, Loss: 2.2668\n"
          ]
        },
        {
          "name": "stderr",
          "output_type": "stream",
          "text": [
            "100%|██████████| 18/18 [00:14<00:00,  1.28it/s]"
          ]
        },
        {
          "name": "stdout",
          "output_type": "stream",
          "text": [
            "Epoch 100/100, Loss: 2.2307\n"
          ]
        },
        {
          "name": "stderr",
          "output_type": "stream",
          "text": [
            "\n"
          ]
        }
      ],
      "source": [
        "# num_epochs = 100\n",
        "\n",
        "# model.train()\n",
        "\n",
        "# for epoch in range(num_epochs):\n",
        "#     epoch_loss = 0\n",
        "#     for img1, img2, labels in tqdm(train_loader):\n",
        "#         img1, img2, labels = img1.cuda(), img2.cuda(), labels.cuda()\n",
        "\n",
        "#         proj1, clf1 = model(img1)\n",
        "#         proj2, clf2 = model(img2)\n",
        "\n",
        "#         loss = combined_contrastive_classification_loss(proj1, proj2, labels, clf1, clf2)\n",
        "\n",
        "#         optimizer.zero_grad()\n",
        "#         loss.backward()\n",
        "#         optimizer.step()\n",
        "#         epoch_loss += loss.item()\n",
        "\n",
        "#     print(f\"Epoch {epoch+1}/{num_epochs}, Loss: {epoch_loss:.4f}\")\n",
        "\n",
        "# torch.save(model.state_dict(), '/content/trained_resnet34_contrastive_with_classifier_ssl.pth')\n",
        "\n",
        "num_epochs = 100\n",
        "model.train()\n",
        "\n",
        "for epoch in range(num_epochs):\n",
        "    epoch_loss = 0\n",
        "    for img1, img2, labels in tqdm(train_loader):\n",
        "        img1, img2, labels = img1.cuda(), img2.cuda(), labels.cuda()\n",
        "\n",
        "        proj1, clf1 = model(img1)\n",
        "        proj2, clf2 = model(img2)\n",
        "\n",
        "        loss = combined_contrastive_classification_loss(proj1, proj2, labels, clf1, clf2)\n",
        "\n",
        "        optimizer.zero_grad()\n",
        "        loss.backward()\n",
        "        optimizer.step()\n",
        "        epoch_loss += loss.item()\n",
        "\n",
        "    print(f\"Epoch {epoch+1}/{num_epochs}, Loss: {epoch_loss:.4f}\")\n",
        "\n",
        "torch.save(model.state_dict(), '/content/trained_densenet121_contrastive_with_classifier_ssl.pth')"
      ]
    }
  ],
  "metadata": {
    "accelerator": "GPU",
    "colab": {
      "gpuType": "L4",
      "provenance": []
    },
    "kernelspec": {
      "display_name": "Python 3",
      "name": "python3"
    },
    "language_info": {
      "name": "python"
    }
  },
  "nbformat": 4,
  "nbformat_minor": 0
}
